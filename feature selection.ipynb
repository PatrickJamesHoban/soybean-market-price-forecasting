{
 "cells": [
  {
   "cell_type": "markdown",
   "metadata": {},
   "source": [
    "# HW3 Question2"
   ]
  },
  {
   "cell_type": "code",
   "execution_count": 1,
   "metadata": {},
   "outputs": [],
   "source": [
    "import pandas as pd\n",
    "from sklearn.model_selection import cross_val_score, train_test_split, RandomizedSearchCV\n",
    "from sklearn.model_selection import GridSearchCV, cross_val_score, KFold\n",
    "from sklearn.preprocessing import LabelEncoder\n",
    "import matplotlib.pyplot as plt\n",
    "%matplotlib inline\n",
    "import seaborn as sns\n",
    "import numpy as np\n",
    "from sklearn.metrics import confusion_matrix, classification_report\n",
    "from sklearn.metrics import accuracy_score, roc_curve, auc\n",
    "from sklearn.metrics import make_scorer\n",
    "from sklearn.externals.six import StringIO  \n",
    "dot_data = StringIO()\n",
    "from sklearn.preprocessing import StandardScaler, OneHotEncoder, label_binarize\n",
    "import warnings\n",
    "warnings.filterwarnings('ignore')\n",
    "from scipy import interp\n",
    "from itertools import cycle\n",
    "from sklearn import tree\n",
    "from sklearn import linear_model\n",
    "from sklearn.neighbors import KNeighborsClassifier\n",
    "from sklearn.naive_bayes import GaussianNB, MultinomialNB, BernoulliNB\n",
    "from sklearn.svm import SVC\n",
    "import scikitplot as skplt\n",
    "import matplotlib as mpl\n",
    "from sklearn.ensemble import RandomForestClassifier\n",
    "from sklearn.ensemble import GradientBoostingClassifier\n",
    "#import lightgbm\n",
    "from xgboost import XGBClassifier"
   ]
  },
  {
   "cell_type": "code",
   "execution_count": 22,
   "metadata": {},
   "outputs": [],
   "source": [
    "data = pd.read_csv('/Users/yuxuanwang/Desktop/competition/model/3contrat.csv',index_col=['Time'])"
   ]
  },
  {
   "cell_type": "code",
   "execution_count": 23,
   "metadata": {},
   "outputs": [
    {
     "data": {
      "text/html": [
       "<div>\n",
       "<style scoped>\n",
       "    .dataframe tbody tr th:only-of-type {\n",
       "        vertical-align: middle;\n",
       "    }\n",
       "\n",
       "    .dataframe tbody tr th {\n",
       "        vertical-align: top;\n",
       "    }\n",
       "\n",
       "    .dataframe thead th {\n",
       "        text-align: right;\n",
       "    }\n",
       "</style>\n",
       "<table border=\"1\" class=\"dataframe\">\n",
       "  <thead>\n",
       "    <tr style=\"text-align: right;\">\n",
       "      <th></th>\n",
       "      <th>Close</th>\n",
       "      <th>Price_cny</th>\n",
       "      <th>Price_eur</th>\n",
       "      <th>Price_inr</th>\n",
       "      <th>Price_brl</th>\n",
       "      <th>Price_mxn</th>\n",
       "      <th>sent_china</th>\n",
       "      <th>sent_farm</th>\n",
       "      <th>sent_agri</th>\n",
       "      <th>avg_temp</th>\n",
       "      <th>...</th>\n",
       "      <th>Soybean_Imports</th>\n",
       "      <th>Soybean_Exports</th>\n",
       "      <th>soyoil_imports</th>\n",
       "      <th>soyoil_exports</th>\n",
       "      <th>US_Dollar_Index</th>\n",
       "      <th>RapesPrice</th>\n",
       "      <th>SunflowerPrice</th>\n",
       "      <th>CottonseedPrice</th>\n",
       "      <th>Corn_Price</th>\n",
       "      <th>Fertilizer_Price</th>\n",
       "    </tr>\n",
       "    <tr>\n",
       "      <th>Time</th>\n",
       "      <th></th>\n",
       "      <th></th>\n",
       "      <th></th>\n",
       "      <th></th>\n",
       "      <th></th>\n",
       "      <th></th>\n",
       "      <th></th>\n",
       "      <th></th>\n",
       "      <th></th>\n",
       "      <th></th>\n",
       "      <th></th>\n",
       "      <th></th>\n",
       "      <th></th>\n",
       "      <th></th>\n",
       "      <th></th>\n",
       "      <th></th>\n",
       "      <th></th>\n",
       "      <th></th>\n",
       "      <th></th>\n",
       "      <th></th>\n",
       "      <th></th>\n",
       "    </tr>\n",
       "  </thead>\n",
       "  <tbody>\n",
       "    <tr>\n",
       "      <th>2017-11-15</th>\n",
       "      <td>985.0</td>\n",
       "      <td>6.6235</td>\n",
       "      <td>0.8481</td>\n",
       "      <td>65.270</td>\n",
       "      <td>3.3133</td>\n",
       "      <td>19.2510</td>\n",
       "      <td>-0.50</td>\n",
       "      <td>0.0</td>\n",
       "      <td>0.0</td>\n",
       "      <td>42.397890</td>\n",
       "      <td>...</td>\n",
       "      <td>1428</td>\n",
       "      <td>337644</td>\n",
       "      <td>3</td>\n",
       "      <td>2</td>\n",
       "      <td>115</td>\n",
       "      <td>377.50</td>\n",
       "      <td>110</td>\n",
       "      <td>84</td>\n",
       "      <td>338.25</td>\n",
       "      <td>1269.87</td>\n",
       "    </tr>\n",
       "    <tr>\n",
       "      <th>2017-11-16</th>\n",
       "      <td>983.0</td>\n",
       "      <td>6.6307</td>\n",
       "      <td>0.8496</td>\n",
       "      <td>65.295</td>\n",
       "      <td>3.2740</td>\n",
       "      <td>19.0590</td>\n",
       "      <td>1.25</td>\n",
       "      <td>0.0</td>\n",
       "      <td>0.0</td>\n",
       "      <td>35.473987</td>\n",
       "      <td>...</td>\n",
       "      <td>1428</td>\n",
       "      <td>337644</td>\n",
       "      <td>3</td>\n",
       "      <td>2</td>\n",
       "      <td>111</td>\n",
       "      <td>379.00</td>\n",
       "      <td>103</td>\n",
       "      <td>85</td>\n",
       "      <td>336.50</td>\n",
       "      <td>1285.48</td>\n",
       "    </tr>\n",
       "    <tr>\n",
       "      <th>2017-11-17</th>\n",
       "      <td>996.5</td>\n",
       "      <td>6.6268</td>\n",
       "      <td>0.8478</td>\n",
       "      <td>65.015</td>\n",
       "      <td>3.2574</td>\n",
       "      <td>18.9140</td>\n",
       "      <td>0.00</td>\n",
       "      <td>0.0</td>\n",
       "      <td>0.0</td>\n",
       "      <td>41.314295</td>\n",
       "      <td>...</td>\n",
       "      <td>1428</td>\n",
       "      <td>337644</td>\n",
       "      <td>3</td>\n",
       "      <td>2</td>\n",
       "      <td>101</td>\n",
       "      <td>378.75</td>\n",
       "      <td>106</td>\n",
       "      <td>90</td>\n",
       "      <td>343.00</td>\n",
       "      <td>1282.79</td>\n",
       "    </tr>\n",
       "    <tr>\n",
       "      <th>2017-11-20</th>\n",
       "      <td>998.5</td>\n",
       "      <td>6.6350</td>\n",
       "      <td>0.8524</td>\n",
       "      <td>65.100</td>\n",
       "      <td>3.2574</td>\n",
       "      <td>18.9937</td>\n",
       "      <td>0.00</td>\n",
       "      <td>0.0</td>\n",
       "      <td>0.0</td>\n",
       "      <td>38.586274</td>\n",
       "      <td>...</td>\n",
       "      <td>1428</td>\n",
       "      <td>337644</td>\n",
       "      <td>3</td>\n",
       "      <td>2</td>\n",
       "      <td>109</td>\n",
       "      <td>375.25</td>\n",
       "      <td>117</td>\n",
       "      <td>100</td>\n",
       "      <td>345.00</td>\n",
       "      <td>1282.16</td>\n",
       "    </tr>\n",
       "    <tr>\n",
       "      <th>2017-11-21</th>\n",
       "      <td>998.0</td>\n",
       "      <td>6.6296</td>\n",
       "      <td>0.8519</td>\n",
       "      <td>64.880</td>\n",
       "      <td>3.2588</td>\n",
       "      <td>18.7745</td>\n",
       "      <td>0.00</td>\n",
       "      <td>0.0</td>\n",
       "      <td>0.0</td>\n",
       "      <td>37.409954</td>\n",
       "      <td>...</td>\n",
       "      <td>1428</td>\n",
       "      <td>337644</td>\n",
       "      <td>3</td>\n",
       "      <td>2</td>\n",
       "      <td>100</td>\n",
       "      <td>375.75</td>\n",
       "      <td>127</td>\n",
       "      <td>91</td>\n",
       "      <td>345.00</td>\n",
       "      <td>1294.32</td>\n",
       "    </tr>\n",
       "  </tbody>\n",
       "</table>\n",
       "<p>5 rows × 21 columns</p>\n",
       "</div>"
      ],
      "text/plain": [
       "            Close  Price_cny  Price_eur  Price_inr  Price_brl  Price_mxn  \\\n",
       "Time                                                                       \n",
       "2017-11-15  985.0     6.6235     0.8481     65.270     3.3133    19.2510   \n",
       "2017-11-16  983.0     6.6307     0.8496     65.295     3.2740    19.0590   \n",
       "2017-11-17  996.5     6.6268     0.8478     65.015     3.2574    18.9140   \n",
       "2017-11-20  998.5     6.6350     0.8524     65.100     3.2574    18.9937   \n",
       "2017-11-21  998.0     6.6296     0.8519     64.880     3.2588    18.7745   \n",
       "\n",
       "            sent_china  sent_farm  sent_agri   avg_temp  ...  Soybean_Imports  \\\n",
       "Time                                                     ...                    \n",
       "2017-11-15       -0.50        0.0        0.0  42.397890  ...             1428   \n",
       "2017-11-16        1.25        0.0        0.0  35.473987  ...             1428   \n",
       "2017-11-17        0.00        0.0        0.0  41.314295  ...             1428   \n",
       "2017-11-20        0.00        0.0        0.0  38.586274  ...             1428   \n",
       "2017-11-21        0.00        0.0        0.0  37.409954  ...             1428   \n",
       "\n",
       "            Soybean_Exports  soyoil_imports  soyoil_exports  US_Dollar_Index  \\\n",
       "Time                                                                           \n",
       "2017-11-15           337644               3               2              115   \n",
       "2017-11-16           337644               3               2              111   \n",
       "2017-11-17           337644               3               2              101   \n",
       "2017-11-20           337644               3               2              109   \n",
       "2017-11-21           337644               3               2              100   \n",
       "\n",
       "            RapesPrice  SunflowerPrice  CottonseedPrice  Corn_Price  \\\n",
       "Time                                                                  \n",
       "2017-11-15      377.50             110               84      338.25   \n",
       "2017-11-16      379.00             103               85      336.50   \n",
       "2017-11-17      378.75             106               90      343.00   \n",
       "2017-11-20      375.25             117              100      345.00   \n",
       "2017-11-21      375.75             127               91      345.00   \n",
       "\n",
       "            Fertilizer_Price  \n",
       "Time                          \n",
       "2017-11-15           1269.87  \n",
       "2017-11-16           1285.48  \n",
       "2017-11-17           1282.79  \n",
       "2017-11-20           1282.16  \n",
       "2017-11-21           1294.32  \n",
       "\n",
       "[5 rows x 21 columns]"
      ]
     },
     "execution_count": 23,
     "metadata": {},
     "output_type": "execute_result"
    }
   ],
   "source": [
    "data.head()"
   ]
  },
  {
   "cell_type": "code",
   "execution_count": 19,
   "metadata": {},
   "outputs": [],
   "source": [
    "from sklearn.ensemble import RandomForestRegressor"
   ]
  },
  {
   "cell_type": "code",
   "execution_count": 26,
   "metadata": {},
   "outputs": [
    {
     "data": {
      "text/plain": [
       "['Time',\n",
       " 'Close',\n",
       " 'Price_cny',\n",
       " 'Price_eur',\n",
       " 'Price_inr',\n",
       " 'Price_brl',\n",
       " 'Price_mxn',\n",
       " 'sent_china',\n",
       " 'sent_farm',\n",
       " 'sent_agri',\n",
       " 'avg_temp',\n",
       " 'avg_prcp',\n",
       " 'Soybean_Imports',\n",
       " 'Soybean_Exports',\n",
       " 'soyoil_imports',\n",
       " 'soyoil_exports',\n",
       " 'US_Dollar_Index',\n",
       " 'RapesPrice',\n",
       " 'SunflowerPrice',\n",
       " 'CottonseedPrice',\n",
       " 'Corn_Price',\n",
       " 'Fertilizer_Price']"
      ]
     },
     "execution_count": 26,
     "metadata": {},
     "output_type": "execute_result"
    }
   ],
   "source": [
    "df = data.reset_index(drop = False)\n",
    "df\n",
    "columns2 = df.columns.tolist()\n",
    "columns2"
   ]
  },
  {
   "cell_type": "code",
   "execution_count": 28,
   "metadata": {},
   "outputs": [
    {
     "data": {
      "text/plain": [
       "['Price_cny',\n",
       " 'Price_eur',\n",
       " 'Price_inr',\n",
       " 'Price_brl',\n",
       " 'Price_mxn',\n",
       " 'sent_china',\n",
       " 'sent_farm',\n",
       " 'sent_agri',\n",
       " 'avg_temp',\n",
       " 'avg_prcp',\n",
       " 'Soybean_Imports',\n",
       " 'Soybean_Exports',\n",
       " 'soyoil_imports',\n",
       " 'soyoil_exports',\n",
       " 'US_Dollar_Index',\n",
       " 'RapesPrice',\n",
       " 'SunflowerPrice',\n",
       " 'CottonseedPrice',\n",
       " 'Corn_Price',\n",
       " 'Fertilizer_Price']"
      ]
     },
     "execution_count": 28,
     "metadata": {},
     "output_type": "execute_result"
    }
   ],
   "source": [
    "columns2 = [c for c in columns2 if c not in['Time','Close']]\n",
    "columns2"
   ]
  },
  {
   "cell_type": "code",
   "execution_count": 30,
   "metadata": {},
   "outputs": [
    {
     "data": {
      "text/plain": [
       "'Close'"
      ]
     },
     "execution_count": 30,
     "metadata": {},
     "output_type": "execute_result"
    }
   ],
   "source": [
    "target ='Close'\n",
    "target"
   ]
  },
  {
   "cell_type": "code",
   "execution_count": 33,
   "metadata": {},
   "outputs": [],
   "source": [
    "train2 = df.sample(frac=0.8, random_state=1)\n",
    "test2 = df.loc[~df.index.isin(train2.index)]"
   ]
  },
  {
   "cell_type": "code",
   "execution_count": 34,
   "metadata": {},
   "outputs": [
    {
     "name": "stdout",
     "output_type": "stream",
     "text": [
      "(396, 22)\n",
      "(99, 22)\n"
     ]
    }
   ],
   "source": [
    "print(train2.shape) #need to have same number of features only difference should be obs\n",
    "print(test2.shape)"
   ]
  },
  {
   "cell_type": "code",
   "execution_count": 56,
   "metadata": {},
   "outputs": [],
   "source": [
    "model = RandomForestRegressor(random_state=1)"
   ]
  },
  {
   "cell_type": "code",
   "execution_count": 55,
   "metadata": {},
   "outputs": [
    {
     "data": {
      "text/plain": [
       "411     918.75\n",
       "107     993.75\n",
       "165     896.00\n",
       "197     906.50\n",
       "320     964.00\n",
       "164     887.00\n",
       "464     908.75\n",
       "173     919.50\n",
       "34      988.00\n",
       "326     953.75\n",
       "67     1007.25\n",
       "85     1003.00\n",
       "260     955.75\n",
       "230     963.75\n",
       "445     885.25\n",
       "323     961.00\n",
       "394     926.25\n",
       "300     976.00\n",
       "159     924.00\n",
       "213     929.50\n",
       "344     943.00\n",
       "31      986.25\n",
       "366     883.50\n",
       "285     975.00\n",
       "192     927.50\n",
       "128     997.75\n",
       "341     937.25\n",
       "437     914.00\n",
       "142     975.75\n",
       "307     976.50\n",
       "        ...   \n",
       "57     1000.25\n",
       "301     972.00\n",
       "378     878.25\n",
       "359     915.00\n",
       "36      985.75\n",
       "443     900.25\n",
       "20      984.00\n",
       "435     916.00\n",
       "332     948.75\n",
       "75     1012.50\n",
       "200     913.00\n",
       "77     1001.75\n",
       "263     967.25\n",
       "488     958.50\n",
       "149     926.75\n",
       "434     907.50\n",
       "2       996.50\n",
       "52      999.75\n",
       "262     956.25\n",
       "253     955.00\n",
       "452     901.75\n",
       "259     945.75\n",
       "333     956.50\n",
       "369     873.25\n",
       "321     964.00\n",
       "183     949.25\n",
       "151     917.50\n",
       "485     959.00\n",
       "302     973.25\n",
       "190     941.00\n",
       "Name: Close, Length: 396, dtype: float64"
      ]
     },
     "execution_count": 55,
     "metadata": {},
     "output_type": "execute_result"
    }
   ],
   "source": []
  },
  {
   "cell_type": "code",
   "execution_count": 57,
   "metadata": {},
   "outputs": [
    {
     "data": {
      "text/plain": [
       "RandomForestRegressor(bootstrap=True, criterion='mse', max_depth=None,\n",
       "           max_features='auto', max_leaf_nodes=None,\n",
       "           min_impurity_decrease=0.0, min_impurity_split=None,\n",
       "           min_samples_leaf=1, min_samples_split=2,\n",
       "           min_weight_fraction_leaf=0.0, n_estimators=10, n_jobs=None,\n",
       "           oob_score=False, random_state=1, verbose=0, warm_start=False)"
      ]
     },
     "execution_count": 57,
     "metadata": {},
     "output_type": "execute_result"
    }
   ],
   "source": [
    "model.fit(train2[columns2], train2[target])"
   ]
  },
  {
   "cell_type": "code",
   "execution_count": 58,
   "metadata": {},
   "outputs": [],
   "source": [
    "predictions_rf = model.predict(test2[columns2])"
   ]
  },
  {
   "cell_type": "code",
   "execution_count": 59,
   "metadata": {},
   "outputs": [
    {
     "data": {
      "text/plain": [
       "Index(['Time', 'Close', 'Price_cny', 'Price_eur', 'Price_inr', 'Price_brl',\n",
       "       'Price_mxn', 'sent_china', 'sent_farm', 'sent_agri', 'avg_temp',\n",
       "       'avg_prcp', 'Soybean_Imports', 'Soybean_Exports', 'soyoil_imports',\n",
       "       'soyoil_exports', 'US_Dollar_Index', 'RapesPrice', 'SunflowerPrice',\n",
       "       'CottonseedPrice', 'Corn_Price', 'Fertilizer_Price'],\n",
       "      dtype='object')"
      ]
     },
     "execution_count": 59,
     "metadata": {},
     "output_type": "execute_result"
    }
   ],
   "source": [
    "df.columns"
   ]
  },
  {
   "cell_type": "code",
   "execution_count": 60,
   "metadata": {},
   "outputs": [
    {
     "data": {
      "text/plain": [
       "Text(0.5, 0, 'Relative Importance')"
      ]
     },
     "execution_count": 60,
     "metadata": {},
     "output_type": "execute_result"
    },
    {
     "data": {
      "image/png": "[encoded data removed]",
      "text/plain": [
       "<Figure size 432x288 with 1 Axes>"
      ]
     },
     "metadata": {
      "needs_background": "light"
     },
     "output_type": "display_data"
    }
   ],
   "source": [
    "features=df.columns[2:]\n",
    "importances = model.feature_importances_\n",
    "indices = np.argsort(importances)\n",
    "\n",
    "plt.figure(1)\n",
    "plt.title('Feature Importances')\n",
    "plt.barh(range(len(indices)), importances[indices], color='b', align='center')\n",
    "plt.yticks(range(len(indices)), features[indices])\n",
    "plt.xlabel('Relative Importance')"
   ]
  },
  {
   "cell_type": "code",
   "execution_count": 62,
   "metadata": {},
   "outputs": [
    {
     "data": {
      "text/plain": [
       "Index(['Price_cny', 'Price_eur', 'Price_inr', 'Price_brl', 'Price_mxn',\n",
       "       'sent_china', 'sent_farm', 'sent_agri', 'avg_temp', 'avg_prcp',\n",
       "       'Soybean_Imports', 'Soybean_Exports', 'soyoil_imports',\n",
       "       'soyoil_exports', 'US_Dollar_Index', 'RapesPrice', 'SunflowerPrice',\n",
       "       'CottonseedPrice', 'Corn_Price', 'Fertilizer_Price'],\n",
       "      dtype='object')"
      ]
     },
     "execution_count": 62,
     "metadata": {},
     "output_type": "execute_result"
    }
   ],
   "source": [
    "features"
   ]
  },
  {
   "cell_type": "code",
   "execution_count": 72,
   "metadata": {},
   "outputs": [],
   "source": [
    "np.set_printoptions(precision = 5, suppress = True)"
   ]
  },
  {
   "cell_type": "code",
   "execution_count": 73,
   "metadata": {},
   "outputs": [
    {
     "name": "stdout",
     "output_type": "stream",
     "text": [
      "[0.00798 0.00723 0.00177 0.03321 0.01766 0.00058 0.0016  0.00003 0.20037\n",
      " 0.00294 0.00146 0.00051 0.00217 0.00142 0.60414 0.00987 0.01983 0.0261\n",
      " 0.04162 0.01951]\n"
     ]
    }
   ],
   "source": [
    "print(importances)"
   ]
  },
  {
   "cell_type": "code",
   "execution_count": 7,
   "metadata": {},
   "outputs": [],
   "source": [
    "# split data into features and target\n",
    "X = data.iloc[:, 1:]\n",
    "Y = data.iloc[:, 0]\n",
    "X_train, X_test, y_train, y_test = train_test_split(X, Y, test_size=0.2, random_state=42)"
   ]
  },
  {
   "cell_type": "code",
   "execution_count": 9,
   "metadata": {},
   "outputs": [
    {
     "data": {
      "text/plain": [
       "(495, 20)"
      ]
     },
     "execution_count": 9,
     "metadata": {},
     "output_type": "execute_result"
    }
   ],
   "source": [
    "X.shape"
   ]
  },
  {
   "cell_type": "code",
   "execution_count": 10,
   "metadata": {},
   "outputs": [],
   "source": [
    "# normalization\n",
    "sc = StandardScaler()\n",
    "X_train = sc.fit_transform(X_train)\n",
    "X_test = sc.transform(X_test)"
   ]
  },
  {
   "cell_type": "code",
   "execution_count": 15,
   "metadata": {},
   "outputs": [
    {
     "data": {
      "text/plain": [
       "RangeIndex(start=0, stop=20, step=1)"
      ]
     },
     "execution_count": 15,
     "metadata": {},
     "output_type": "execute_result"
    }
   ],
   "source": [
    "index = pd.DataFrame(X_train).columns"
   ]
  },
  {
   "cell_type": "markdown",
   "metadata": {},
   "source": [
    "# Feature Selection Using Different Methods"
   ]
  },
  {
   "cell_type": "code",
   "execution_count": 11,
   "metadata": {},
   "outputs": [],
   "source": [
    "from sklearn.linear_model import LogisticRegression\n",
    "from sklearn.feature_selection import SelectFromModel"
   ]
  },
  {
   "cell_type": "code",
   "execution_count": 12,
   "metadata": {},
   "outputs": [
    {
     "ename": "ValueError",
     "evalue": "Unknown label type: 'continuous'",
     "output_type": "error",
     "traceback": [
      "\u001b[0;31m---------------------------------------------------------------------------\u001b[0m",
      "\u001b[0;31mValueError\u001b[0m                                Traceback (most recent call last)",
      "\u001b[0;32m<ipython-input-12-2be39a3c2272>\u001b[0m in \u001b[0;36m<module>\u001b[0;34m\u001b[0m\n\u001b[1;32m      1\u001b[0m \u001b[0;31m# Using Lasso\u001b[0m\u001b[0;34m\u001b[0m\u001b[0;34m\u001b[0m\u001b[0;34m\u001b[0m\u001b[0m\n\u001b[0;32m----> 2\u001b[0;31m \u001b[0mX_train_lasso\u001b[0m \u001b[0;34m=\u001b[0m \u001b[0mSelectFromModel\u001b[0m\u001b[0;34m(\u001b[0m\u001b[0mLogisticRegression\u001b[0m\u001b[0;34m(\u001b[0m\u001b[0mpenalty\u001b[0m\u001b[0;34m=\u001b[0m\u001b[0;34m\"l1\"\u001b[0m\u001b[0;34m,\u001b[0m \u001b[0mC\u001b[0m\u001b[0;34m=\u001b[0m\u001b[0;36m0.1\u001b[0m\u001b[0;34m)\u001b[0m\u001b[0;34m)\u001b[0m\u001b[0;34m.\u001b[0m\u001b[0mfit_transform\u001b[0m\u001b[0;34m(\u001b[0m\u001b[0mX_train\u001b[0m\u001b[0;34m,\u001b[0m \u001b[0my_train\u001b[0m\u001b[0;34m)\u001b[0m\u001b[0;34m\u001b[0m\u001b[0;34m\u001b[0m\u001b[0m\n\u001b[0m\u001b[1;32m      3\u001b[0m \u001b[0mreg\u001b[0m \u001b[0;34m=\u001b[0m \u001b[0mLogisticRegression\u001b[0m\u001b[0;34m(\u001b[0m\u001b[0mpenalty\u001b[0m\u001b[0;34m=\u001b[0m\u001b[0;34m\"l1\"\u001b[0m\u001b[0;34m,\u001b[0m \u001b[0mC\u001b[0m\u001b[0;34m=\u001b[0m\u001b[0;36m0.1\u001b[0m\u001b[0;34m)\u001b[0m\u001b[0;34m.\u001b[0m\u001b[0mfit\u001b[0m\u001b[0;34m(\u001b[0m\u001b[0mX_train\u001b[0m\u001b[0;34m,\u001b[0m \u001b[0my_train\u001b[0m\u001b[0;34m)\u001b[0m\u001b[0;34m\u001b[0m\u001b[0;34m\u001b[0m\u001b[0m\n\u001b[1;32m      4\u001b[0m \u001b[0mcoef\u001b[0m \u001b[0;34m=\u001b[0m \u001b[0mpd\u001b[0m\u001b[0;34m.\u001b[0m\u001b[0mSeries\u001b[0m\u001b[0;34m(\u001b[0m\u001b[0mreg\u001b[0m\u001b[0;34m.\u001b[0m\u001b[0mcoef_\u001b[0m\u001b[0;34m[\u001b[0m\u001b[0;36m0\u001b[0m\u001b[0;34m]\u001b[0m\u001b[0;34m,\u001b[0m \u001b[0mindex\u001b[0m \u001b[0;34m=\u001b[0m \u001b[0mpd\u001b[0m\u001b[0;34m.\u001b[0m\u001b[0mDataFrame\u001b[0m\u001b[0;34m(\u001b[0m\u001b[0mX_train\u001b[0m\u001b[0;34m)\u001b[0m\u001b[0;34m.\u001b[0m\u001b[0mcolumns\u001b[0m\u001b[0;34m)\u001b[0m\u001b[0;34m\u001b[0m\u001b[0;34m\u001b[0m\u001b[0m\n\u001b[1;32m      5\u001b[0m \u001b[0mX_test_lasso\u001b[0m \u001b[0;34m=\u001b[0m \u001b[0mX_test\u001b[0m\u001b[0;34m[\u001b[0m\u001b[0;34m:\u001b[0m\u001b[0;34m,\u001b[0m \u001b[0mcoef\u001b[0m \u001b[0;34m!=\u001b[0m \u001b[0;36m0\u001b[0m\u001b[0;34m]\u001b[0m\u001b[0;34m\u001b[0m\u001b[0;34m\u001b[0m\u001b[0m\n",
      "\u001b[0;32m/anaconda3/lib/python3.7/site-packages/sklearn/base.py\u001b[0m in \u001b[0;36mfit_transform\u001b[0;34m(self, X, y, **fit_params)\u001b[0m\n\u001b[1;32m    465\u001b[0m         \u001b[0;32melse\u001b[0m\u001b[0;34m:\u001b[0m\u001b[0;34m\u001b[0m\u001b[0;34m\u001b[0m\u001b[0m\n\u001b[1;32m    466\u001b[0m             \u001b[0;31m# fit method of arity 2 (supervised transformation)\u001b[0m\u001b[0;34m\u001b[0m\u001b[0;34m\u001b[0m\u001b[0;34m\u001b[0m\u001b[0m\n\u001b[0;32m--> 467\u001b[0;31m             \u001b[0;32mreturn\u001b[0m \u001b[0mself\u001b[0m\u001b[0;34m.\u001b[0m\u001b[0mfit\u001b[0m\u001b[0;34m(\u001b[0m\u001b[0mX\u001b[0m\u001b[0;34m,\u001b[0m \u001b[0my\u001b[0m\u001b[0;34m,\u001b[0m \u001b[0;34m**\u001b[0m\u001b[0mfit_params\u001b[0m\u001b[0;34m)\u001b[0m\u001b[0;34m.\u001b[0m\u001b[0mtransform\u001b[0m\u001b[0;34m(\u001b[0m\u001b[0mX\u001b[0m\u001b[0;34m)\u001b[0m\u001b[0;34m\u001b[0m\u001b[0;34m\u001b[0m\u001b[0m\n\u001b[0m\u001b[1;32m    468\u001b[0m \u001b[0;34m\u001b[0m\u001b[0m\n\u001b[1;32m    469\u001b[0m \u001b[0;34m\u001b[0m\u001b[0m\n",
      "\u001b[0;32m/anaconda3/lib/python3.7/site-packages/sklearn/feature_selection/from_model.py\u001b[0m in \u001b[0;36mfit\u001b[0;34m(self, X, y, **fit_params)\u001b[0m\n\u001b[1;32m    195\u001b[0m                 \"Since 'prefit=True', call transform directly\")\n\u001b[1;32m    196\u001b[0m         \u001b[0mself\u001b[0m\u001b[0;34m.\u001b[0m\u001b[0mestimator_\u001b[0m \u001b[0;34m=\u001b[0m \u001b[0mclone\u001b[0m\u001b[0;34m(\u001b[0m\u001b[0mself\u001b[0m\u001b[0;34m.\u001b[0m\u001b[0mestimator\u001b[0m\u001b[0;34m)\u001b[0m\u001b[0;34m\u001b[0m\u001b[0;34m\u001b[0m\u001b[0m\n\u001b[0;32m--> 197\u001b[0;31m         \u001b[0mself\u001b[0m\u001b[0;34m.\u001b[0m\u001b[0mestimator_\u001b[0m\u001b[0;34m.\u001b[0m\u001b[0mfit\u001b[0m\u001b[0;34m(\u001b[0m\u001b[0mX\u001b[0m\u001b[0;34m,\u001b[0m \u001b[0my\u001b[0m\u001b[0;34m,\u001b[0m \u001b[0;34m**\u001b[0m\u001b[0mfit_params\u001b[0m\u001b[0;34m)\u001b[0m\u001b[0;34m\u001b[0m\u001b[0;34m\u001b[0m\u001b[0m\n\u001b[0m\u001b[1;32m    198\u001b[0m         \u001b[0;32mreturn\u001b[0m \u001b[0mself\u001b[0m\u001b[0;34m\u001b[0m\u001b[0;34m\u001b[0m\u001b[0m\n\u001b[1;32m    199\u001b[0m \u001b[0;34m\u001b[0m\u001b[0m\n",
      "\u001b[0;32m/anaconda3/lib/python3.7/site-packages/sklearn/linear_model/logistic.py\u001b[0m in \u001b[0;36mfit\u001b[0;34m(self, X, y, sample_weight)\u001b[0m\n\u001b[1;32m   1287\u001b[0m         X, y = check_X_y(X, y, accept_sparse='csr', dtype=_dtype, order=\"C\",\n\u001b[1;32m   1288\u001b[0m                          accept_large_sparse=solver != 'liblinear')\n\u001b[0;32m-> 1289\u001b[0;31m         \u001b[0mcheck_classification_targets\u001b[0m\u001b[0;34m(\u001b[0m\u001b[0my\u001b[0m\u001b[0;34m)\u001b[0m\u001b[0;34m\u001b[0m\u001b[0;34m\u001b[0m\u001b[0m\n\u001b[0m\u001b[1;32m   1290\u001b[0m         \u001b[0mself\u001b[0m\u001b[0;34m.\u001b[0m\u001b[0mclasses_\u001b[0m \u001b[0;34m=\u001b[0m \u001b[0mnp\u001b[0m\u001b[0;34m.\u001b[0m\u001b[0munique\u001b[0m\u001b[0;34m(\u001b[0m\u001b[0my\u001b[0m\u001b[0;34m)\u001b[0m\u001b[0;34m\u001b[0m\u001b[0;34m\u001b[0m\u001b[0m\n\u001b[1;32m   1291\u001b[0m         \u001b[0mn_samples\u001b[0m\u001b[0;34m,\u001b[0m \u001b[0mn_features\u001b[0m \u001b[0;34m=\u001b[0m \u001b[0mX\u001b[0m\u001b[0;34m.\u001b[0m\u001b[0mshape\u001b[0m\u001b[0;34m\u001b[0m\u001b[0;34m\u001b[0m\u001b[0m\n",
      "\u001b[0;32m/anaconda3/lib/python3.7/site-packages/sklearn/utils/multiclass.py\u001b[0m in \u001b[0;36mcheck_classification_targets\u001b[0;34m(y)\u001b[0m\n\u001b[1;32m    169\u001b[0m     if y_type not in ['binary', 'multiclass', 'multiclass-multioutput',\n\u001b[1;32m    170\u001b[0m                       'multilabel-indicator', 'multilabel-sequences']:\n\u001b[0;32m--> 171\u001b[0;31m         \u001b[0;32mraise\u001b[0m \u001b[0mValueError\u001b[0m\u001b[0;34m(\u001b[0m\u001b[0;34m\"Unknown label type: %r\"\u001b[0m \u001b[0;34m%\u001b[0m \u001b[0my_type\u001b[0m\u001b[0;34m)\u001b[0m\u001b[0;34m\u001b[0m\u001b[0;34m\u001b[0m\u001b[0m\n\u001b[0m\u001b[1;32m    172\u001b[0m \u001b[0;34m\u001b[0m\u001b[0m\n\u001b[1;32m    173\u001b[0m \u001b[0;34m\u001b[0m\u001b[0m\n",
      "\u001b[0;31mValueError\u001b[0m: Unknown label type: 'continuous'"
     ]
    }
   ],
   "source": [
    "# Using Lasso\n",
    "X_train_lasso = SelectFromModel(LogisticRegression(penalty=\"l1\", C=0.1)).fit_transform(X_train, y_train)\n",
    "reg = LogisticRegression(penalty=\"l1\", C=0.1).fit(X_train, y_train)\n",
    "coef = pd.Series(reg.coef_[0], index = pd.DataFrame(X_train).columns)\n",
    "X_test_lasso = X_test[:, coef != 0]"
   ]
  },
  {
   "cell_type": "code",
   "execution_count": null,
   "metadata": {},
   "outputs": [],
   "source": [
    "# Using XGBoost\n",
    "X_train_xgboost = SelectFromModel(XGBClassifier()).fit_transform(X_train, y_train)"
   ]
  },
  {
   "cell_type": "code",
   "execution_count": 18,
   "metadata": {},
   "outputs": [
    {
     "ename": "ValueError",
     "evalue": "Unknown label type: 'continuous'",
     "output_type": "error",
     "traceback": [
      "\u001b[0;31m---------------------------------------------------------------------------\u001b[0m",
      "\u001b[0;31mValueError\u001b[0m                                Traceback (most recent call last)",
      "\u001b[0;32m<ipython-input-18-bc1a1d9c5112>\u001b[0m in \u001b[0;36m<module>\u001b[0;34m\u001b[0m\n\u001b[1;32m      1\u001b[0m \u001b[0;31m# Using RFE\u001b[0m\u001b[0;34m\u001b[0m\u001b[0;34m\u001b[0m\u001b[0;34m\u001b[0m\u001b[0m\n\u001b[1;32m      2\u001b[0m \u001b[0;32mfrom\u001b[0m \u001b[0msklearn\u001b[0m\u001b[0;34m.\u001b[0m\u001b[0mfeature_selection\u001b[0m \u001b[0;32mimport\u001b[0m \u001b[0mRFE\u001b[0m\u001b[0;34m\u001b[0m\u001b[0;34m\u001b[0m\u001b[0m\n\u001b[0;32m----> 3\u001b[0;31m \u001b[0mX_train_RFE\u001b[0m \u001b[0;34m=\u001b[0m \u001b[0mRFE\u001b[0m\u001b[0;34m(\u001b[0m\u001b[0mestimator\u001b[0m\u001b[0;34m=\u001b[0m\u001b[0mLogisticRegression\u001b[0m\u001b[0;34m(\u001b[0m\u001b[0;34m)\u001b[0m\u001b[0;34m,\u001b[0m \u001b[0mn_features_to_select\u001b[0m\u001b[0;34m=\u001b[0m\u001b[0;36m30\u001b[0m\u001b[0;34m)\u001b[0m\u001b[0;34m.\u001b[0m\u001b[0mfit_transform\u001b[0m\u001b[0;34m(\u001b[0m\u001b[0mX_train\u001b[0m\u001b[0;34m,\u001b[0m \u001b[0my_train\u001b[0m\u001b[0;34m)\u001b[0m\u001b[0;34m\u001b[0m\u001b[0;34m\u001b[0m\u001b[0m\n\u001b[0m",
      "\u001b[0;32m/anaconda3/lib/python3.7/site-packages/sklearn/base.py\u001b[0m in \u001b[0;36mfit_transform\u001b[0;34m(self, X, y, **fit_params)\u001b[0m\n\u001b[1;32m    465\u001b[0m         \u001b[0;32melse\u001b[0m\u001b[0;34m:\u001b[0m\u001b[0;34m\u001b[0m\u001b[0;34m\u001b[0m\u001b[0m\n\u001b[1;32m    466\u001b[0m             \u001b[0;31m# fit method of arity 2 (supervised transformation)\u001b[0m\u001b[0;34m\u001b[0m\u001b[0;34m\u001b[0m\u001b[0;34m\u001b[0m\u001b[0m\n\u001b[0;32m--> 467\u001b[0;31m             \u001b[0;32mreturn\u001b[0m \u001b[0mself\u001b[0m\u001b[0;34m.\u001b[0m\u001b[0mfit\u001b[0m\u001b[0;34m(\u001b[0m\u001b[0mX\u001b[0m\u001b[0;34m,\u001b[0m \u001b[0my\u001b[0m\u001b[0;34m,\u001b[0m \u001b[0;34m**\u001b[0m\u001b[0mfit_params\u001b[0m\u001b[0;34m)\u001b[0m\u001b[0;34m.\u001b[0m\u001b[0mtransform\u001b[0m\u001b[0;34m(\u001b[0m\u001b[0mX\u001b[0m\u001b[0;34m)\u001b[0m\u001b[0;34m\u001b[0m\u001b[0;34m\u001b[0m\u001b[0m\n\u001b[0m\u001b[1;32m    468\u001b[0m \u001b[0;34m\u001b[0m\u001b[0m\n\u001b[1;32m    469\u001b[0m \u001b[0;34m\u001b[0m\u001b[0m\n",
      "\u001b[0;32m/anaconda3/lib/python3.7/site-packages/sklearn/feature_selection/rfe.py\u001b[0m in \u001b[0;36mfit\u001b[0;34m(self, X, y)\u001b[0m\n\u001b[1;32m    138\u001b[0m             \u001b[0mThe\u001b[0m \u001b[0mtarget\u001b[0m \u001b[0mvalues\u001b[0m\u001b[0;34m.\u001b[0m\u001b[0;34m\u001b[0m\u001b[0;34m\u001b[0m\u001b[0m\n\u001b[1;32m    139\u001b[0m         \"\"\"\n\u001b[0;32m--> 140\u001b[0;31m         \u001b[0;32mreturn\u001b[0m \u001b[0mself\u001b[0m\u001b[0;34m.\u001b[0m\u001b[0m_fit\u001b[0m\u001b[0;34m(\u001b[0m\u001b[0mX\u001b[0m\u001b[0;34m,\u001b[0m \u001b[0my\u001b[0m\u001b[0;34m)\u001b[0m\u001b[0;34m\u001b[0m\u001b[0;34m\u001b[0m\u001b[0m\n\u001b[0m\u001b[1;32m    141\u001b[0m \u001b[0;34m\u001b[0m\u001b[0m\n\u001b[1;32m    142\u001b[0m     \u001b[0;32mdef\u001b[0m \u001b[0m_fit\u001b[0m\u001b[0;34m(\u001b[0m\u001b[0mself\u001b[0m\u001b[0;34m,\u001b[0m \u001b[0mX\u001b[0m\u001b[0;34m,\u001b[0m \u001b[0my\u001b[0m\u001b[0;34m,\u001b[0m \u001b[0mstep_score\u001b[0m\u001b[0;34m=\u001b[0m\u001b[0;32mNone\u001b[0m\u001b[0;34m)\u001b[0m\u001b[0;34m:\u001b[0m\u001b[0;34m\u001b[0m\u001b[0;34m\u001b[0m\u001b[0m\n",
      "\u001b[0;32m/anaconda3/lib/python3.7/site-packages/sklearn/feature_selection/rfe.py\u001b[0m in \u001b[0;36m_fit\u001b[0;34m(self, X, y, step_score)\u001b[0m\n\u001b[1;32m    212\u001b[0m         \u001b[0mfeatures\u001b[0m \u001b[0;34m=\u001b[0m \u001b[0mnp\u001b[0m\u001b[0;34m.\u001b[0m\u001b[0marange\u001b[0m\u001b[0;34m(\u001b[0m\u001b[0mn_features\u001b[0m\u001b[0;34m)\u001b[0m\u001b[0;34m[\u001b[0m\u001b[0msupport_\u001b[0m\u001b[0;34m]\u001b[0m\u001b[0;34m\u001b[0m\u001b[0;34m\u001b[0m\u001b[0m\n\u001b[1;32m    213\u001b[0m         \u001b[0mself\u001b[0m\u001b[0;34m.\u001b[0m\u001b[0mestimator_\u001b[0m \u001b[0;34m=\u001b[0m \u001b[0mclone\u001b[0m\u001b[0;34m(\u001b[0m\u001b[0mself\u001b[0m\u001b[0;34m.\u001b[0m\u001b[0mestimator\u001b[0m\u001b[0;34m)\u001b[0m\u001b[0;34m\u001b[0m\u001b[0;34m\u001b[0m\u001b[0m\n\u001b[0;32m--> 214\u001b[0;31m         \u001b[0mself\u001b[0m\u001b[0;34m.\u001b[0m\u001b[0mestimator_\u001b[0m\u001b[0;34m.\u001b[0m\u001b[0mfit\u001b[0m\u001b[0;34m(\u001b[0m\u001b[0mX\u001b[0m\u001b[0;34m[\u001b[0m\u001b[0;34m:\u001b[0m\u001b[0;34m,\u001b[0m \u001b[0mfeatures\u001b[0m\u001b[0;34m]\u001b[0m\u001b[0;34m,\u001b[0m \u001b[0my\u001b[0m\u001b[0;34m)\u001b[0m\u001b[0;34m\u001b[0m\u001b[0;34m\u001b[0m\u001b[0m\n\u001b[0m\u001b[1;32m    215\u001b[0m \u001b[0;34m\u001b[0m\u001b[0m\n\u001b[1;32m    216\u001b[0m         \u001b[0;31m# Compute step score when only n_features_to_select features left\u001b[0m\u001b[0;34m\u001b[0m\u001b[0;34m\u001b[0m\u001b[0;34m\u001b[0m\u001b[0m\n",
      "\u001b[0;32m/anaconda3/lib/python3.7/site-packages/sklearn/linear_model/logistic.py\u001b[0m in \u001b[0;36mfit\u001b[0;34m(self, X, y, sample_weight)\u001b[0m\n\u001b[1;32m   1287\u001b[0m         X, y = check_X_y(X, y, accept_sparse='csr', dtype=_dtype, order=\"C\",\n\u001b[1;32m   1288\u001b[0m                          accept_large_sparse=solver != 'liblinear')\n\u001b[0;32m-> 1289\u001b[0;31m         \u001b[0mcheck_classification_targets\u001b[0m\u001b[0;34m(\u001b[0m\u001b[0my\u001b[0m\u001b[0;34m)\u001b[0m\u001b[0;34m\u001b[0m\u001b[0;34m\u001b[0m\u001b[0m\n\u001b[0m\u001b[1;32m   1290\u001b[0m         \u001b[0mself\u001b[0m\u001b[0;34m.\u001b[0m\u001b[0mclasses_\u001b[0m \u001b[0;34m=\u001b[0m \u001b[0mnp\u001b[0m\u001b[0;34m.\u001b[0m\u001b[0munique\u001b[0m\u001b[0;34m(\u001b[0m\u001b[0my\u001b[0m\u001b[0;34m)\u001b[0m\u001b[0;34m\u001b[0m\u001b[0;34m\u001b[0m\u001b[0m\n\u001b[1;32m   1291\u001b[0m         \u001b[0mn_samples\u001b[0m\u001b[0;34m,\u001b[0m \u001b[0mn_features\u001b[0m \u001b[0;34m=\u001b[0m \u001b[0mX\u001b[0m\u001b[0;34m.\u001b[0m\u001b[0mshape\u001b[0m\u001b[0;34m\u001b[0m\u001b[0;34m\u001b[0m\u001b[0m\n",
      "\u001b[0;32m/anaconda3/lib/python3.7/site-packages/sklearn/utils/multiclass.py\u001b[0m in \u001b[0;36mcheck_classification_targets\u001b[0;34m(y)\u001b[0m\n\u001b[1;32m    169\u001b[0m     if y_type not in ['binary', 'multiclass', 'multiclass-multioutput',\n\u001b[1;32m    170\u001b[0m                       'multilabel-indicator', 'multilabel-sequences']:\n\u001b[0;32m--> 171\u001b[0;31m         \u001b[0;32mraise\u001b[0m \u001b[0mValueError\u001b[0m\u001b[0;34m(\u001b[0m\u001b[0;34m\"Unknown label type: %r\"\u001b[0m \u001b[0;34m%\u001b[0m \u001b[0my_type\u001b[0m\u001b[0;34m)\u001b[0m\u001b[0;34m\u001b[0m\u001b[0;34m\u001b[0m\u001b[0m\n\u001b[0m\u001b[1;32m    172\u001b[0m \u001b[0;34m\u001b[0m\u001b[0m\n\u001b[1;32m    173\u001b[0m \u001b[0;34m\u001b[0m\u001b[0m\n",
      "\u001b[0;31mValueError\u001b[0m: Unknown label type: 'continuous'"
     ]
    }
   ],
   "source": [
    "# Using RFE\n",
    "from sklearn.feature_selection import RFE\n",
    "X_train_RFE = RFE(estimator=LogisticRegression(), n_features_to_select=30).fit_transform(X_train, y_train)"
   ]
  },
  {
   "cell_type": "code",
   "execution_count": 27,
   "metadata": {},
   "outputs": [
    {
     "name": "stdout",
     "output_type": "stream",
     "text": [
      "Score with no feature selection: 0.9233695652173914 +/- 0.011256693031091307\n",
      "Score with Lasso feature selection: 0.9244565217391305 +/- 0.010580392572789034\n",
      "Score with Xgboost feature selection: 0.9040760869565219 +/- 0.012155581112144034\n",
      "Score with RFE feature selection: 0.919836956521739 +/- 0.013159021753047019\n"
     ]
    }
   ],
   "source": [
    "# Compare the feature selection methods\n",
    "log_base_clf = LogisticRegression()\n",
    "\n",
    "# No feature selection\n",
    "base_scores = cross_val_score(log_base_clf, X_train, y_train, cv=10)\n",
    "print('Score with no feature selection: ' + str(base_scores.mean()) + ' +/- ' + str(base_scores.std()))\n",
    "\n",
    "# Lasso feature set\n",
    "lasso_scores = cross_val_score(log_base_clf, X_train_lasso, y_train, cv=10)\n",
    "print('Score with Lasso feature selection: ' + str(lasso_scores.mean()) + ' +/- ' + str(lasso_scores.std()))\n",
    "\n",
    "# Xgboost feature set\n",
    "xgboost_scores = cross_val_score(log_base_clf, X_train_xgboost, y_train, cv=10)\n",
    "print('Score with Xgboost feature selection: ' + str(xgboost_scores.mean()) + ' +/- ' + str(xgboost_scores.std()))\n",
    "\n",
    "# RFE feature set\n",
    "rfe_scores = cross_val_score(log_base_clf, X_train_RFE, y_train, cv=10)\n",
    "print('Score with RFE feature selection: ' + str(rfe_scores.mean()) + ' +/- ' + str(rfe_scores.std()))\n"
   ]
  },
  {
   "cell_type": "markdown",
   "metadata": {},
   "source": [
    "# Prediction Using Different Models"
   ]
  },
  {
   "cell_type": "markdown",
   "metadata": {},
   "source": [
    "## Model Selection Using Nested CV"
   ]
  },
  {
   "cell_type": "markdown",
   "metadata": {},
   "source": [
    "### 1. Logistic Regression"
   ]
  },
  {
   "cell_type": "code",
   "execution_count": 30,
   "metadata": {},
   "outputs": [],
   "source": [
    "# Number of random trials\n",
    "NUM_TRIALS = 5\n",
    "\n",
    "# Model Initialization\n",
    "log_clf = linear_model.LogisticRegression()\n",
    "\n",
    "nested_scores_log = np.zeros(NUM_TRIALS)\n",
    "\n",
    "p_grid_log = {'penalty': ['l1', 'l2'], 'C': [0.001,0.01,0.1,1,10,100]}\n",
    "\n",
    "# Logistic Regression Overall Performance\n",
    "for i in range(NUM_TRIALS):\n",
    "    inner_cv = KFold(n_splits=4, shuffle=True, random_state=i)\n",
    "    outer_cv = KFold(n_splits=4, shuffle=True, random_state=i)\n",
    "    # Non_nested parameter search and scoring\n",
    "    clf = RandomizedSearchCV(estimator=log_clf, param_distributions=p_grid_log, cv=inner_cv)\n",
    "    clf.fit(X_train_lasso, y_train)\n",
    "    # Nested CV with parameter optimization\n",
    "    nested_score = cross_val_score(clf, X=X_train_lasso, y=y_train, cv=outer_cv)\n",
    "    nested_scores_log[i] = nested_score.mean()"
   ]
  },
  {
   "cell_type": "markdown",
   "metadata": {},
   "source": [
    "### 2. XGBoost"
   ]
  },
  {
   "cell_type": "code",
   "execution_count": 31,
   "metadata": {},
   "outputs": [],
   "source": [
    "xg_clf = XGBClassifier()\n",
    "\n",
    "nested_scores_xg = np.zeros(NUM_TRIALS)\n",
    "\n",
    "p_grid_xgb = {'n_estimators': range(50, 400, 50), 'max_depth':range(3,10,2),\n",
    "              'gamma':[i/10.0 for i in range(0,5)],\n",
    "              'reg_alpha':[0, 0.001, 0.005, 0.01, 0.05]}\n",
    "\n",
    "# XGBoost Overall Performance\n",
    "for i in range(NUM_TRIALS):\n",
    "    inner_cv = KFold(n_splits=4, shuffle=True, random_state=i)\n",
    "    outer_cv = KFold(n_splits=4, shuffle=True, random_state=i)\n",
    "    # Non_nested parameter search and scoring\n",
    "    clf = RandomizedSearchCV(estimator=xg_clf, param_distributions=p_grid_xgb, cv=inner_cv)\n",
    "    clf.fit(X_train_lasso, y_train)\n",
    "    # Nested CV with parameter optimization\n",
    "    nested_score = cross_val_score(clf, X=X_train_lasso, y=y_train, cv=outer_cv)\n",
    "    nested_scores_xg[i] = nested_score.mean()"
   ]
  },
  {
   "cell_type": "markdown",
   "metadata": {},
   "source": [
    "### 3. Random Forest"
   ]
  },
  {
   "cell_type": "code",
   "execution_count": 17,
   "metadata": {},
   "outputs": [
    {
     "ename": "NameError",
     "evalue": "name 'NUM_TRIALS' is not defined",
     "output_type": "error",
     "traceback": [
      "\u001b[0;31m---------------------------------------------------------------------------\u001b[0m",
      "\u001b[0;31mNameError\u001b[0m                                 Traceback (most recent call last)",
      "\u001b[0;32m<ipython-input-17-194cd626b897>\u001b[0m in \u001b[0;36m<module>\u001b[0;34m\u001b[0m\n\u001b[1;32m      1\u001b[0m \u001b[0mrf_clf\u001b[0m \u001b[0;34m=\u001b[0m \u001b[0mRandomForestClassifier\u001b[0m\u001b[0;34m(\u001b[0m\u001b[0;34m)\u001b[0m\u001b[0;34m\u001b[0m\u001b[0;34m\u001b[0m\u001b[0m\n\u001b[1;32m      2\u001b[0m \u001b[0;34m\u001b[0m\u001b[0m\n\u001b[0;32m----> 3\u001b[0;31m \u001b[0mnested_scores_rf\u001b[0m \u001b[0;34m=\u001b[0m \u001b[0mnp\u001b[0m\u001b[0;34m.\u001b[0m\u001b[0mzeros\u001b[0m\u001b[0;34m(\u001b[0m\u001b[0mNUM_TRIALS\u001b[0m\u001b[0;34m)\u001b[0m\u001b[0;34m\u001b[0m\u001b[0;34m\u001b[0m\u001b[0m\n\u001b[0m\u001b[1;32m      4\u001b[0m \u001b[0;34m\u001b[0m\u001b[0m\n\u001b[1;32m      5\u001b[0m p_grid_rf = {'max_depth': [10, 20, 30, 40, 50, 60],\n",
      "\u001b[0;31mNameError\u001b[0m: name 'NUM_TRIALS' is not defined"
     ]
    }
   ],
   "source": [
    "rf_clf = RandomForestClassifier()\n",
    "\n",
    "nested_scores_rf = np.zeros(NUM_TRIALS)\n",
    "\n",
    "p_grid_rf = {'max_depth': [10, 20, 30, 40, 50, 60],\n",
    " 'max_features': ['auto', 'sqrt'],\n",
    " 'n_estimators': [100, 200, 400]}\n",
    "\n",
    "# Random Forest Overall Performance\n",
    "for i in range(NUM_TRIALS):\n",
    "    inner_cv = KFold(n_splits=4, shuffle=True, random_state=i)\n",
    "    outer_cv = KFold(n_splits=4, shuffle=True, random_state=i)\n",
    "    # Non_nested parameter search and scoring\n",
    "    clf = RandomizedSearchCV(estimator=rf_clf, param_distributions=p_grid_rf, cv=inner_cv)\n",
    "    clf.fit(X_train_lasso, y_train)\n",
    "    # Nested CV with parameter optimization\n",
    "    nested_score = cross_val_score(clf, X=X_train_lasso, y=y_train, cv=outer_cv)\n",
    "    nested_scores_rf[i] = nested_score.mean()"
   ]
  },
  {
   "cell_type": "markdown",
   "metadata": {},
   "source": [
    "### 4. LightGBM"
   ]
  },
  {
   "cell_type": "code",
   "execution_count": 33,
   "metadata": {},
   "outputs": [],
   "source": [
    "lgb_clf = lightgbm.LGBMClassifier()\n",
    "\n",
    "nested_scores_lgb = np.zeros(NUM_TRIALS)\n",
    "\n",
    "p_grid_lgb = {\n",
    "    'learning_rate': [0.01, 0.05, 0.1, 1],\n",
    "    'n_estimators': [20, 40, 60, 80],\n",
    "    'num_leaves': range(10, 100, 2)}\n",
    "\n",
    "# LightGBM Overall Performance\n",
    "for i in range(NUM_TRIALS):\n",
    "    inner_cv = KFold(n_splits=4, shuffle=True, random_state=i)\n",
    "    outer_cv = KFold(n_splits=4, shuffle=True, random_state=i)\n",
    "    # Non_nested parameter search and scoring\n",
    "    clf = RandomizedSearchCV(estimator=lgb_clf, param_distributions=p_grid_lgb, cv=inner_cv)\n",
    "    clf.fit(X_train_lasso, y_train)\n",
    "    # Nested CV with parameter optimization\n",
    "    nested_score = cross_val_score(clf, X=X_train_lasso, y=y_train, cv=outer_cv)\n",
    "    nested_scores_lgb[i] = nested_score.mean()"
   ]
  },
  {
   "cell_type": "markdown",
   "metadata": {},
   "source": [
    "### Model Performance Comparison"
   ]
  },
  {
   "cell_type": "code",
   "execution_count": 34,
   "metadata": {},
   "outputs": [
    {
     "data": {
      "text/html": [
       "<div>\n",
       "<style scoped>\n",
       "    .dataframe tbody tr th:only-of-type {\n",
       "        vertical-align: middle;\n",
       "    }\n",
       "\n",
       "    .dataframe tbody tr th {\n",
       "        vertical-align: top;\n",
       "    }\n",
       "\n",
       "    .dataframe thead th {\n",
       "        text-align: right;\n",
       "    }\n",
       "</style>\n",
       "<table border=\"1\" class=\"dataframe\">\n",
       "  <thead>\n",
       "    <tr style=\"text-align: right;\">\n",
       "      <th></th>\n",
       "      <th>Accuracy</th>\n",
       "      <th>Std</th>\n",
       "    </tr>\n",
       "    <tr>\n",
       "      <th>Model</th>\n",
       "      <th></th>\n",
       "      <th></th>\n",
       "    </tr>\n",
       "  </thead>\n",
       "  <tbody>\n",
       "    <tr>\n",
       "      <th>Logit</th>\n",
       "      <td>0.924022</td>\n",
       "      <td>0.000442</td>\n",
       "    </tr>\n",
       "    <tr>\n",
       "      <th>LightGBM</th>\n",
       "      <td>0.950924</td>\n",
       "      <td>0.000442</td>\n",
       "    </tr>\n",
       "    <tr>\n",
       "      <th>XGBoost</th>\n",
       "      <td>0.952826</td>\n",
       "      <td>0.000817</td>\n",
       "    </tr>\n",
       "    <tr>\n",
       "      <th>Random Forest</th>\n",
       "      <td>0.951522</td>\n",
       "      <td>0.001895</td>\n",
       "    </tr>\n",
       "  </tbody>\n",
       "</table>\n",
       "</div>"
      ],
      "text/plain": [
       "               Accuracy       Std\n",
       "Model                            \n",
       "Logit          0.924022  0.000442\n",
       "LightGBM       0.950924  0.000442\n",
       "XGBoost        0.952826  0.000817\n",
       "Random Forest  0.951522  0.001895"
      ]
     },
     "execution_count": 34,
     "metadata": {},
     "output_type": "execute_result"
    }
   ],
   "source": [
    "performance_dic = {'Logit': nested_scores_log.mean(), 'LightGBM': nested_scores_lgb.mean(), 'XGBoost': nested_scores_xg.mean(),\n",
    "                              'Random Forest': nested_scores_rf.mean()}\n",
    "\n",
    "std_dic = {'Logit': nested_scores_log.std(), 'LightGBM': nested_scores_lgb.std(), 'XGBoost': nested_scores_xg.std(),\n",
    "                              'Random Forest': nested_scores_rf.std()}\n",
    "\n",
    "performance = pd.DataFrame(list(performance_dic.items()), columns=['Model', 'Accuracy'])\n",
    "performance['Std'] = performance['Model'].map(std_dic)\n",
    "performance.index = performance.Model\n",
    "performance.drop('Model', axis=1)"
   ]
  },
  {
   "cell_type": "markdown",
   "metadata": {},
   "source": [
    "**According the results above, Xgboost algorithm gives us the highest accuracy.**\n",
    "\n",
    "So we dive deeper into the Xgboost model."
   ]
  },
  {
   "cell_type": "code",
   "execution_count": 35,
   "metadata": {},
   "outputs": [
    {
     "data": {
      "text/plain": [
       "{'reg_alpha': 0.005, 'n_estimators': 350, 'max_depth': 7, 'gamma': 0.3}"
      ]
     },
     "execution_count": 35,
     "metadata": {},
     "output_type": "execute_result"
    }
   ],
   "source": [
    "xg_reg = XGBClassifier()\n",
    "p_grid_xgb = {'n_estimators': range(50, 400, 50), \n",
    "              'max_depth':range(3,10,2),\n",
    "              'gamma':[i/10.0 for i in range(0,5)],\n",
    "              'reg_alpha':[0, 0.001, 0.005, 0.01, 0.05]}\n",
    "\n",
    "grid = RandomizedSearchCV(xg_reg, p_grid_xgb, cv = 10, scoring = 'accuracy')\n",
    "grid.fit(X_train_lasso, y_train)\n",
    "grid.best_params_"
   ]
  },
  {
   "cell_type": "code",
   "execution_count": 72,
   "metadata": {},
   "outputs": [
    {
     "data": {
      "text/plain": [
       "0.9630836047774158"
      ]
     },
     "execution_count": 72,
     "metadata": {},
     "output_type": "execute_result"
    }
   ],
   "source": [
    "xgb = XGBClassifier(reg_alpha=0.005, n_estimators=350, max_depth=7, gamma=0.3)\n",
    "xgb.fit(X_train_lasso, y_train)\n",
    "y_pred = xgb.predict(X_test_lasso)\n",
    "accuracy_score(y_test, y_pred)"
   ]
  },
  {
   "cell_type": "markdown",
   "metadata": {},
   "source": [
    "### 5. Neural Network"
   ]
  },
  {
   "cell_type": "code",
   "execution_count": 45,
   "metadata": {},
   "outputs": [],
   "source": [
    "from kerastuner.tuners.bayesian import BayesianOptimization\n",
    "from kerastuner.tuners import RandomSearch\n",
    "from tensorflow import keras\n",
    "from tensorflow.keras import layers"
   ]
  },
  {
   "cell_type": "code",
   "execution_count": 38,
   "metadata": {},
   "outputs": [],
   "source": [
    "# split data into features and target\n",
    "XNN = data.iloc[:, :-1]\n",
    "YNN = data.iloc[:, -1]\n",
    "\n",
    "X_train_nn, X_test_nn, y_train_nn, y_test_nn \\\n",
    "    = train_test_split(XNN, YNN, test_size=0.2, random_state=100, stratify=YNN)\n",
    "    \n",
    "X_train_nn, X_val_nn, y_train_nn, y_val_nn \\\n",
    "    = train_test_split(X_train_nn, y_train_nn, test_size=0.2, random_state=100, stratify=y_train_nn)"
   ]
  },
  {
   "cell_type": "code",
   "execution_count": 39,
   "metadata": {},
   "outputs": [],
   "source": [
    "# Normalization\n",
    "sc = StandardScaler()\n",
    "X_train_nn = sc.fit_transform(X_train_nn)\n",
    "X_val_nn = sc.transform(X_val_nn)\n",
    "X_test_nn = sc.transform(X_test_nn)"
   ]
  },
  {
   "cell_type": "code",
   "execution_count": 40,
   "metadata": {},
   "outputs": [],
   "source": [
    "def build_model(hp):\n",
    "    model = keras.Sequential()\n",
    "    for i in range(hp.Int('num_layers', 2, 20)):\n",
    "        model.add(layers.Dense(units=hp.Int('units_' + str(i), 32, 512, 32),\n",
    "                               activation='relu'))\n",
    "    model.add(layers.Dense(1, activation='sigmoid'))\n",
    "    model.compile(\n",
    "        optimizer=keras.optimizers.Adam(\n",
    "            hp.Choice('learning_rate', [1e-2, 1e-3, 1e-4])),\n",
    "        loss='binary_crossentropy',\n",
    "        metrics=['accuracy'])\n",
    "    return model"
   ]
  },
  {
   "cell_type": "code",
   "execution_count": 46,
   "metadata": {},
   "outputs": [],
   "source": [
    "tuner = BayesianOptimization(\n",
    "    build_model,\n",
    "    objective='val_accuracy',\n",
    "    max_trials=5,\n",
    "    executions_per_trial=3,\n",
    "    directory='cost_insensitive_4')"
   ]
  },
  {
   "cell_type": "code",
   "execution_count": 47,
   "metadata": {},
   "outputs": [
    {
     "name": "stdout",
     "output_type": "stream",
     "text": [
      "Train on 2944 samples, validate on 736 samples\n",
      "Epoch 1/4\n",
      "2944/2944 [==============================] - ETA: 1:38 - loss: 0.6931 - accuracy: 0.50 - ETA: 4s - loss: 0.6911 - accuracy: 0.5764 - ETA: 1s - loss: 0.6728 - accuracy: 0.59 - ETA: 0s - loss: 0.6012 - accuracy: 0.60 - ETA: 0s - loss: 0.5555 - accuracy: 0.65 - ETA: 0s - loss: 0.5072 - accuracy: 0.70 - 2s 529us/sample - loss: 0.4891 - accuracy: 0.7174 - val_loss: 0.2246 - val_accuracy: 0.9226\n",
      "Epoch 2/4\n",
      "2944/2944 [==============================] - ETA: 0s - loss: 0.2085 - accuracy: 0.93 - ETA: 0s - loss: 0.2671 - accuracy: 0.90 - ETA: 0s - loss: 0.2507 - accuracy: 0.91 - ETA: 0s - loss: 0.2370 - accuracy: 0.91 - ETA: 0s - loss: 0.2354 - accuracy: 0.92 - ETA: 0s - loss: 0.2257 - accuracy: 0.92 - 0s 106us/sample - loss: 0.2231 - accuracy: 0.9260 - val_loss: 0.2017 - val_accuracy: 0.9198\n",
      "Epoch 3/4\n",
      "2944/2944 [==============================] - ETA: 0s - loss: 0.1453 - accuracy: 0.93 - ETA: 0s - loss: 0.1652 - accuracy: 0.95 - ETA: 0s - loss: 0.1827 - accuracy: 0.94 - ETA: 0s - loss: 0.1745 - accuracy: 0.94 - ETA: 0s - loss: 0.1746 - accuracy: 0.94 - 0s 105us/sample - loss: 0.1750 - accuracy: 0.9429 - val_loss: 0.1795 - val_accuracy: 0.9348\n",
      "Epoch 4/4\n",
      "2944/2944 [==============================] - ETA: 0s - loss: 0.0826 - accuracy: 1.00 - ETA: 0s - loss: 0.1375 - accuracy: 0.95 - ETA: 0s - loss: 0.1654 - accuracy: 0.94 - ETA: 0s - loss: 0.1584 - accuracy: 0.94 - ETA: 0s - loss: 0.1571 - accuracy: 0.94 - 0s 106us/sample - loss: 0.1584 - accuracy: 0.9474 - val_loss: 0.1738 - val_accuracy: 0.9375\n",
      "Train on 2944 samples, validate on 736 samples\n",
      "Epoch 1/4\n",
      "2944/2944 [==============================] - ETA: 1:23 - loss: 0.6936 - accuracy: 0.18 - ETA: 3s - loss: 0.6902 - accuracy: 0.5781 - ETA: 1s - loss: 0.6597 - accuracy: 0.58 - ETA: 0s - loss: 0.5771 - accuracy: 0.61 - ETA: 0s - loss: 0.5236 - accuracy: 0.68 - ETA: 0s - loss: 0.4787 - accuracy: 0.72 - 1s 473us/sample - loss: 0.4536 - accuracy: 0.7466 - val_loss: 0.2304 - val_accuracy: 0.9266\n",
      "Epoch 2/4\n",
      "2944/2944 [==============================] - ETA: 0s - loss: 0.2295 - accuracy: 0.90 - ETA: 0s - loss: 0.2857 - accuracy: 0.92 - ETA: 0s - loss: 0.2314 - accuracy: 0.93 - ETA: 0s - loss: 0.2220 - accuracy: 0.93 - ETA: 0s - loss: 0.2117 - accuracy: 0.93 - ETA: 0s - loss: 0.2163 - accuracy: 0.92 - 0s 114us/sample - loss: 0.2138 - accuracy: 0.9310 - val_loss: 0.1903 - val_accuracy: 0.9307\n",
      "Epoch 3/4\n",
      "2944/2944 [==============================] - ETA: 0s - loss: 0.0382 - accuracy: 1.00 - ETA: 0s - loss: 0.1464 - accuracy: 0.94 - ETA: 0s - loss: 0.1538 - accuracy: 0.94 - ETA: 0s - loss: 0.1615 - accuracy: 0.94 - ETA: 0s - loss: 0.1577 - accuracy: 0.94 - ETA: 0s - loss: 0.1645 - accuracy: 0.94 - 0s 108us/sample - loss: 0.1656 - accuracy: 0.9419 - val_loss: 0.1966 - val_accuracy: 0.9293\n",
      "Epoch 4/4\n",
      "2944/2944 [==============================] - ETA: 0s - loss: 0.1277 - accuracy: 0.96 - ETA: 0s - loss: 0.1475 - accuracy: 0.94 - ETA: 0s - loss: 0.1344 - accuracy: 0.94 - ETA: 0s - loss: 0.1293 - accuracy: 0.95 - ETA: 0s - loss: 0.1345 - accuracy: 0.94 - ETA: 0s - loss: 0.1437 - accuracy: 0.94 - 0s 109us/sample - loss: 0.1428 - accuracy: 0.9470 - val_loss: 0.1695 - val_accuracy: 0.9348\n",
      "Train on 2944 samples, validate on 736 samples\n",
      "Epoch 1/4\n",
      "2944/2944 [==============================] - ETA: 1:31 - loss: 0.6931 - accuracy: 0.53 - ETA: 4s - loss: 0.6783 - accuracy: 0.6024 - ETA: 1s - loss: 0.6118 - accuracy: 0.60 - ETA: 0s - loss: 0.5474 - accuracy: 0.64 - ETA: 0s - loss: 0.5077 - accuracy: 0.71 - ETA: 0s - loss: 0.4809 - accuracy: 0.75 - 1s 506us/sample - loss: 0.4629 - accuracy: 0.7745 - val_loss: 0.3425 - val_accuracy: 0.9266\n",
      "Epoch 2/4\n",
      "2944/2944 [==============================] - ETA: 0s - loss: 0.4588 - accuracy: 0.81 - ETA: 0s - loss: 0.2873 - accuracy: 0.94 - ETA: 0s - loss: 0.2609 - accuracy: 0.93 - ETA: 0s - loss: 0.2420 - accuracy: 0.93 - ETA: 0s - loss: 0.2348 - accuracy: 0.93 - ETA: 0s - loss: 0.2330 - accuracy: 0.92 - 0s 107us/sample - loss: 0.2287 - accuracy: 0.9297 - val_loss: 0.1879 - val_accuracy: 0.9293\n",
      "Epoch 3/4\n",
      "2944/2944 [==============================] - ETA: 0s - loss: 0.1546 - accuracy: 0.96 - ETA: 0s - loss: 0.1633 - accuracy: 0.94 - ETA: 0s - loss: 0.1660 - accuracy: 0.94 - ETA: 0s - loss: 0.1656 - accuracy: 0.94 - ETA: 0s - loss: 0.1730 - accuracy: 0.93 - ETA: 0s - loss: 0.1684 - accuracy: 0.94 - 0s 104us/sample - loss: 0.1684 - accuracy: 0.9399 - val_loss: 0.1798 - val_accuracy: 0.9334\n",
      "Epoch 4/4\n",
      "2944/2944 [==============================] - ETA: 0s - loss: 0.2432 - accuracy: 0.90 - ETA: 0s - loss: 0.1528 - accuracy: 0.94 - ETA: 0s - loss: 0.1472 - accuracy: 0.94 - ETA: 0s - loss: 0.1520 - accuracy: 0.95 - ETA: 0s - loss: 0.1471 - accuracy: 0.95 - ETA: 0s - loss: 0.1464 - accuracy: 0.95 - 0s 110us/sample - loss: 0.1455 - accuracy: 0.9507 - val_loss: 0.1709 - val_accuracy: 0.9293\n"
     ]
    },
    {
     "data": {
      "text/html": [
       "<span style=\"color:#4527A0\"><h1 style=\"font-size:18px\">Trial complete</h1></span>"
      ],
      "text/plain": [
       "<IPython.core.display.HTML object>"
      ]
     },
     "metadata": {},
     "output_type": "display_data"
    },
    {
     "data": {
      "text/html": [
       "<span style=\"color:#4527A0\"><h1 style=\"font-size:18px\">Trial summary</h1></span>"
      ],
      "text/plain": [
       "<IPython.core.display.HTML object>"
      ]
     },
     "metadata": {},
     "output_type": "display_data"
    },
    {
     "data": {
      "text/html": [
       "<span style=\"color:#7E57C2\"><h2 style=\"font-size:16px\">Hp values:</h2></span>"
      ],
      "text/plain": [
       "<IPython.core.display.HTML object>"
      ]
     },
     "metadata": {},
     "output_type": "display_data"
    },
    {
     "data": {
      "text/html": [
       "<span style=\"color:cyan\"> |-learning_rate: 0.001</span>"
      ],
      "text/plain": [
       "<IPython.core.display.HTML object>"
      ]
     },
     "metadata": {},
     "output_type": "display_data"
    },
    {
     "data": {
      "text/html": [
       "<span style=\"color:blue\"> |-num_layers: 19</span>"
      ],
      "text/plain": [
       "<IPython.core.display.HTML object>"
      ]
     },
     "metadata": {},
     "output_type": "display_data"
    },
    {
     "data": {
      "text/html": [
       "<span style=\"color:cyan\"> |-units_0: 320</span>"
      ],
      "text/plain": [
       "<IPython.core.display.HTML object>"
      ]
     },
     "metadata": {},
     "output_type": "display_data"
    },
    {
     "data": {
      "text/html": [
       "<span style=\"color:blue\"> |-units_1: 256</span>"
      ],
      "text/plain": [
       "<IPython.core.display.HTML object>"
      ]
     },
     "metadata": {},
     "output_type": "display_data"
    },
    {
     "data": {
      "text/html": [
       "<span style=\"color:cyan\"> |-units_10: 32</span>"
      ],
      "text/plain": [
       "<IPython.core.display.HTML object>"
      ]
     },
     "metadata": {},
     "output_type": "display_data"
    },
    {
     "data": {
      "text/html": [
       "<span style=\"color:blue\"> |-units_11: 32</span>"
      ],
      "text/plain": [
       "<IPython.core.display.HTML object>"
      ]
     },
     "metadata": {},
     "output_type": "display_data"
    },
    {
     "data": {
      "text/html": [
       "<span style=\"color:cyan\"> |-units_12: 32</span>"
      ],
      "text/plain": [
       "<IPython.core.display.HTML object>"
      ]
     },
     "metadata": {},
     "output_type": "display_data"
    },
    {
     "data": {
      "text/html": [
       "<span style=\"color:blue\"> |-units_13: 32</span>"
      ],
      "text/plain": [
       "<IPython.core.display.HTML object>"
      ]
     },
     "metadata": {},
     "output_type": "display_data"
    },
    {
     "data": {
      "text/html": [
       "<span style=\"color:cyan\"> |-units_14: 32</span>"
      ],
      "text/plain": [
       "<IPython.core.display.HTML object>"
      ]
     },
     "metadata": {},
     "output_type": "display_data"
    },
    {
     "data": {
      "text/html": [
       "<span style=\"color:blue\"> |-units_15: 32</span>"
      ],
      "text/plain": [
       "<IPython.core.display.HTML object>"
      ]
     },
     "metadata": {},
     "output_type": "display_data"
    },
    {
     "data": {
      "text/html": [
       "<span style=\"color:cyan\"> |-units_16: 32</span>"
      ],
      "text/plain": [
       "<IPython.core.display.HTML object>"
      ]
     },
     "metadata": {},
     "output_type": "display_data"
    },
    {
     "data": {
      "text/html": [
       "<span style=\"color:blue\"> |-units_17: 32</span>"
      ],
      "text/plain": [
       "<IPython.core.display.HTML object>"
      ]
     },
     "metadata": {},
     "output_type": "display_data"
    },
    {
     "data": {
      "text/html": [
       "<span style=\"color:cyan\"> |-units_18: 32</span>"
      ],
      "text/plain": [
       "<IPython.core.display.HTML object>"
      ]
     },
     "metadata": {},
     "output_type": "display_data"
    },
    {
     "data": {
      "text/html": [
       "<span style=\"color:blue\"> |-units_2: 32</span>"
      ],
      "text/plain": [
       "<IPython.core.display.HTML object>"
      ]
     },
     "metadata": {},
     "output_type": "display_data"
    },
    {
     "data": {
      "text/html": [
       "<span style=\"color:cyan\"> |-units_3: 32</span>"
      ],
      "text/plain": [
       "<IPython.core.display.HTML object>"
      ]
     },
     "metadata": {},
     "output_type": "display_data"
    },
    {
     "data": {
      "text/html": [
       "<span style=\"color:blue\"> |-units_4: 32</span>"
      ],
      "text/plain": [
       "<IPython.core.display.HTML object>"
      ]
     },
     "metadata": {},
     "output_type": "display_data"
    },
    {
     "data": {
      "text/html": [
       "<span style=\"color:cyan\"> |-units_5: 32</span>"
      ],
      "text/plain": [
       "<IPython.core.display.HTML object>"
      ]
     },
     "metadata": {},
     "output_type": "display_data"
    },
    {
     "data": {
      "text/html": [
       "<span style=\"color:blue\"> |-units_6: 32</span>"
      ],
      "text/plain": [
       "<IPython.core.display.HTML object>"
      ]
     },
     "metadata": {},
     "output_type": "display_data"
    },
    {
     "data": {
      "text/html": [
       "<span style=\"color:cyan\"> |-units_7: 32</span>"
      ],
      "text/plain": [
       "<IPython.core.display.HTML object>"
      ]
     },
     "metadata": {},
     "output_type": "display_data"
    },
    {
     "data": {
      "text/html": [
       "<span style=\"color:blue\"> |-units_8: 32</span>"
      ],
      "text/plain": [
       "<IPython.core.display.HTML object>"
      ]
     },
     "metadata": {},
     "output_type": "display_data"
    },
    {
     "data": {
      "text/html": [
       "<span style=\"color:cyan\"> |-units_9: 32</span>"
      ],
      "text/plain": [
       "<IPython.core.display.HTML object>"
      ]
     },
     "metadata": {},
     "output_type": "display_data"
    },
    {
     "data": {
      "text/html": [
       "<span style=\"color:cyan\"> |-Score: 0.9352355003356934</span>"
      ],
      "text/plain": [
       "<IPython.core.display.HTML object>"
      ]
     },
     "metadata": {},
     "output_type": "display_data"
    },
    {
     "data": {
      "text/html": [
       "<span style=\"color:cyan\"> |-Best step: 0</span>"
      ],
      "text/plain": [
       "<IPython.core.display.HTML object>"
      ]
     },
     "metadata": {},
     "output_type": "display_data"
    },
    {
     "name": "stdout",
     "output_type": "stream",
     "text": [
      "Train on 2944 samples, validate on 736 samples\n",
      "Epoch 1/4\n",
      "2944/2944 [==============================] - ETA: 1:13 - loss: 0.6932 - accuracy: 0.43 - ETA: 7s - loss: 0.6924 - accuracy: 0.5531 - ETA: 3s - loss: 0.6895 - accuracy: 0.57 - ETA: 2s - loss: 0.6834 - accuracy: 0.58 - ETA: 1s - loss: 0.6720 - accuracy: 0.58 - ETA: 1s - loss: 0.6550 - accuracy: 0.58 - ETA: 0s - loss: 0.6260 - accuracy: 0.60 - ETA: 0s - loss: 0.5897 - accuracy: 0.64 - ETA: 0s - loss: 0.5640 - accuracy: 0.67 - ETA: 0s - loss: 0.5356 - accuracy: 0.70 - ETA: 0s - loss: 0.5223 - accuracy: 0.72 - 2s 539us/sample - loss: 0.5132 - accuracy: 0.7334 - val_loss: 0.2584 - val_accuracy: 0.9293\n",
      "Epoch 2/4\n",
      "2944/2944 [==============================] - ETA: 0s - loss: 0.3296 - accuracy: 0.93 - ETA: 0s - loss: 0.3439 - accuracy: 0.88 - ETA: 0s - loss: 0.3302 - accuracy: 0.89 - ETA: 0s - loss: 0.3207 - accuracy: 0.89 - ETA: 0s - loss: 0.3031 - accuracy: 0.90 - ETA: 0s - loss: 0.2924 - accuracy: 0.90 - ETA: 0s - loss: 0.2763 - accuracy: 0.91 - ETA: 0s - loss: 0.2764 - accuracy: 0.91 - ETA: 0s - loss: 0.2650 - accuracy: 0.91 - ETA: 0s - loss: 0.2576 - accuracy: 0.91 - ETA: 0s - loss: 0.2577 - accuracy: 0.92 - ETA: 0s - loss: 0.2546 - accuracy: 0.92 - 1s 242us/sample - loss: 0.2555 - accuracy: 0.9222 - val_loss: 0.1929 - val_accuracy: 0.9361\n",
      "Epoch 3/4\n",
      "2944/2944 [==============================] - ETA: 0s - loss: 0.3645 - accuracy: 0.90 - ETA: 0s - loss: 0.2334 - accuracy: 0.92 - ETA: 0s - loss: 0.2261 - accuracy: 0.92 - ETA: 0s - loss: 0.2085 - accuracy: 0.93 - ETA: 0s - loss: 0.2031 - accuracy: 0.94 - ETA: 0s - loss: 0.2024 - accuracy: 0.93 - ETA: 0s - loss: 0.2057 - accuracy: 0.93 - ETA: 0s - loss: 0.1973 - accuracy: 0.93 - ETA: 0s - loss: 0.1916 - accuracy: 0.93 - ETA: 0s - loss: 0.1921 - accuracy: 0.93 - ETA: 0s - loss: 0.1863 - accuracy: 0.94 - 1s 230us/sample - loss: 0.1840 - accuracy: 0.9412 - val_loss: 0.1762 - val_accuracy: 0.9416\n",
      "Epoch 4/4\n",
      "2944/2944 [==============================] - ETA: 0s - loss: 0.0542 - accuracy: 1.00 - ETA: 0s - loss: 0.1813 - accuracy: 0.94 - ETA: 0s - loss: 0.1701 - accuracy: 0.95 - ETA: 0s - loss: 0.1569 - accuracy: 0.95 - ETA: 0s - loss: 0.1545 - accuracy: 0.95 - ETA: 0s - loss: 0.1502 - accuracy: 0.95 - ETA: 0s - loss: 0.1659 - accuracy: 0.94 - ETA: 0s - loss: 0.1693 - accuracy: 0.94 - ETA: 0s - loss: 0.1644 - accuracy: 0.94 - ETA: 0s - loss: 0.1596 - accuracy: 0.94 - ETA: 0s - loss: 0.1618 - accuracy: 0.94 - ETA: 0s - loss: 0.1644 - accuracy: 0.94 - 1s 230us/sample - loss: 0.1628 - accuracy: 0.9467 - val_loss: 0.1943 - val_accuracy: 0.9266\n",
      "Train on 2944 samples, validate on 736 samples\n",
      "Epoch 1/4\n",
      "2944/2944 [==============================] - ETA: 1:02 - loss: 0.6933 - accuracy: 0.43 - ETA: 6s - loss: 0.6920 - accuracy: 0.5868 - ETA: 3s - loss: 0.6906 - accuracy: 0.59 - ETA: 2s - loss: 0.6873 - accuracy: 0.59 - ETA: 1s - loss: 0.6793 - accuracy: 0.59 - ETA: 1s - loss: 0.6640 - accuracy: 0.61 - ETA: 0s - loss: 0.6376 - accuracy: 0.63 - ETA: 0s - loss: 0.6077 - accuracy: 0.67 - ETA: 0s - loss: 0.5769 - accuracy: 0.69 - ETA: 0s - loss: 0.5505 - accuracy: 0.71 - ETA: 0s - loss: 0.5257 - accuracy: 0.73 - ETA: 0s - loss: 0.5091 - accuracy: 0.74 - 2s 535us/sample - loss: 0.5038 - accuracy: 0.7541 - val_loss: 0.2287 - val_accuracy: 0.9293\n",
      "Epoch 2/4\n",
      "2944/2944 [==============================] - ETA: 0s - loss: 0.2073 - accuracy: 0.93 - ETA: 0s - loss: 0.1823 - accuracy: 0.95 - ETA: 0s - loss: 0.2077 - accuracy: 0.94 - ETA: 0s - loss: 0.2280 - accuracy: 0.94 - ETA: 0s - loss: 0.2226 - accuracy: 0.93 - ETA: 0s - loss: 0.2217 - accuracy: 0.93 - ETA: 0s - loss: 0.2256 - accuracy: 0.93 - ETA: 0s - loss: 0.2310 - accuracy: 0.92 - ETA: 0s - loss: 0.2302 - accuracy: 0.92 - ETA: 0s - loss: 0.2298 - accuracy: 0.92 - ETA: 0s - loss: 0.2333 - accuracy: 0.92 - ETA: 0s - loss: 0.2293 - accuracy: 0.92 - 1s 233us/sample - loss: 0.2277 - accuracy: 0.9253 - val_loss: 0.1802 - val_accuracy: 0.9361\n",
      "Epoch 3/4\n",
      "2944/2944 [==============================] - ETA: 0s - loss: 0.3614 - accuracy: 0.93 - ETA: 0s - loss: 0.1723 - accuracy: 0.94 - ETA: 0s - loss: 0.1562 - accuracy: 0.94 - ETA: 0s - loss: 0.1419 - accuracy: 0.95 - ETA: 0s - loss: 0.1479 - accuracy: 0.95 - ETA: 0s - loss: 0.1332 - accuracy: 0.95 - ETA: 0s - loss: 0.1497 - accuracy: 0.95 - ETA: 0s - loss: 0.1566 - accuracy: 0.94 - ETA: 0s - loss: 0.1651 - accuracy: 0.94 - ETA: 0s - loss: 0.1652 - accuracy: 0.94 - ETA: 0s - loss: 0.1669 - accuracy: 0.94 - ETA: 0s - loss: 0.1753 - accuracy: 0.94 - 1s 245us/sample - loss: 0.1811 - accuracy: 0.9412 - val_loss: 0.1914 - val_accuracy: 0.9429\n",
      "Epoch 4/4\n",
      "2944/2944 [==============================] - ETA: 0s - loss: 0.1560 - accuracy: 0.93 - ETA: 0s - loss: 0.1701 - accuracy: 0.94 - ETA: 0s - loss: 0.1589 - accuracy: 0.95 - ETA: 0s - loss: 0.1667 - accuracy: 0.94 - ETA: 0s - loss: 0.1524 - accuracy: 0.94 - ETA: 0s - loss: 0.1497 - accuracy: 0.94 - ETA: 0s - loss: 0.1473 - accuracy: 0.95 - ETA: 0s - loss: 0.1481 - accuracy: 0.95 - ETA: 0s - loss: 0.1474 - accuracy: 0.95 - ETA: 0s - loss: 0.1487 - accuracy: 0.95 - ETA: 0s - loss: 0.1529 - accuracy: 0.95 - 1s 213us/sample - loss: 0.1521 - accuracy: 0.9521 - val_loss: 0.1891 - val_accuracy: 0.9185\n",
      "Train on 2944 samples, validate on 736 samples\n",
      "Epoch 1/4\n",
      "2944/2944 [==============================] - ETA: 1:05 - loss: 0.6931 - accuracy: 0.46 - ETA: 7s - loss: 0.6925 - accuracy: 0.5417 - ETA: 3s - loss: 0.6911 - accuracy: 0.59 - ETA: 2s - loss: 0.6867 - accuracy: 0.65 - ETA: 1s - loss: 0.6792 - accuracy: 0.68 - ETA: 1s - loss: 0.6651 - accuracy: 0.71 - ETA: 1s - loss: 0.6439 - accuracy: 0.73 - ETA: 0s - loss: 0.6150 - accuracy: 0.74 - ETA: 0s - loss: 0.5787 - accuracy: 0.76 - ETA: 0s - loss: 0.5544 - accuracy: 0.77 - ETA: 0s - loss: 0.5270 - accuracy: 0.79 - ETA: 0s - loss: 0.5061 - accuracy: 0.79 - ETA: 0s - loss: 0.4848 - accuracy: 0.80 - 2s 569us/sample - loss: 0.4805 - accuracy: 0.8122 - val_loss: 0.2319 - val_accuracy: 0.9117\n",
      "Epoch 2/4\n",
      "2944/2944 [==============================] - ETA: 0s - loss: 0.2388 - accuracy: 0.90 - ETA: 0s - loss: 0.2574 - accuracy: 0.91 - ETA: 0s - loss: 0.2971 - accuracy: 0.90 - ETA: 0s - loss: 0.2713 - accuracy: 0.91 - ETA: 0s - loss: 0.2622 - accuracy: 0.92 - ETA: 0s - loss: 0.2552 - accuracy: 0.91 - ETA: 0s - loss: 0.2495 - accuracy: 0.92 - ETA: 0s - loss: 0.2397 - accuracy: 0.92 - ETA: 0s - loss: 0.2334 - accuracy: 0.92 - ETA: 0s - loss: 0.2322 - accuracy: 0.92 - ETA: 0s - loss: 0.2281 - accuracy: 0.92 - ETA: 0s - loss: 0.2254 - accuracy: 0.92 - 1s 230us/sample - loss: 0.2284 - accuracy: 0.9263 - val_loss: 0.1993 - val_accuracy: 0.9334\n",
      "Epoch 3/4\n",
      "2944/2944 [==============================] - ETA: 0s - loss: 0.1401 - accuracy: 0.96 - ETA: 0s - loss: 0.1792 - accuracy: 0.93 - ETA: 0s - loss: 0.1598 - accuracy: 0.94 - ETA: 0s - loss: 0.1790 - accuracy: 0.95 - ETA: 0s - loss: 0.1813 - accuracy: 0.94 - ETA: 0s - loss: 0.1856 - accuracy: 0.94 - ETA: 0s - loss: 0.1855 - accuracy: 0.94 - ETA: 0s - loss: 0.1822 - accuracy: 0.94 - ETA: 0s - loss: 0.1808 - accuracy: 0.94 - ETA: 0s - loss: 0.1843 - accuracy: 0.94 - ETA: 0s - loss: 0.1846 - accuracy: 0.94 - ETA: 0s - loss: 0.1828 - accuracy: 0.94 - 1s 222us/sample - loss: 0.1823 - accuracy: 0.9440 - val_loss: 0.1658 - val_accuracy: 0.9348\n",
      "Epoch 4/4\n",
      "2944/2944 [==============================] - ETA: 0s - loss: 0.0711 - accuracy: 0.96 - ETA: 0s - loss: 0.1152 - accuracy: 0.96 - ETA: 0s - loss: 0.1431 - accuracy: 0.96 - ETA: 0s - loss: 0.1424 - accuracy: 0.95 - ETA: 0s - loss: 0.1533 - accuracy: 0.95 - ETA: 0s - loss: 0.1520 - accuracy: 0.95 - ETA: 0s - loss: 0.1514 - accuracy: 0.95 - ETA: 0s - loss: 0.1496 - accuracy: 0.95 - ETA: 0s - loss: 0.1488 - accuracy: 0.95 - ETA: 0s - loss: 0.1534 - accuracy: 0.95 - ETA: 0s - loss: 0.1544 - accuracy: 0.94 - ETA: 0s - loss: 0.1547 - accuracy: 0.94 - 1s 222us/sample - loss: 0.1551 - accuracy: 0.9490 - val_loss: 0.1793 - val_accuracy: 0.9198\n"
     ]
    },
    {
     "data": {
      "text/html": [
       "<span style=\"color:#4527A0\"><h1 style=\"font-size:18px\">Trial complete</h1></span>"
      ],
      "text/plain": [
       "<IPython.core.display.HTML object>"
      ]
     },
     "metadata": {},
     "output_type": "display_data"
    },
    {
     "data": {
      "text/html": [
       "<span style=\"color:#4527A0\"><h1 style=\"font-size:18px\">Trial summary</h1></span>"
      ],
      "text/plain": [
       "<IPython.core.display.HTML object>"
      ]
     },
     "metadata": {},
     "output_type": "display_data"
    },
    {
     "data": {
      "text/html": [
       "<span style=\"color:#7E57C2\"><h2 style=\"font-size:16px\">Hp values:</h2></span>"
      ],
      "text/plain": [
       "<IPython.core.display.HTML object>"
      ]
     },
     "metadata": {},
     "output_type": "display_data"
    },
    {
     "data": {
      "text/html": [
       "<span style=\"color:cyan\"> |-learning_rate: 0.0001</span>"
      ],
      "text/plain": [
       "<IPython.core.display.HTML object>"
      ]
     },
     "metadata": {},
     "output_type": "display_data"
    },
    {
     "data": {
      "text/html": [
       "<span style=\"color:blue\"> |-num_layers: 14</span>"
      ],
      "text/plain": [
       "<IPython.core.display.HTML object>"
      ]
     },
     "metadata": {},
     "output_type": "display_data"
    },
    {
     "data": {
      "text/html": [
       "<span style=\"color:cyan\"> |-units_0: 320</span>"
      ],
      "text/plain": [
       "<IPython.core.display.HTML object>"
      ]
     },
     "metadata": {},
     "output_type": "display_data"
    },
    {
     "data": {
      "text/html": [
       "<span style=\"color:blue\"> |-units_1: 256</span>"
      ],
      "text/plain": [
       "<IPython.core.display.HTML object>"
      ]
     },
     "metadata": {},
     "output_type": "display_data"
    },
    {
     "data": {
      "text/html": [
       "<span style=\"color:cyan\"> |-units_10: 256</span>"
      ],
      "text/plain": [
       "<IPython.core.display.HTML object>"
      ]
     },
     "metadata": {},
     "output_type": "display_data"
    },
    {
     "data": {
      "text/html": [
       "<span style=\"color:blue\"> |-units_11: 416</span>"
      ],
      "text/plain": [
       "<IPython.core.display.HTML object>"
      ]
     },
     "metadata": {},
     "output_type": "display_data"
    },
    {
     "data": {
      "text/html": [
       "<span style=\"color:cyan\"> |-units_12: 160</span>"
      ],
      "text/plain": [
       "<IPython.core.display.HTML object>"
      ]
     },
     "metadata": {},
     "output_type": "display_data"
    },
    {
     "data": {
      "text/html": [
       "<span style=\"color:blue\"> |-units_13: 64</span>"
      ],
      "text/plain": [
       "<IPython.core.display.HTML object>"
      ]
     },
     "metadata": {},
     "output_type": "display_data"
    },
    {
     "data": {
      "text/html": [
       "<span style=\"color:cyan\"> |-units_14: 64</span>"
      ],
      "text/plain": [
       "<IPython.core.display.HTML object>"
      ]
     },
     "metadata": {},
     "output_type": "display_data"
    },
    {
     "data": {
      "text/html": [
       "<span style=\"color:blue\"> |-units_15: 224</span>"
      ],
      "text/plain": [
       "<IPython.core.display.HTML object>"
      ]
     },
     "metadata": {},
     "output_type": "display_data"
    },
    {
     "data": {
      "text/html": [
       "<span style=\"color:cyan\"> |-units_16: 352</span>"
      ],
      "text/plain": [
       "<IPython.core.display.HTML object>"
      ]
     },
     "metadata": {},
     "output_type": "display_data"
    },
    {
     "data": {
      "text/html": [
       "<span style=\"color:blue\"> |-units_17: 416</span>"
      ],
      "text/plain": [
       "<IPython.core.display.HTML object>"
      ]
     },
     "metadata": {},
     "output_type": "display_data"
    },
    {
     "data": {
      "text/html": [
       "<span style=\"color:cyan\"> |-units_18: 416</span>"
      ],
      "text/plain": [
       "<IPython.core.display.HTML object>"
      ]
     },
     "metadata": {},
     "output_type": "display_data"
    },
    {
     "data": {
      "text/html": [
       "<span style=\"color:blue\"> |-units_2: 224</span>"
      ],
      "text/plain": [
       "<IPython.core.display.HTML object>"
      ]
     },
     "metadata": {},
     "output_type": "display_data"
    },
    {
     "data": {
      "text/html": [
       "<span style=\"color:cyan\"> |-units_3: 512</span>"
      ],
      "text/plain": [
       "<IPython.core.display.HTML object>"
      ]
     },
     "metadata": {},
     "output_type": "display_data"
    },
    {
     "data": {
      "text/html": [
       "<span style=\"color:blue\"> |-units_4: 224</span>"
      ],
      "text/plain": [
       "<IPython.core.display.HTML object>"
      ]
     },
     "metadata": {},
     "output_type": "display_data"
    },
    {
     "data": {
      "text/html": [
       "<span style=\"color:cyan\"> |-units_5: 64</span>"
      ],
      "text/plain": [
       "<IPython.core.display.HTML object>"
      ]
     },
     "metadata": {},
     "output_type": "display_data"
    },
    {
     "data": {
      "text/html": [
       "<span style=\"color:blue\"> |-units_6: 96</span>"
      ],
      "text/plain": [
       "<IPython.core.display.HTML object>"
      ]
     },
     "metadata": {},
     "output_type": "display_data"
    },
    {
     "data": {
      "text/html": [
       "<span style=\"color:cyan\"> |-units_7: 480</span>"
      ],
      "text/plain": [
       "<IPython.core.display.HTML object>"
      ]
     },
     "metadata": {},
     "output_type": "display_data"
    },
    {
     "data": {
      "text/html": [
       "<span style=\"color:blue\"> |-units_8: 64</span>"
      ],
      "text/plain": [
       "<IPython.core.display.HTML object>"
      ]
     },
     "metadata": {},
     "output_type": "display_data"
    },
    {
     "data": {
      "text/html": [
       "<span style=\"color:cyan\"> |-units_9: 192</span>"
      ],
      "text/plain": [
       "<IPython.core.display.HTML object>"
      ]
     },
     "metadata": {},
     "output_type": "display_data"
    },
    {
     "data": {
      "text/html": [
       "<span style=\"color:cyan\"> |-Score: 0.9397644996643066</span>"
      ],
      "text/plain": [
       "<IPython.core.display.HTML object>"
      ]
     },
     "metadata": {},
     "output_type": "display_data"
    },
    {
     "data": {
      "text/html": [
       "<span style=\"color:cyan\"> |-Best step: 0</span>"
      ],
      "text/plain": [
       "<IPython.core.display.HTML object>"
      ]
     },
     "metadata": {},
     "output_type": "display_data"
    },
    {
     "name": "stdout",
     "output_type": "stream",
     "text": [
      "Train on 2944 samples, validate on 736 samples\n",
      "Epoch 1/4\n",
      "2944/2944 [==============================] - ETA: 49s - loss: 0.7022 - accuracy: 0.343 - ETA: 6s - loss: 0.6353 - accuracy: 0.574 - ETA: 3s - loss: 0.5236 - accuracy: 0.70 - ETA: 2s - loss: 0.4592 - accuracy: 0.77 - ETA: 1s - loss: 0.4185 - accuracy: 0.80 - ETA: 1s - loss: 0.3906 - accuracy: 0.83 - ETA: 1s - loss: 0.3687 - accuracy: 0.84 - ETA: 0s - loss: 0.3436 - accuracy: 0.85 - ETA: 0s - loss: 0.3339 - accuracy: 0.86 - ETA: 0s - loss: 0.3321 - accuracy: 0.86 - ETA: 0s - loss: 0.3308 - accuracy: 0.86 - ETA: 0s - loss: 0.3199 - accuracy: 0.87 - ETA: 0s - loss: 0.3086 - accuracy: 0.87 - ETA: 0s - loss: 0.2944 - accuracy: 0.88 - 1s 509us/sample - loss: 0.2909 - accuracy: 0.8838 - val_loss: 0.2164 - val_accuracy: 0.9266\n",
      "Epoch 2/4\n",
      "2944/2944 [==============================] - ETA: 0s - loss: 0.1183 - accuracy: 0.96 - ETA: 0s - loss: 0.2351 - accuracy: 0.92 - ETA: 0s - loss: 0.2434 - accuracy: 0.92 - ETA: 0s - loss: 0.2155 - accuracy: 0.93 - ETA: 0s - loss: 0.2033 - accuracy: 0.93 - ETA: 0s - loss: 0.2080 - accuracy: 0.92 - ETA: 0s - loss: 0.2070 - accuracy: 0.93 - ETA: 0s - loss: 0.2043 - accuracy: 0.93 - ETA: 0s - loss: 0.2024 - accuracy: 0.93 - ETA: 0s - loss: 0.2035 - accuracy: 0.93 - ETA: 0s - loss: 0.1982 - accuracy: 0.93 - ETA: 0s - loss: 0.1996 - accuracy: 0.93 - ETA: 0s - loss: 0.1982 - accuracy: 0.93 - ETA: 0s - loss: 0.1943 - accuracy: 0.93 - 1s 294us/sample - loss: 0.1927 - accuracy: 0.9355 - val_loss: 0.2058 - val_accuracy: 0.9321\n",
      "Epoch 3/4\n",
      "2944/2944 [==============================] - ETA: 0s - loss: 0.0413 - accuracy: 1.00 - ETA: 0s - loss: 0.0883 - accuracy: 0.96 - ETA: 0s - loss: 0.1613 - accuracy: 0.95 - ETA: 0s - loss: 0.1781 - accuracy: 0.93 - ETA: 0s - loss: 0.1720 - accuracy: 0.94 - ETA: 0s - loss: 0.1791 - accuracy: 0.93 - ETA: 0s - loss: 0.1691 - accuracy: 0.94 - ETA: 0s - loss: 0.1761 - accuracy: 0.93 - ETA: 0s - loss: 0.1653 - accuracy: 0.94 - ETA: 0s - loss: 0.1632 - accuracy: 0.94 - ETA: 0s - loss: 0.1576 - accuracy: 0.94 - ETA: 0s - loss: 0.1506 - accuracy: 0.94 - ETA: 0s - loss: 0.1555 - accuracy: 0.94 - ETA: 0s - loss: 0.1550 - accuracy: 0.94 - ETA: 0s - loss: 0.1525 - accuracy: 0.94 - 1s 305us/sample - loss: 0.1528 - accuracy: 0.9484 - val_loss: 0.1940 - val_accuracy: 0.9389\n",
      "Epoch 4/4\n",
      "2944/2944 [==============================] - ETA: 0s - loss: 0.0995 - accuracy: 0.93 - ETA: 0s - loss: 0.1666 - accuracy: 0.94 - ETA: 0s - loss: 0.1319 - accuracy: 0.95 - ETA: 0s - loss: 0.1214 - accuracy: 0.95 - ETA: 0s - loss: 0.1236 - accuracy: 0.95 - ETA: 0s - loss: 0.1256 - accuracy: 0.95 - ETA: 0s - loss: 0.1220 - accuracy: 0.95 - ETA: 0s - loss: 0.1238 - accuracy: 0.95 - ETA: 0s - loss: 0.1234 - accuracy: 0.95 - ETA: 0s - loss: 0.1256 - accuracy: 0.95 - ETA: 0s - loss: 0.1253 - accuracy: 0.95 - ETA: 0s - loss: 0.1310 - accuracy: 0.95 - ETA: 0s - loss: 0.1306 - accuracy: 0.95 - ETA: 0s - loss: 0.1344 - accuracy: 0.95 - ETA: 0s - loss: 0.1390 - accuracy: 0.95 - 1s 322us/sample - loss: 0.1370 - accuracy: 0.9524 - val_loss: 0.1677 - val_accuracy: 0.9416\n",
      "Train on 2944 samples, validate on 736 samples\n",
      "Epoch 1/4\n",
      "2944/2944 [==============================] - ETA: 46s - loss: 0.6898 - accuracy: 0.625 - ETA: 6s - loss: 0.6500 - accuracy: 0.620 - ETA: 3s - loss: 0.5714 - accuracy: 0.71 - ETA: 2s - loss: 0.4881 - accuracy: 0.78 - ETA: 1s - loss: 0.4515 - accuracy: 0.80 - ETA: 1s - loss: 0.4259 - accuracy: 0.82 - ETA: 1s - loss: 0.3957 - accuracy: 0.84 - ETA: 0s - loss: 0.3746 - accuracy: 0.85 - ETA: 0s - loss: 0.3557 - accuracy: 0.86 - ETA: 0s - loss: 0.3433 - accuracy: 0.86 - ETA: 0s - loss: 0.3348 - accuracy: 0.87 - ETA: 0s - loss: 0.3217 - accuracy: 0.88 - ETA: 0s - loss: 0.3124 - accuracy: 0.88 - ETA: 0s - loss: 0.3057 - accuracy: 0.88 - ETA: 0s - loss: 0.2996 - accuracy: 0.89 - 1s 491us/sample - loss: 0.2988 - accuracy: 0.8930 - val_loss: 0.1886 - val_accuracy: 0.9171\n",
      "Epoch 2/4\n",
      "2944/2944 [==============================] - ETA: 0s - loss: 0.1013 - accuracy: 0.96 - ETA: 0s - loss: 0.1652 - accuracy: 0.94 - ETA: 0s - loss: 0.1696 - accuracy: 0.93 - ETA: 0s - loss: 0.1793 - accuracy: 0.94 - ETA: 0s - loss: 0.1845 - accuracy: 0.93 - ETA: 0s - loss: 0.1733 - accuracy: 0.94 - ETA: 0s - loss: 0.1889 - accuracy: 0.94 - ETA: 0s - loss: 0.1915 - accuracy: 0.93 - ETA: 0s - loss: 0.1887 - accuracy: 0.93 - ETA: 0s - loss: 0.1871 - accuracy: 0.93 - ETA: 0s - loss: 0.1893 - accuracy: 0.93 - ETA: 0s - loss: 0.1878 - accuracy: 0.93 - ETA: 0s - loss: 0.1870 - accuracy: 0.93 - ETA: 0s - loss: 0.1871 - accuracy: 0.93 - 1s 280us/sample - loss: 0.1876 - accuracy: 0.9355 - val_loss: 0.1900 - val_accuracy: 0.9117\n",
      "Epoch 3/4\n",
      "2944/2944 [==============================] - ETA: 0s - loss: 0.1367 - accuracy: 0.90 - ETA: 0s - loss: 0.0806 - accuracy: 0.96 - ETA: 0s - loss: 0.1066 - accuracy: 0.96 - ETA: 0s - loss: 0.1142 - accuracy: 0.95 - ETA: 0s - loss: 0.1282 - accuracy: 0.95 - ETA: 0s - loss: 0.1414 - accuracy: 0.94 - ETA: 0s - loss: 0.1422 - accuracy: 0.95 - ETA: 0s - loss: 0.1446 - accuracy: 0.94 - ETA: 0s - loss: 0.1471 - accuracy: 0.94 - ETA: 0s - loss: 0.1498 - accuracy: 0.94 - ETA: 0s - loss: 0.1471 - accuracy: 0.94 - ETA: 0s - loss: 0.1461 - accuracy: 0.94 - ETA: 0s - loss: 0.1468 - accuracy: 0.94 - ETA: 0s - loss: 0.1486 - accuracy: 0.94 - ETA: 0s - loss: 0.1518 - accuracy: 0.94 - 1s 295us/sample - loss: 0.1496 - accuracy: 0.9477 - val_loss: 0.1687 - val_accuracy: 0.9334\n",
      "Epoch 4/4\n",
      "2944/2944 [==============================] - ETA: 0s - loss: 0.1612 - accuracy: 0.90 - ETA: 0s - loss: 0.1259 - accuracy: 0.95 - ETA: 0s - loss: 0.0931 - accuracy: 0.95 - ETA: 0s - loss: 0.1068 - accuracy: 0.96 - ETA: 0s - loss: 0.1124 - accuracy: 0.95 - ETA: 0s - loss: 0.1155 - accuracy: 0.95 - ETA: 0s - loss: 0.1170 - accuracy: 0.94 - ETA: 0s - loss: 0.1254 - accuracy: 0.94 - ETA: 0s - loss: 0.1209 - accuracy: 0.94 - ETA: 0s - loss: 0.1220 - accuracy: 0.94 - ETA: 0s - loss: 0.1263 - accuracy: 0.94 - ETA: 0s - loss: 0.1287 - accuracy: 0.94 - ETA: 0s - loss: 0.1292 - accuracy: 0.94 - ETA: 0s - loss: 0.1276 - accuracy: 0.94 - ETA: 0s - loss: 0.1274 - accuracy: 0.95 - ETA: 0s - loss: 0.1279 - accuracy: 0.95 - 1s 306us/sample - loss: 0.1266 - accuracy: 0.9507 - val_loss: 0.1773 - val_accuracy: 0.9307\n",
      "Train on 2944 samples, validate on 736 samples\n",
      "Epoch 1/4\n",
      "2944/2944 [==============================] - ETA: 47s - loss: 0.6954 - accuracy: 0.343 - ETA: 6s - loss: 0.5820 - accuracy: 0.617 - ETA: 3s - loss: 0.5090 - accuracy: 0.73 - ETA: 2s - loss: 0.4529 - accuracy: 0.78 - ETA: 1s - loss: 0.4209 - accuracy: 0.81 - ETA: 1s - loss: 0.3993 - accuracy: 0.82 - ETA: 0s - loss: 0.3597 - accuracy: 0.84 - ETA: 0s - loss: 0.3396 - accuracy: 0.85 - ETA: 0s - loss: 0.3270 - accuracy: 0.86 - ETA: 0s - loss: 0.3240 - accuracy: 0.86 - ETA: 0s - loss: 0.3198 - accuracy: 0.87 - ETA: 0s - loss: 0.3077 - accuracy: 0.87 - ETA: 0s - loss: 0.3124 - accuracy: 0.87 - 1s 471us/sample - loss: 0.3072 - accuracy: 0.8828 - val_loss: 0.2162 - val_accuracy: 0.9293\n",
      "Epoch 2/4\n",
      "2944/2944 [==============================] - ETA: 0s - loss: 0.1314 - accuracy: 0.90 - ETA: 0s - loss: 0.2085 - accuracy: 0.89 - ETA: 0s - loss: 0.1902 - accuracy: 0.90 - ETA: 0s - loss: 0.1891 - accuracy: 0.91 - ETA: 0s - loss: 0.2012 - accuracy: 0.92 - ETA: 0s - loss: 0.1904 - accuracy: 0.92 - ETA: 0s - loss: 0.1779 - accuracy: 0.92 - ETA: 0s - loss: 0.1877 - accuracy: 0.92 - ETA: 0s - loss: 0.1936 - accuracy: 0.92 - ETA: 0s - loss: 0.1913 - accuracy: 0.92 - ETA: 0s - loss: 0.1893 - accuracy: 0.92 - ETA: 0s - loss: 0.1857 - accuracy: 0.92 - ETA: 0s - loss: 0.1790 - accuracy: 0.93 - ETA: 0s - loss: 0.1803 - accuracy: 0.93 - ETA: 0s - loss: 0.1754 - accuracy: 0.93 - 1s 282us/sample - loss: 0.1756 - accuracy: 0.9351 - val_loss: 0.1644 - val_accuracy: 0.9375\n",
      "Epoch 3/4\n",
      "2944/2944 [==============================] - ETA: 0s - loss: 0.1126 - accuracy: 0.96 - ETA: 0s - loss: 0.1620 - accuracy: 0.93 - ETA: 0s - loss: 0.1850 - accuracy: 0.92 - ETA: 0s - loss: 0.1609 - accuracy: 0.93 - ETA: 0s - loss: 0.1648 - accuracy: 0.94 - ETA: 0s - loss: 0.1633 - accuracy: 0.93 - ETA: 0s - loss: 0.1713 - accuracy: 0.93 - ETA: 0s - loss: 0.1639 - accuracy: 0.94 - ETA: 0s - loss: 0.1595 - accuracy: 0.94 - ETA: 0s - loss: 0.1558 - accuracy: 0.94 - ETA: 0s - loss: 0.1658 - accuracy: 0.94 - ETA: 0s - loss: 0.1666 - accuracy: 0.94 - ETA: 0s - loss: 0.1690 - accuracy: 0.94 - ETA: 0s - loss: 0.1668 - accuracy: 0.94 - 1s 286us/sample - loss: 0.1664 - accuracy: 0.9450 - val_loss: 0.1716 - val_accuracy: 0.9457\n",
      "Epoch 4/4\n",
      "2944/2944 [==============================] - ETA: 0s - loss: 0.1361 - accuracy: 0.90 - ETA: 0s - loss: 0.0800 - accuracy: 0.96 - ETA: 0s - loss: 0.0863 - accuracy: 0.96 - ETA: 0s - loss: 0.0982 - accuracy: 0.96 - ETA: 0s - loss: 0.1065 - accuracy: 0.95 - ETA: 0s - loss: 0.1109 - accuracy: 0.95 - ETA: 0s - loss: 0.1193 - accuracy: 0.95 - ETA: 0s - loss: 0.1220 - accuracy: 0.95 - ETA: 0s - loss: 0.1288 - accuracy: 0.95 - ETA: 0s - loss: 0.1258 - accuracy: 0.95 - ETA: 0s - loss: 0.1226 - accuracy: 0.95 - ETA: 0s - loss: 0.1195 - accuracy: 0.95 - ETA: 0s - loss: 0.1189 - accuracy: 0.95 - 1s 251us/sample - loss: 0.1183 - accuracy: 0.9586 - val_loss: 0.1741 - val_accuracy: 0.9389\n"
     ]
    },
    {
     "data": {
      "text/html": [
       "<span style=\"color:#4527A0\"><h1 style=\"font-size:18px\">Trial complete</h1></span>"
      ],
      "text/plain": [
       "<IPython.core.display.HTML object>"
      ]
     },
     "metadata": {},
     "output_type": "display_data"
    },
    {
     "data": {
      "text/html": [
       "<span style=\"color:#4527A0\"><h1 style=\"font-size:18px\">Trial summary</h1></span>"
      ],
      "text/plain": [
       "<IPython.core.display.HTML object>"
      ]
     },
     "metadata": {},
     "output_type": "display_data"
    },
    {
     "data": {
      "text/html": [
       "<span style=\"color:#7E57C2\"><h2 style=\"font-size:16px\">Hp values:</h2></span>"
      ],
      "text/plain": [
       "<IPython.core.display.HTML object>"
      ]
     },
     "metadata": {},
     "output_type": "display_data"
    },
    {
     "data": {
      "text/html": [
       "<span style=\"color:cyan\"> |-learning_rate: 0.001</span>"
      ],
      "text/plain": [
       "<IPython.core.display.HTML object>"
      ]
     },
     "metadata": {},
     "output_type": "display_data"
    },
    {
     "data": {
      "text/html": [
       "<span style=\"color:blue\"> |-num_layers: 8</span>"
      ],
      "text/plain": [
       "<IPython.core.display.HTML object>"
      ]
     },
     "metadata": {},
     "output_type": "display_data"
    },
    {
     "data": {
      "text/html": [
       "<span style=\"color:cyan\"> |-units_0: 480</span>"
      ],
      "text/plain": [
       "<IPython.core.display.HTML object>"
      ]
     },
     "metadata": {},
     "output_type": "display_data"
    },
    {
     "data": {
      "text/html": [
       "<span style=\"color:blue\"> |-units_1: 384</span>"
      ],
      "text/plain": [
       "<IPython.core.display.HTML object>"
      ]
     },
     "metadata": {},
     "output_type": "display_data"
    },
    {
     "data": {
      "text/html": [
       "<span style=\"color:cyan\"> |-units_10: 480</span>"
      ],
      "text/plain": [
       "<IPython.core.display.HTML object>"
      ]
     },
     "metadata": {},
     "output_type": "display_data"
    },
    {
     "data": {
      "text/html": [
       "<span style=\"color:blue\"> |-units_11: 256</span>"
      ],
      "text/plain": [
       "<IPython.core.display.HTML object>"
      ]
     },
     "metadata": {},
     "output_type": "display_data"
    },
    {
     "data": {
      "text/html": [
       "<span style=\"color:cyan\"> |-units_12: 256</span>"
      ],
      "text/plain": [
       "<IPython.core.display.HTML object>"
      ]
     },
     "metadata": {},
     "output_type": "display_data"
    },
    {
     "data": {
      "text/html": [
       "<span style=\"color:blue\"> |-units_13: 480</span>"
      ],
      "text/plain": [
       "<IPython.core.display.HTML object>"
      ]
     },
     "metadata": {},
     "output_type": "display_data"
    },
    {
     "data": {
      "text/html": [
       "<span style=\"color:cyan\"> |-units_14: 480</span>"
      ],
      "text/plain": [
       "<IPython.core.display.HTML object>"
      ]
     },
     "metadata": {},
     "output_type": "display_data"
    },
    {
     "data": {
      "text/html": [
       "<span style=\"color:blue\"> |-units_15: 384</span>"
      ],
      "text/plain": [
       "<IPython.core.display.HTML object>"
      ]
     },
     "metadata": {},
     "output_type": "display_data"
    },
    {
     "data": {
      "text/html": [
       "<span style=\"color:cyan\"> |-units_16: 320</span>"
      ],
      "text/plain": [
       "<IPython.core.display.HTML object>"
      ]
     },
     "metadata": {},
     "output_type": "display_data"
    },
    {
     "data": {
      "text/html": [
       "<span style=\"color:blue\"> |-units_17: 256</span>"
      ],
      "text/plain": [
       "<IPython.core.display.HTML object>"
      ]
     },
     "metadata": {},
     "output_type": "display_data"
    },
    {
     "data": {
      "text/html": [
       "<span style=\"color:cyan\"> |-units_18: 224</span>"
      ],
      "text/plain": [
       "<IPython.core.display.HTML object>"
      ]
     },
     "metadata": {},
     "output_type": "display_data"
    },
    {
     "data": {
      "text/html": [
       "<span style=\"color:blue\"> |-units_2: 512</span>"
      ],
      "text/plain": [
       "<IPython.core.display.HTML object>"
      ]
     },
     "metadata": {},
     "output_type": "display_data"
    },
    {
     "data": {
      "text/html": [
       "<span style=\"color:cyan\"> |-units_3: 352</span>"
      ],
      "text/plain": [
       "<IPython.core.display.HTML object>"
      ]
     },
     "metadata": {},
     "output_type": "display_data"
    },
    {
     "data": {
      "text/html": [
       "<span style=\"color:blue\"> |-units_4: 128</span>"
      ],
      "text/plain": [
       "<IPython.core.display.HTML object>"
      ]
     },
     "metadata": {},
     "output_type": "display_data"
    },
    {
     "data": {
      "text/html": [
       "<span style=\"color:cyan\"> |-units_5: 448</span>"
      ],
      "text/plain": [
       "<IPython.core.display.HTML object>"
      ]
     },
     "metadata": {},
     "output_type": "display_data"
    },
    {
     "data": {
      "text/html": [
       "<span style=\"color:blue\"> |-units_6: 512</span>"
      ],
      "text/plain": [
       "<IPython.core.display.HTML object>"
      ]
     },
     "metadata": {},
     "output_type": "display_data"
    },
    {
     "data": {
      "text/html": [
       "<span style=\"color:cyan\"> |-units_7: 320</span>"
      ],
      "text/plain": [
       "<IPython.core.display.HTML object>"
      ]
     },
     "metadata": {},
     "output_type": "display_data"
    },
    {
     "data": {
      "text/html": [
       "<span style=\"color:blue\"> |-units_8: 320</span>"
      ],
      "text/plain": [
       "<IPython.core.display.HTML object>"
      ]
     },
     "metadata": {},
     "output_type": "display_data"
    },
    {
     "data": {
      "text/html": [
       "<span style=\"color:cyan\"> |-units_9: 512</span>"
      ],
      "text/plain": [
       "<IPython.core.display.HTML object>"
      ]
     },
     "metadata": {},
     "output_type": "display_data"
    },
    {
     "data": {
      "text/html": [
       "<span style=\"color:cyan\"> |-Score: 0.9402174353599548</span>"
      ],
      "text/plain": [
       "<IPython.core.display.HTML object>"
      ]
     },
     "metadata": {},
     "output_type": "display_data"
    },
    {
     "data": {
      "text/html": [
       "<span style=\"color:cyan\"> |-Best step: 0</span>"
      ],
      "text/plain": [
       "<IPython.core.display.HTML object>"
      ]
     },
     "metadata": {},
     "output_type": "display_data"
    },
    {
     "name": "stdout",
     "output_type": "stream",
     "text": [
      "Train on 2944 samples, validate on 736 samples\n",
      "Epoch 1/4\n",
      "2944/2944 [==============================] - ETA: 28s - loss: 0.7129 - accuracy: 0.406 - ETA: 1s - loss: 0.6531 - accuracy: 0.601 - ETA: 0s - loss: 0.6130 - accuracy: 0.69 - ETA: 0s - loss: 0.5837 - accuracy: 0.72 - ETA: 0s - loss: 0.5526 - accuracy: 0.75 - 1s 235us/sample - loss: 0.5354 - accuracy: 0.7690 - val_loss: 0.3660 - val_accuracy: 0.8845\n",
      "Epoch 2/4\n",
      "2944/2944 [==============================] - ETA: 0s - loss: 0.3509 - accuracy: 0.90 - ETA: 0s - loss: 0.3504 - accuracy: 0.86 - ETA: 0s - loss: 0.3421 - accuracy: 0.87 - ETA: 0s - loss: 0.3232 - accuracy: 0.88 - ETA: 0s - loss: 0.3086 - accuracy: 0.88 - 0s 102us/sample - loss: 0.3085 - accuracy: 0.8886 - val_loss: 0.2320 - val_accuracy: 0.9198\n",
      "Epoch 3/4\n",
      "2944/2944 [==============================] - ETA: 0s - loss: 0.2049 - accuracy: 0.96 - ETA: 0s - loss: 0.2494 - accuracy: 0.91 - ETA: 0s - loss: 0.2486 - accuracy: 0.90 - ETA: 0s - loss: 0.2327 - accuracy: 0.91 - ETA: 0s - loss: 0.2351 - accuracy: 0.91 - 0s 103us/sample - loss: 0.2369 - accuracy: 0.9185 - val_loss: 0.1978 - val_accuracy: 0.9280\n",
      "Epoch 4/4\n",
      "2944/2944 [==============================] - ETA: 0s - loss: 0.2672 - accuracy: 0.87 - ETA: 0s - loss: 0.2046 - accuracy: 0.93 - ETA: 0s - loss: 0.2199 - accuracy: 0.91 - ETA: 0s - loss: 0.2089 - accuracy: 0.92 - ETA: 0s - loss: 0.2078 - accuracy: 0.92 - ETA: 0s - loss: 0.2073 - accuracy: 0.92 - 0s 107us/sample - loss: 0.2080 - accuracy: 0.9283 - val_loss: 0.1818 - val_accuracy: 0.9280\n",
      "Train on 2944 samples, validate on 736 samples\n",
      "Epoch 1/4\n",
      "2944/2944 [==============================] - ETA: 28s - loss: 0.6617 - accuracy: 0.687 - ETA: 1s - loss: 0.6102 - accuracy: 0.666 - ETA: 0s - loss: 0.5768 - accuracy: 0.74 - ETA: 0s - loss: 0.5377 - accuracy: 0.78 - ETA: 0s - loss: 0.5092 - accuracy: 0.80 - 1s 225us/sample - loss: 0.4916 - accuracy: 0.8132 - val_loss: 0.3399 - val_accuracy: 0.9022\n",
      "Epoch 2/4\n",
      "2944/2944 [==============================] - ETA: 0s - loss: 0.4106 - accuracy: 0.90 - ETA: 0s - loss: 0.3426 - accuracy: 0.88 - ETA: 0s - loss: 0.3317 - accuracy: 0.89 - ETA: 0s - loss: 0.3058 - accuracy: 0.90 - ETA: 0s - loss: 0.3097 - accuracy: 0.89 - 0s 96us/sample - loss: 0.3016 - accuracy: 0.9018 - val_loss: 0.2383 - val_accuracy: 0.9171\n",
      "Epoch 3/4\n",
      "2944/2944 [==============================] - ETA: 0s - loss: 0.2435 - accuracy: 0.93 - ETA: 0s - loss: 0.2541 - accuracy: 0.91 - ETA: 0s - loss: 0.2561 - accuracy: 0.90 - ETA: 0s - loss: 0.2566 - accuracy: 0.90 - ETA: 0s - loss: 0.2484 - accuracy: 0.91 - 0s 95us/sample - loss: 0.2444 - accuracy: 0.9130 - val_loss: 0.2063 - val_accuracy: 0.9280\n",
      "Epoch 4/4\n",
      "2944/2944 [==============================] - ETA: 0s - loss: 0.2137 - accuracy: 0.93 - ETA: 0s - loss: 0.1997 - accuracy: 0.93 - ETA: 0s - loss: 0.2043 - accuracy: 0.93 - ETA: 0s - loss: 0.2092 - accuracy: 0.93 - ETA: 0s - loss: 0.2156 - accuracy: 0.92 - 0s 102us/sample - loss: 0.2147 - accuracy: 0.9287 - val_loss: 0.1912 - val_accuracy: 0.9293\n",
      "Train on 2944 samples, validate on 736 samples\n",
      "Epoch 1/4\n",
      "2944/2944 [==============================] - ETA: 26s - loss: 0.7016 - accuracy: 0.500 - ETA: 1s - loss: 0.6464 - accuracy: 0.660 - ETA: 0s - loss: 0.6072 - accuracy: 0.68 - ETA: 0s - loss: 0.5685 - accuracy: 0.72 - ETA: 0s - loss: 0.5391 - accuracy: 0.75 - 1s 218us/sample - loss: 0.5134 - accuracy: 0.7799 - val_loss: 0.3528 - val_accuracy: 0.9144\n",
      "Epoch 2/4\n",
      "2944/2944 [==============================] - ETA: 0s - loss: 0.3529 - accuracy: 0.96 - ETA: 0s - loss: 0.3411 - accuracy: 0.91 - ETA: 0s - loss: 0.3283 - accuracy: 0.90 - ETA: 0s - loss: 0.3287 - accuracy: 0.89 - ETA: 0s - loss: 0.3084 - accuracy: 0.90 - 0s 96us/sample - loss: 0.3019 - accuracy: 0.9012 - val_loss: 0.2397 - val_accuracy: 0.9293\n",
      "Epoch 3/4\n",
      "2944/2944 [==============================] - ETA: 0s - loss: 0.2560 - accuracy: 0.93 - ETA: 0s - loss: 0.2600 - accuracy: 0.91 - ETA: 0s - loss: 0.2518 - accuracy: 0.91 - ETA: 0s - loss: 0.2485 - accuracy: 0.91 - ETA: 0s - loss: 0.2396 - accuracy: 0.92 - ETA: 0s - loss: 0.2375 - accuracy: 0.92 - 0s 110us/sample - loss: 0.2404 - accuracy: 0.9212 - val_loss: 0.2071 - val_accuracy: 0.9321\n",
      "Epoch 4/4\n",
      "2944/2944 [==============================] - ETA: 0s - loss: 0.3215 - accuracy: 0.87 - ETA: 0s - loss: 0.2245 - accuracy: 0.91 - ETA: 0s - loss: 0.2141 - accuracy: 0.92 - ETA: 0s - loss: 0.2190 - accuracy: 0.92 - ETA: 0s - loss: 0.2148 - accuracy: 0.92 - ETA: 0s - loss: 0.2138 - accuracy: 0.92 - 0s 108us/sample - loss: 0.2099 - accuracy: 0.9283 - val_loss: 0.1919 - val_accuracy: 0.9307\n"
     ]
    },
    {
     "data": {
      "text/html": [
       "<span style=\"color:#4527A0\"><h1 style=\"font-size:18px\">Trial complete</h1></span>"
      ],
      "text/plain": [
       "<IPython.core.display.HTML object>"
      ]
     },
     "metadata": {},
     "output_type": "display_data"
    },
    {
     "data": {
      "text/html": [
       "<span style=\"color:#4527A0\"><h1 style=\"font-size:18px\">Trial summary</h1></span>"
      ],
      "text/plain": [
       "<IPython.core.display.HTML object>"
      ]
     },
     "metadata": {},
     "output_type": "display_data"
    },
    {
     "data": {
      "text/html": [
       "<span style=\"color:#7E57C2\"><h2 style=\"font-size:16px\">Hp values:</h2></span>"
      ],
      "text/plain": [
       "<IPython.core.display.HTML object>"
      ]
     },
     "metadata": {},
     "output_type": "display_data"
    },
    {
     "data": {
      "text/html": [
       "<span style=\"color:cyan\"> |-learning_rate: 0.0001</span>"
      ],
      "text/plain": [
       "<IPython.core.display.HTML object>"
      ]
     },
     "metadata": {},
     "output_type": "display_data"
    },
    {
     "data": {
      "text/html": [
       "<span style=\"color:blue\"> |-num_layers: 3</span>"
      ],
      "text/plain": [
       "<IPython.core.display.HTML object>"
      ]
     },
     "metadata": {},
     "output_type": "display_data"
    },
    {
     "data": {
      "text/html": [
       "<span style=\"color:cyan\"> |-units_0: 128</span>"
      ],
      "text/plain": [
       "<IPython.core.display.HTML object>"
      ]
     },
     "metadata": {},
     "output_type": "display_data"
    },
    {
     "data": {
      "text/html": [
       "<span style=\"color:blue\"> |-units_1: 320</span>"
      ],
      "text/plain": [
       "<IPython.core.display.HTML object>"
      ]
     },
     "metadata": {},
     "output_type": "display_data"
    },
    {
     "data": {
      "text/html": [
       "<span style=\"color:cyan\"> |-units_10: 384</span>"
      ],
      "text/plain": [
       "<IPython.core.display.HTML object>"
      ]
     },
     "metadata": {},
     "output_type": "display_data"
    },
    {
     "data": {
      "text/html": [
       "<span style=\"color:blue\"> |-units_11: 64</span>"
      ],
      "text/plain": [
       "<IPython.core.display.HTML object>"
      ]
     },
     "metadata": {},
     "output_type": "display_data"
    },
    {
     "data": {
      "text/html": [
       "<span style=\"color:cyan\"> |-units_12: 512</span>"
      ],
      "text/plain": [
       "<IPython.core.display.HTML object>"
      ]
     },
     "metadata": {},
     "output_type": "display_data"
    },
    {
     "data": {
      "text/html": [
       "<span style=\"color:blue\"> |-units_13: 192</span>"
      ],
      "text/plain": [
       "<IPython.core.display.HTML object>"
      ]
     },
     "metadata": {},
     "output_type": "display_data"
    },
    {
     "data": {
      "text/html": [
       "<span style=\"color:cyan\"> |-units_14: 320</span>"
      ],
      "text/plain": [
       "<IPython.core.display.HTML object>"
      ]
     },
     "metadata": {},
     "output_type": "display_data"
    },
    {
     "data": {
      "text/html": [
       "<span style=\"color:blue\"> |-units_15: 128</span>"
      ],
      "text/plain": [
       "<IPython.core.display.HTML object>"
      ]
     },
     "metadata": {},
     "output_type": "display_data"
    },
    {
     "data": {
      "text/html": [
       "<span style=\"color:cyan\"> |-units_16: 64</span>"
      ],
      "text/plain": [
       "<IPython.core.display.HTML object>"
      ]
     },
     "metadata": {},
     "output_type": "display_data"
    },
    {
     "data": {
      "text/html": [
       "<span style=\"color:blue\"> |-units_17: 96</span>"
      ],
      "text/plain": [
       "<IPython.core.display.HTML object>"
      ]
     },
     "metadata": {},
     "output_type": "display_data"
    },
    {
     "data": {
      "text/html": [
       "<span style=\"color:cyan\"> |-units_18: 64</span>"
      ],
      "text/plain": [
       "<IPython.core.display.HTML object>"
      ]
     },
     "metadata": {},
     "output_type": "display_data"
    },
    {
     "data": {
      "text/html": [
       "<span style=\"color:blue\"> |-units_2: 480</span>"
      ],
      "text/plain": [
       "<IPython.core.display.HTML object>"
      ]
     },
     "metadata": {},
     "output_type": "display_data"
    },
    {
     "data": {
      "text/html": [
       "<span style=\"color:cyan\"> |-units_3: 192</span>"
      ],
      "text/plain": [
       "<IPython.core.display.HTML object>"
      ]
     },
     "metadata": {},
     "output_type": "display_data"
    },
    {
     "data": {
      "text/html": [
       "<span style=\"color:blue\"> |-units_4: 384</span>"
      ],
      "text/plain": [
       "<IPython.core.display.HTML object>"
      ]
     },
     "metadata": {},
     "output_type": "display_data"
    },
    {
     "data": {
      "text/html": [
       "<span style=\"color:cyan\"> |-units_5: 192</span>"
      ],
      "text/plain": [
       "<IPython.core.display.HTML object>"
      ]
     },
     "metadata": {},
     "output_type": "display_data"
    },
    {
     "data": {
      "text/html": [
       "<span style=\"color:blue\"> |-units_6: 416</span>"
      ],
      "text/plain": [
       "<IPython.core.display.HTML object>"
      ]
     },
     "metadata": {},
     "output_type": "display_data"
    },
    {
     "data": {
      "text/html": [
       "<span style=\"color:cyan\"> |-units_7: 64</span>"
      ],
      "text/plain": [
       "<IPython.core.display.HTML object>"
      ]
     },
     "metadata": {},
     "output_type": "display_data"
    },
    {
     "data": {
      "text/html": [
       "<span style=\"color:blue\"> |-units_8: 480</span>"
      ],
      "text/plain": [
       "<IPython.core.display.HTML object>"
      ]
     },
     "metadata": {},
     "output_type": "display_data"
    },
    {
     "data": {
      "text/html": [
       "<span style=\"color:cyan\"> |-units_9: 416</span>"
      ],
      "text/plain": [
       "<IPython.core.display.HTML object>"
      ]
     },
     "metadata": {},
     "output_type": "display_data"
    },
    {
     "data": {
      "text/html": [
       "<span style=\"color:cyan\"> |-Score: 0.9298007488250732</span>"
      ],
      "text/plain": [
       "<IPython.core.display.HTML object>"
      ]
     },
     "metadata": {},
     "output_type": "display_data"
    },
    {
     "data": {
      "text/html": [
       "<span style=\"color:cyan\"> |-Best step: 0</span>"
      ],
      "text/plain": [
       "<IPython.core.display.HTML object>"
      ]
     },
     "metadata": {},
     "output_type": "display_data"
    },
    {
     "name": "stdout",
     "output_type": "stream",
     "text": [
      "Train on 2944 samples, validate on 736 samples\n",
      "Epoch 1/4\n",
      "2944/2944 [==============================] - ETA: 30s - loss: 0.6832 - accuracy: 0.562 - ETA: 0s - loss: 0.2881 - accuracy: 0.893 - ETA: 0s - loss: 0.2808 - accuracy: 0.90 - ETA: 0s - loss: 0.2788 - accuracy: 0.90 - 1s 227us/sample - loss: 0.2786 - accuracy: 0.9062 - val_loss: 0.2725 - val_accuracy: 0.9103\n",
      "Epoch 2/4\n",
      "2944/2944 [==============================] - ETA: 0s - loss: 0.1615 - accuracy: 0.93 - ETA: 0s - loss: 0.1967 - accuracy: 0.93 - ETA: 0s - loss: 0.1972 - accuracy: 0.92 - ETA: 0s - loss: 0.1865 - accuracy: 0.93 - 0s 83us/sample - loss: 0.1818 - accuracy: 0.9358 - val_loss: 0.2044 - val_accuracy: 0.9307\n",
      "Epoch 3/4\n",
      "2944/2944 [==============================] - ETA: 0s - loss: 0.1950 - accuracy: 0.87 - ETA: 0s - loss: 0.1673 - accuracy: 0.93 - ETA: 0s - loss: 0.1608 - accuracy: 0.94 - ETA: 0s - loss: 0.1658 - accuracy: 0.93 - 0s 78us/sample - loss: 0.1663 - accuracy: 0.9382 - val_loss: 0.1932 - val_accuracy: 0.9402\n",
      "Epoch 4/4\n",
      "2944/2944 [==============================] - ETA: 0s - loss: 0.2150 - accuracy: 0.90 - ETA: 0s - loss: 0.1480 - accuracy: 0.95 - ETA: 0s - loss: 0.1494 - accuracy: 0.94 - 0s 64us/sample - loss: 0.1560 - accuracy: 0.9467 - val_loss: 0.1954 - val_accuracy: 0.9321\n",
      "Train on 2944 samples, validate on 736 samples\n",
      "Epoch 1/4\n",
      "2944/2944 [==============================] - ETA: 32s - loss: 0.7440 - accuracy: 0.312 - ETA: 0s - loss: 0.3781 - accuracy: 0.856 - ETA: 0s - loss: 0.3032 - accuracy: 0.89 - ETA: 0s - loss: 0.2751 - accuracy: 0.89 - 1s 215us/sample - loss: 0.2858 - accuracy: 0.9012 - val_loss: 0.2494 - val_accuracy: 0.9198\n",
      "Epoch 2/4\n",
      "2944/2944 [==============================] - ETA: 0s - loss: 0.2208 - accuracy: 0.93 - ETA: 0s - loss: 0.2317 - accuracy: 0.91 - ETA: 0s - loss: 0.1986 - accuracy: 0.92 - ETA: 0s - loss: 0.1917 - accuracy: 0.92 - 0s 67us/sample - loss: 0.1898 - accuracy: 0.9297 - val_loss: 0.1822 - val_accuracy: 0.9253\n",
      "Epoch 3/4\n",
      "2944/2944 [==============================] - ETA: 0s - loss: 0.1240 - accuracy: 0.96 - ETA: 0s - loss: 0.1431 - accuracy: 0.94 - ETA: 0s - loss: 0.1534 - accuracy: 0.94 - ETA: 0s - loss: 0.1551 - accuracy: 0.94 - 0s 70us/sample - loss: 0.1573 - accuracy: 0.9416 - val_loss: 0.2112 - val_accuracy: 0.9266\n",
      "Epoch 4/4\n",
      "2944/2944 [==============================] - ETA: 0s - loss: 0.1796 - accuracy: 0.87 - ETA: 0s - loss: 0.1536 - accuracy: 0.94 - ETA: 0s - loss: 0.1546 - accuracy: 0.93 - 0s 61us/sample - loss: 0.1596 - accuracy: 0.9392 - val_loss: 0.1704 - val_accuracy: 0.9321\n",
      "Train on 2944 samples, validate on 736 samples\n",
      "Epoch 1/4\n",
      "2944/2944 [==============================] - ETA: 29s - loss: 0.6995 - accuracy: 0.406 - ETA: 0s - loss: 0.3794 - accuracy: 0.863 - ETA: 0s - loss: 0.3314 - accuracy: 0.88 - ETA: 0s - loss: 0.2949 - accuracy: 0.90 - 1s 218us/sample - loss: 0.2889 - accuracy: 0.9008 - val_loss: 0.1973 - val_accuracy: 0.9226\n",
      "Epoch 2/4\n",
      "2944/2944 [==============================] - ETA: 0s - loss: 0.1090 - accuracy: 1.00 - ETA: 0s - loss: 0.1849 - accuracy: 0.93 - ETA: 0s - loss: 0.1810 - accuracy: 0.93 - ETA: 0s - loss: 0.1865 - accuracy: 0.93 - 0s 72us/sample - loss: 0.1820 - accuracy: 0.9378 - val_loss: 0.1887 - val_accuracy: 0.9348\n",
      "Epoch 3/4\n",
      "2944/2944 [==============================] - ETA: 0s - loss: 0.3164 - accuracy: 0.93 - ETA: 0s - loss: 0.1409 - accuracy: 0.95 - ETA: 0s - loss: 0.1586 - accuracy: 0.94 - ETA: 0s - loss: 0.1651 - accuracy: 0.94 - 0s 76us/sample - loss: 0.1615 - accuracy: 0.9457 - val_loss: 0.2001 - val_accuracy: 0.9416\n",
      "Epoch 4/4\n",
      "2944/2944 [==============================] - ETA: 0s - loss: 0.0075 - accuracy: 1.00 - ETA: 0s - loss: 0.1141 - accuracy: 0.96 - ETA: 0s - loss: 0.1414 - accuracy: 0.95 - ETA: 0s - loss: 0.1437 - accuracy: 0.95 - 0s 66us/sample - loss: 0.1425 - accuracy: 0.9507 - val_loss: 0.1694 - val_accuracy: 0.9402\n"
     ]
    },
    {
     "data": {
      "text/html": [
       "<span style=\"color:#4527A0\"><h1 style=\"font-size:18px\">Trial complete</h1></span>"
      ],
      "text/plain": [
       "<IPython.core.display.HTML object>"
      ]
     },
     "metadata": {},
     "output_type": "display_data"
    },
    {
     "data": {
      "text/html": [
       "<span style=\"color:#4527A0\"><h1 style=\"font-size:18px\">Trial summary</h1></span>"
      ],
      "text/plain": [
       "<IPython.core.display.HTML object>"
      ]
     },
     "metadata": {},
     "output_type": "display_data"
    },
    {
     "data": {
      "text/html": [
       "<span style=\"color:#7E57C2\"><h2 style=\"font-size:16px\">Hp values:</h2></span>"
      ],
      "text/plain": [
       "<IPython.core.display.HTML object>"
      ]
     },
     "metadata": {},
     "output_type": "display_data"
    },
    {
     "data": {
      "text/html": [
       "<span style=\"color:cyan\"> |-learning_rate: 0.01</span>"
      ],
      "text/plain": [
       "<IPython.core.display.HTML object>"
      ]
     },
     "metadata": {},
     "output_type": "display_data"
    },
    {
     "data": {
      "text/html": [
       "<span style=\"color:blue\"> |-num_layers: 3</span>"
      ],
      "text/plain": [
       "<IPython.core.display.HTML object>"
      ]
     },
     "metadata": {},
     "output_type": "display_data"
    },
    {
     "data": {
      "text/html": [
       "<span style=\"color:cyan\"> |-units_0: 448</span>"
      ],
      "text/plain": [
       "<IPython.core.display.HTML object>"
      ]
     },
     "metadata": {},
     "output_type": "display_data"
    },
    {
     "data": {
      "text/html": [
       "<span style=\"color:blue\"> |-units_1: 96</span>"
      ],
      "text/plain": [
       "<IPython.core.display.HTML object>"
      ]
     },
     "metadata": {},
     "output_type": "display_data"
    },
    {
     "data": {
      "text/html": [
       "<span style=\"color:cyan\"> |-units_10: 512</span>"
      ],
      "text/plain": [
       "<IPython.core.display.HTML object>"
      ]
     },
     "metadata": {},
     "output_type": "display_data"
    },
    {
     "data": {
      "text/html": [
       "<span style=\"color:blue\"> |-units_11: 512</span>"
      ],
      "text/plain": [
       "<IPython.core.display.HTML object>"
      ]
     },
     "metadata": {},
     "output_type": "display_data"
    },
    {
     "data": {
      "text/html": [
       "<span style=\"color:cyan\"> |-units_12: 32</span>"
      ],
      "text/plain": [
       "<IPython.core.display.HTML object>"
      ]
     },
     "metadata": {},
     "output_type": "display_data"
    },
    {
     "data": {
      "text/html": [
       "<span style=\"color:blue\"> |-units_13: 480</span>"
      ],
      "text/plain": [
       "<IPython.core.display.HTML object>"
      ]
     },
     "metadata": {},
     "output_type": "display_data"
    },
    {
     "data": {
      "text/html": [
       "<span style=\"color:cyan\"> |-units_14: 96</span>"
      ],
      "text/plain": [
       "<IPython.core.display.HTML object>"
      ]
     },
     "metadata": {},
     "output_type": "display_data"
    },
    {
     "data": {
      "text/html": [
       "<span style=\"color:blue\"> |-units_15: 96</span>"
      ],
      "text/plain": [
       "<IPython.core.display.HTML object>"
      ]
     },
     "metadata": {},
     "output_type": "display_data"
    },
    {
     "data": {
      "text/html": [
       "<span style=\"color:cyan\"> |-units_16: 384</span>"
      ],
      "text/plain": [
       "<IPython.core.display.HTML object>"
      ]
     },
     "metadata": {},
     "output_type": "display_data"
    },
    {
     "data": {
      "text/html": [
       "<span style=\"color:blue\"> |-units_17: 384</span>"
      ],
      "text/plain": [
       "<IPython.core.display.HTML object>"
      ]
     },
     "metadata": {},
     "output_type": "display_data"
    },
    {
     "data": {
      "text/html": [
       "<span style=\"color:cyan\"> |-units_18: 320</span>"
      ],
      "text/plain": [
       "<IPython.core.display.HTML object>"
      ]
     },
     "metadata": {},
     "output_type": "display_data"
    },
    {
     "data": {
      "text/html": [
       "<span style=\"color:blue\"> |-units_2: 288</span>"
      ],
      "text/plain": [
       "<IPython.core.display.HTML object>"
      ]
     },
     "metadata": {},
     "output_type": "display_data"
    },
    {
     "data": {
      "text/html": [
       "<span style=\"color:cyan\"> |-units_3: 480</span>"
      ],
      "text/plain": [
       "<IPython.core.display.HTML object>"
      ]
     },
     "metadata": {},
     "output_type": "display_data"
    },
    {
     "data": {
      "text/html": [
       "<span style=\"color:blue\"> |-units_4: 64</span>"
      ],
      "text/plain": [
       "<IPython.core.display.HTML object>"
      ]
     },
     "metadata": {},
     "output_type": "display_data"
    },
    {
     "data": {
      "text/html": [
       "<span style=\"color:cyan\"> |-units_5: 512</span>"
      ],
      "text/plain": [
       "<IPython.core.display.HTML object>"
      ]
     },
     "metadata": {},
     "output_type": "display_data"
    },
    {
     "data": {
      "text/html": [
       "<span style=\"color:blue\"> |-units_6: 512</span>"
      ],
      "text/plain": [
       "<IPython.core.display.HTML object>"
      ]
     },
     "metadata": {},
     "output_type": "display_data"
    },
    {
     "data": {
      "text/html": [
       "<span style=\"color:cyan\"> |-units_7: 320</span>"
      ],
      "text/plain": [
       "<IPython.core.display.HTML object>"
      ]
     },
     "metadata": {},
     "output_type": "display_data"
    },
    {
     "data": {
      "text/html": [
       "<span style=\"color:blue\"> |-units_8: 160</span>"
      ],
      "text/plain": [
       "<IPython.core.display.HTML object>"
      ]
     },
     "metadata": {},
     "output_type": "display_data"
    },
    {
     "data": {
      "text/html": [
       "<span style=\"color:cyan\"> |-units_9: 512</span>"
      ],
      "text/plain": [
       "<IPython.core.display.HTML object>"
      ]
     },
     "metadata": {},
     "output_type": "display_data"
    },
    {
     "data": {
      "text/html": [
       "<span style=\"color:cyan\"> |-Score: 0.9379528164863586</span>"
      ],
      "text/plain": [
       "<IPython.core.display.HTML object>"
      ]
     },
     "metadata": {},
     "output_type": "display_data"
    },
    {
     "data": {
      "text/html": [
       "<span style=\"color:cyan\"> |-Best step: 0</span>"
      ],
      "text/plain": [
       "<IPython.core.display.HTML object>"
      ]
     },
     "metadata": {},
     "output_type": "display_data"
    },
    {
     "name": "stdout",
     "output_type": "stream",
     "text": [
      "INFO:tensorflow:Oracle triggered exit\n"
     ]
    }
   ],
   "source": [
    "tuner.search(x=X_train_nn,\n",
    "             y=y_train_nn.to_numpy(),\n",
    "             epochs=4,\n",
    "             validation_data=(X_val_nn, y_val_nn.to_numpy()))"
   ]
  },
  {
   "cell_type": "code",
   "execution_count": 48,
   "metadata": {},
   "outputs": [
    {
     "data": {
      "text/html": [
       "<span style=\"color:#4527A0\"><h1 style=\"font-size:18px\">Results summary</h1></span>"
      ],
      "text/plain": [
       "<IPython.core.display.HTML object>"
      ]
     },
     "metadata": {},
     "output_type": "display_data"
    },
    {
     "data": {
      "text/html": [
       "<span style=\"color:cyan\"> |-Results in cost_insensitive_4/untitled_project</span>"
      ],
      "text/plain": [
       "<IPython.core.display.HTML object>"
      ]
     },
     "metadata": {},
     "output_type": "display_data"
    },
    {
     "data": {
      "text/html": [
       "<span style=\"color:cyan\"> |-Showing 10 best trials</span>"
      ],
      "text/plain": [
       "<IPython.core.display.HTML object>"
      ]
     },
     "metadata": {},
     "output_type": "display_data"
    },
    {
     "data": {
      "text/html": [
       "<span style=\"color:cyan\"> |-Objective: Objective(name='val_accuracy', direction='max') Score: 0.9402174353599548</span>"
      ],
      "text/plain": [
       "<IPython.core.display.HTML object>"
      ]
     },
     "metadata": {},
     "output_type": "display_data"
    },
    {
     "data": {
      "text/html": [
       "<span style=\"color:cyan\"> |-Objective: Objective(name='val_accuracy', direction='max') Score: 0.9397644996643066</span>"
      ],
      "text/plain": [
       "<IPython.core.display.HTML object>"
      ]
     },
     "metadata": {},
     "output_type": "display_data"
    },
    {
     "data": {
      "text/html": [
       "<span style=\"color:cyan\"> |-Objective: Objective(name='val_accuracy', direction='max') Score: 0.9379528164863586</span>"
      ],
      "text/plain": [
       "<IPython.core.display.HTML object>"
      ]
     },
     "metadata": {},
     "output_type": "display_data"
    },
    {
     "data": {
      "text/html": [
       "<span style=\"color:cyan\"> |-Objective: Objective(name='val_accuracy', direction='max') Score: 0.9352355003356934</span>"
      ],
      "text/plain": [
       "<IPython.core.display.HTML object>"
      ]
     },
     "metadata": {},
     "output_type": "display_data"
    },
    {
     "data": {
      "text/html": [
       "<span style=\"color:cyan\"> |-Objective: Objective(name='val_accuracy', direction='max') Score: 0.9298007488250732</span>"
      ],
      "text/plain": [
       "<IPython.core.display.HTML object>"
      ]
     },
     "metadata": {},
     "output_type": "display_data"
    }
   ],
   "source": [
    "tuner.results_summary()"
   ]
  },
  {
   "cell_type": "code",
   "execution_count": 49,
   "metadata": {},
   "outputs": [],
   "source": [
    "best_model = tuner.get_best_models(num_models=1)[0]\n",
    "full_X_train_nn = np.concatenate([X_train_nn, X_val_nn])\n",
    "full_y_train_nn = np.concatenate([y_train_nn, y_val_nn])"
   ]
  },
  {
   "cell_type": "code",
   "execution_count": 50,
   "metadata": {},
   "outputs": [
    {
     "name": "stdout",
     "output_type": "stream",
     "text": [
      "Train on 3680 samples\n",
      "Epoch 1/20\n",
      "3680/3680 [==============================] - ETA: 54s - loss: 0.0519 - accuracy: 0.968 - ETA: 7s - loss: 0.1186 - accuracy: 0.953 - ETA: 3s - loss: 0.1163 - accuracy: 0.95 - ETA: 2s - loss: 0.1302 - accuracy: 0.94 - ETA: 2s - loss: 0.1321 - accuracy: 0.94 - ETA: 1s - loss: 0.1344 - accuracy: 0.94 - ETA: 1s - loss: 0.1349 - accuracy: 0.94 - ETA: 1s - loss: 0.1411 - accuracy: 0.94 - ETA: 0s - loss: 0.1386 - accuracy: 0.94 - ETA: 0s - loss: 0.1398 - accuracy: 0.94 - ETA: 0s - loss: 0.1395 - accuracy: 0.94 - ETA: 0s - loss: 0.1403 - accuracy: 0.94 - ETA: 0s - loss: 0.1346 - accuracy: 0.95 - ETA: 0s - loss: 0.1356 - accuracy: 0.94 - ETA: 0s - loss: 0.1412 - accuracy: 0.94 - ETA: 0s - loss: 0.1459 - accuracy: 0.94 - ETA: 0s - loss: 0.1473 - accuracy: 0.94 - 1s 362us/sample - loss: 0.1464 - accuracy: 0.9448\n",
      "Epoch 2/20\n",
      "3680/3680 [==============================] - ETA: 0s - loss: 0.2018 - accuracy: 0.90 - ETA: 0s - loss: 0.1566 - accuracy: 0.94 - ETA: 0s - loss: 0.1247 - accuracy: 0.95 - ETA: 0s - loss: 0.1250 - accuracy: 0.95 - ETA: 0s - loss: 0.1267 - accuracy: 0.95 - ETA: 0s - loss: 0.1234 - accuracy: 0.95 - ETA: 0s - loss: 0.1226 - accuracy: 0.96 - ETA: 0s - loss: 0.1278 - accuracy: 0.95 - ETA: 0s - loss: 0.1226 - accuracy: 0.95 - ETA: 0s - loss: 0.1219 - accuracy: 0.95 - ETA: 0s - loss: 0.1297 - accuracy: 0.95 - ETA: 0s - loss: 0.1327 - accuracy: 0.95 - ETA: 0s - loss: 0.1313 - accuracy: 0.95 - ETA: 0s - loss: 0.1296 - accuracy: 0.95 - ETA: 0s - loss: 0.1283 - accuracy: 0.95 - ETA: 0s - loss: 0.1314 - accuracy: 0.95 - 1s 228us/sample - loss: 0.1310 - accuracy: 0.9546\n",
      "Epoch 3/20\n",
      "3680/3680 [==============================] - ETA: 0s - loss: 0.1941 - accuracy: 0.90 - ETA: 0s - loss: 0.1679 - accuracy: 0.93 - ETA: 0s - loss: 0.1133 - accuracy: 0.95 - ETA: 0s - loss: 0.1000 - accuracy: 0.96 - ETA: 0s - loss: 0.1068 - accuracy: 0.95 - ETA: 0s - loss: 0.1047 - accuracy: 0.95 - ETA: 0s - loss: 0.1097 - accuracy: 0.95 - ETA: 0s - loss: 0.1100 - accuracy: 0.95 - ETA: 0s - loss: 0.1141 - accuracy: 0.95 - ETA: 0s - loss: 0.1164 - accuracy: 0.95 - ETA: 0s - loss: 0.1150 - accuracy: 0.95 - ETA: 0s - loss: 0.1113 - accuracy: 0.95 - ETA: 0s - loss: 0.1088 - accuracy: 0.95 - ETA: 0s - loss: 0.1118 - accuracy: 0.95 - ETA: 0s - loss: 0.1123 - accuracy: 0.95 - ETA: 0s - loss: 0.1102 - accuracy: 0.95 - 1s 229us/sample - loss: 0.1073 - accuracy: 0.9598\n",
      "Epoch 4/20\n",
      "3680/3680 [==============================] - ETA: 0s - loss: 0.1875 - accuracy: 0.90 - ETA: 0s - loss: 0.1521 - accuracy: 0.93 - ETA: 0s - loss: 0.1144 - accuracy: 0.95 - ETA: 0s - loss: 0.1117 - accuracy: 0.95 - ETA: 0s - loss: 0.1038 - accuracy: 0.95 - ETA: 0s - loss: 0.0999 - accuracy: 0.95 - ETA: 0s - loss: 0.1060 - accuracy: 0.95 - ETA: 0s - loss: 0.1069 - accuracy: 0.95 - ETA: 0s - loss: 0.1074 - accuracy: 0.95 - ETA: 0s - loss: 0.1078 - accuracy: 0.95 - ETA: 0s - loss: 0.1106 - accuracy: 0.95 - ETA: 0s - loss: 0.1074 - accuracy: 0.96 - ETA: 0s - loss: 0.1040 - accuracy: 0.96 - ETA: 0s - loss: 0.1065 - accuracy: 0.96 - ETA: 0s - loss: 0.1041 - accuracy: 0.96 - ETA: 0s - loss: 0.1039 - accuracy: 0.96 - ETA: 0s - loss: 0.1029 - accuracy: 0.96 - 1s 227us/sample - loss: 0.1026 - accuracy: 0.9633\n",
      "Epoch 5/20\n",
      "3680/3680 [==============================] - ETA: 0s - loss: 0.0266 - accuracy: 1.00 - ETA: 0s - loss: 0.0552 - accuracy: 0.96 - ETA: 0s - loss: 0.0643 - accuracy: 0.97 - ETA: 0s - loss: 0.0565 - accuracy: 0.97 - ETA: 0s - loss: 0.0663 - accuracy: 0.97 - ETA: 0s - loss: 0.0665 - accuracy: 0.97 - ETA: 0s - loss: 0.0808 - accuracy: 0.97 - ETA: 0s - loss: 0.0837 - accuracy: 0.96 - ETA: 0s - loss: 0.0822 - accuracy: 0.97 - ETA: 0s - loss: 0.0832 - accuracy: 0.97 - ETA: 0s - loss: 0.0822 - accuracy: 0.97 - ETA: 0s - loss: 0.0832 - accuracy: 0.97 - ETA: 0s - loss: 0.0831 - accuracy: 0.97 - ETA: 0s - loss: 0.0820 - accuracy: 0.97 - ETA: 0s - loss: 0.0835 - accuracy: 0.96 - ETA: 0s - loss: 0.0834 - accuracy: 0.96 - 1s 230us/sample - loss: 0.0861 - accuracy: 0.9677\n",
      "Epoch 6/20\n",
      "3680/3680 [==============================] - ETA: 0s - loss: 0.0769 - accuracy: 0.93 - ETA: 0s - loss: 0.0785 - accuracy: 0.95 - ETA: 0s - loss: 0.0804 - accuracy: 0.96 - ETA: 0s - loss: 0.0830 - accuracy: 0.96 - ETA: 0s - loss: 0.0763 - accuracy: 0.96 - ETA: 0s - loss: 0.0847 - accuracy: 0.96 - ETA: 0s - loss: 0.1087 - accuracy: 0.96 - ETA: 0s - loss: 0.1176 - accuracy: 0.96 - ETA: 0s - loss: 0.1157 - accuracy: 0.96 - ETA: 0s - loss: 0.1100 - accuracy: 0.96 - ETA: 0s - loss: 0.1115 - accuracy: 0.96 - ETA: 0s - loss: 0.1091 - accuracy: 0.96 - ETA: 0s - loss: 0.1061 - accuracy: 0.96 - ETA: 0s - loss: 0.1048 - accuracy: 0.96 - ETA: 0s - loss: 0.1003 - accuracy: 0.96 - ETA: 0s - loss: 0.0995 - accuracy: 0.96 - 1s 233us/sample - loss: 0.0972 - accuracy: 0.9693\n",
      "Epoch 7/20\n",
      "3680/3680 [==============================] - ETA: 0s - loss: 0.0582 - accuracy: 0.96 - ETA: 0s - loss: 0.0566 - accuracy: 0.97 - ETA: 0s - loss: 0.0730 - accuracy: 0.97 - ETA: 0s - loss: 0.0794 - accuracy: 0.97 - ETA: 0s - loss: 0.0774 - accuracy: 0.97 - ETA: 0s - loss: 0.0715 - accuracy: 0.97 - ETA: 0s - loss: 0.0666 - accuracy: 0.97 - ETA: 0s - loss: 0.0650 - accuracy: 0.97 - ETA: 0s - loss: 0.0596 - accuracy: 0.97 - ETA: 0s - loss: 0.0644 - accuracy: 0.97 - ETA: 0s - loss: 0.0677 - accuracy: 0.97 - ETA: 0s - loss: 0.0752 - accuracy: 0.97 - ETA: 0s - loss: 0.0772 - accuracy: 0.97 - ETA: 0s - loss: 0.0769 - accuracy: 0.97 - ETA: 0s - loss: 0.0784 - accuracy: 0.97 - ETA: 0s - loss: 0.0811 - accuracy: 0.97 - ETA: 0s - loss: 0.0811 - accuracy: 0.97 - 1s 235us/sample - loss: 0.0819 - accuracy: 0.9715\n",
      "Epoch 8/20\n",
      "3680/3680 [==============================] - ETA: 0s - loss: 0.1059 - accuracy: 0.93 - ETA: 0s - loss: 0.0821 - accuracy: 0.96 - ETA: 0s - loss: 0.0705 - accuracy: 0.97 - ETA: 0s - loss: 0.0825 - accuracy: 0.97 - ETA: 0s - loss: 0.0766 - accuracy: 0.97 - ETA: 0s - loss: 0.0748 - accuracy: 0.97 - ETA: 0s - loss: 0.0689 - accuracy: 0.97 - ETA: 0s - loss: 0.0700 - accuracy: 0.97 - ETA: 0s - loss: 0.0753 - accuracy: 0.97 - ETA: 0s - loss: 0.0758 - accuracy: 0.97 - ETA: 0s - loss: 0.0751 - accuracy: 0.97 - ETA: 0s - loss: 0.0752 - accuracy: 0.97 - ETA: 0s - loss: 0.0738 - accuracy: 0.97 - ETA: 0s - loss: 0.0725 - accuracy: 0.97 - ETA: 0s - loss: 0.0705 - accuracy: 0.97 - ETA: 0s - loss: 0.0696 - accuracy: 0.97 - ETA: 0s - loss: 0.0728 - accuracy: 0.97 - 1s 232us/sample - loss: 0.0729 - accuracy: 0.9726\n",
      "Epoch 9/20\n",
      "3680/3680 [==============================] - ETA: 0s - loss: 0.0641 - accuracy: 0.96 - ETA: 0s - loss: 0.0883 - accuracy: 0.96 - ETA: 0s - loss: 0.1092 - accuracy: 0.96 - ETA: 0s - loss: 0.1133 - accuracy: 0.96 - ETA: 0s - loss: 0.1041 - accuracy: 0.96 - ETA: 0s - loss: 0.0991 - accuracy: 0.96 - ETA: 0s - loss: 0.0978 - accuracy: 0.96 - ETA: 0s - loss: 0.0891 - accuracy: 0.96 - ETA: 0s - loss: 0.0866 - accuracy: 0.96 - ETA: 0s - loss: 0.0865 - accuracy: 0.96 - ETA: 0s - loss: 0.0830 - accuracy: 0.97 - ETA: 0s - loss: 0.0808 - accuracy: 0.97 - ETA: 0s - loss: 0.0804 - accuracy: 0.97 - ETA: 0s - loss: 0.0792 - accuracy: 0.97 - ETA: 0s - loss: 0.0772 - accuracy: 0.97 - ETA: 0s - loss: 0.0786 - accuracy: 0.97 - ETA: 0s - loss: 0.0786 - accuracy: 0.97 - 1s 232us/sample - loss: 0.0789 - accuracy: 0.9742\n",
      "Epoch 10/20\n",
      "3680/3680 [==============================] - ETA: 0s - loss: 0.0237 - accuracy: 1.00 - ETA: 0s - loss: 0.0493 - accuracy: 0.98 - ETA: 0s - loss: 0.0530 - accuracy: 0.98 - ETA: 0s - loss: 0.0576 - accuracy: 0.98 - ETA: 0s - loss: 0.0555 - accuracy: 0.98 - ETA: 0s - loss: 0.0585 - accuracy: 0.98 - ETA: 0s - loss: 0.0601 - accuracy: 0.98 - ETA: 0s - loss: 0.0658 - accuracy: 0.97 - ETA: 0s - loss: 0.0638 - accuracy: 0.98 - ETA: 0s - loss: 0.0618 - accuracy: 0.98 - ETA: 0s - loss: 0.0640 - accuracy: 0.97 - ETA: 0s - loss: 0.0665 - accuracy: 0.97 - ETA: 0s - loss: 0.0684 - accuracy: 0.97 - ETA: 0s - loss: 0.0674 - accuracy: 0.97 - ETA: 0s - loss: 0.0665 - accuracy: 0.97 - ETA: 0s - loss: 0.0653 - accuracy: 0.97 - ETA: 0s - loss: 0.0677 - accuracy: 0.97 - 1s 232us/sample - loss: 0.0675 - accuracy: 0.9761\n",
      "Epoch 11/20\n",
      "3680/3680 [==============================] - ETA: 0s - loss: 0.0867 - accuracy: 0.93 - ETA: 0s - loss: 0.0702 - accuracy: 0.96 - ETA: 0s - loss: 0.0850 - accuracy: 0.96 - ETA: 0s - loss: 0.1010 - accuracy: 0.96 - ETA: 0s - loss: 0.0987 - accuracy: 0.96 - ETA: 0s - loss: 0.0924 - accuracy: 0.96 - ETA: 0s - loss: 0.0827 - accuracy: 0.97 - ETA: 0s - loss: 0.0797 - accuracy: 0.97 - ETA: 0s - loss: 0.0812 - accuracy: 0.97 - ETA: 0s - loss: 0.0784 - accuracy: 0.97 - ETA: 0s - loss: 0.0798 - accuracy: 0.97 - ETA: 0s - loss: 0.0776 - accuracy: 0.97 - ETA: 0s - loss: 0.0749 - accuracy: 0.97 - ETA: 0s - loss: 0.0796 - accuracy: 0.97 - ETA: 0s - loss: 0.0853 - accuracy: 0.97 - ETA: 0s - loss: 0.0861 - accuracy: 0.97 - ETA: 0s - loss: 0.0861 - accuracy: 0.97 - 1s 236us/sample - loss: 0.0858 - accuracy: 0.9739\n",
      "Epoch 12/20\n",
      "3680/3680 [==============================] - ETA: 0s - loss: 0.0102 - accuracy: 1.00 - ETA: 0s - loss: 0.0539 - accuracy: 0.96 - ETA: 0s - loss: 0.0615 - accuracy: 0.97 - ETA: 0s - loss: 0.0607 - accuracy: 0.97 - ETA: 0s - loss: 0.0632 - accuracy: 0.97 - ETA: 0s - loss: 0.0622 - accuracy: 0.97 - ETA: 0s - loss: 0.0617 - accuracy: 0.97 - ETA: 0s - loss: 0.0625 - accuracy: 0.97 - ETA: 0s - loss: 0.0615 - accuracy: 0.97 - ETA: 0s - loss: 0.0649 - accuracy: 0.97 - ETA: 0s - loss: 0.0695 - accuracy: 0.97 - ETA: 0s - loss: 0.0678 - accuracy: 0.97 - ETA: 0s - loss: 0.0666 - accuracy: 0.97 - ETA: 0s - loss: 0.0678 - accuracy: 0.97 - ETA: 0s - loss: 0.0669 - accuracy: 0.97 - ETA: 0s - loss: 0.0664 - accuracy: 0.97 - ETA: 0s - loss: 0.0704 - accuracy: 0.97 - 1s 231us/sample - loss: 0.0697 - accuracy: 0.9758\n",
      "Epoch 13/20\n",
      "3680/3680 [==============================] - ETA: 0s - loss: 0.1462 - accuracy: 0.90 - ETA: 0s - loss: 0.1065 - accuracy: 0.97 - ETA: 0s - loss: 0.0836 - accuracy: 0.98 - ETA: 0s - loss: 0.0766 - accuracy: 0.98 - ETA: 0s - loss: 0.0670 - accuracy: 0.98 - ETA: 0s - loss: 0.0630 - accuracy: 0.98 - ETA: 0s - loss: 0.0572 - accuracy: 0.98 - ETA: 0s - loss: 0.0599 - accuracy: 0.98 - ETA: 0s - loss: 0.0593 - accuracy: 0.98 - ETA: 0s - loss: 0.0595 - accuracy: 0.98 - ETA: 0s - loss: 0.0599 - accuracy: 0.98 - ETA: 0s - loss: 0.0592 - accuracy: 0.98 - ETA: 0s - loss: 0.0575 - accuracy: 0.98 - ETA: 0s - loss: 0.0555 - accuracy: 0.98 - ETA: 0s - loss: 0.0537 - accuracy: 0.98 - ETA: 0s - loss: 0.0542 - accuracy: 0.98 - ETA: 0s - loss: 0.0560 - accuracy: 0.98 - 1s 242us/sample - loss: 0.0554 - accuracy: 0.9823\n",
      "Epoch 14/20\n",
      "3680/3680 [==============================] - ETA: 0s - loss: 0.1137 - accuracy: 0.96 - ETA: 0s - loss: 0.0594 - accuracy: 0.98 - ETA: 0s - loss: 0.0538 - accuracy: 0.98 - ETA: 0s - loss: 0.0556 - accuracy: 0.98 - ETA: 0s - loss: 0.0552 - accuracy: 0.98 - ETA: 0s - loss: 0.0520 - accuracy: 0.98 - ETA: 0s - loss: 0.0500 - accuracy: 0.98 - ETA: 0s - loss: 0.0516 - accuracy: 0.98 - ETA: 0s - loss: 0.0510 - accuracy: 0.98 - ETA: 0s - loss: 0.0469 - accuracy: 0.98 - ETA: 0s - loss: 0.0456 - accuracy: 0.98 - ETA: 0s - loss: 0.0499 - accuracy: 0.98 - ETA: 0s - loss: 0.0486 - accuracy: 0.98 - ETA: 0s - loss: 0.0530 - accuracy: 0.98 - ETA: 0s - loss: 0.0541 - accuracy: 0.98 - ETA: 0s - loss: 0.0572 - accuracy: 0.98 - ETA: 0s - loss: 0.0557 - accuracy: 0.98 - 1s 239us/sample - loss: 0.0570 - accuracy: 0.9810\n",
      "Epoch 15/20\n",
      "3680/3680 [==============================] - ETA: 0s - loss: 0.0407 - accuracy: 1.00 - ETA: 0s - loss: 0.0666 - accuracy: 0.98 - ETA: 0s - loss: 0.0550 - accuracy: 0.98 - ETA: 0s - loss: 0.0698 - accuracy: 0.98 - ETA: 0s - loss: 0.0570 - accuracy: 0.98 - ETA: 0s - loss: 0.0546 - accuracy: 0.98 - ETA: 0s - loss: 0.0572 - accuracy: 0.98 - ETA: 0s - loss: 0.0593 - accuracy: 0.98 - ETA: 0s - loss: 0.0561 - accuracy: 0.98 - ETA: 0s - loss: 0.0604 - accuracy: 0.98 - ETA: 0s - loss: 0.0618 - accuracy: 0.98 - ETA: 0s - loss: 0.0607 - accuracy: 0.98 - ETA: 0s - loss: 0.0598 - accuracy: 0.98 - ETA: 0s - loss: 0.0598 - accuracy: 0.98 - ETA: 0s - loss: 0.0606 - accuracy: 0.98 - ETA: 0s - loss: 0.0587 - accuracy: 0.98 - ETA: 0s - loss: 0.0587 - accuracy: 0.98 - 1s 244us/sample - loss: 0.0585 - accuracy: 0.9804\n",
      "Epoch 16/20\n",
      "3680/3680 [==============================] - ETA: 0s - loss: 0.1086 - accuracy: 0.93 - ETA: 0s - loss: 0.0422 - accuracy: 0.97 - ETA: 0s - loss: 0.0509 - accuracy: 0.97 - ETA: 0s - loss: 0.0515 - accuracy: 0.97 - ETA: 0s - loss: 0.0546 - accuracy: 0.97 - ETA: 0s - loss: 0.0504 - accuracy: 0.97 - ETA: 0s - loss: 0.0493 - accuracy: 0.97 - ETA: 0s - loss: 0.0455 - accuracy: 0.98 - ETA: 0s - loss: 0.0450 - accuracy: 0.98 - ETA: 0s - loss: 0.0499 - accuracy: 0.97 - ETA: 0s - loss: 0.0504 - accuracy: 0.97 - ETA: 0s - loss: 0.0498 - accuracy: 0.97 - ETA: 0s - loss: 0.0491 - accuracy: 0.97 - ETA: 0s - loss: 0.0483 - accuracy: 0.97 - ETA: 0s - loss: 0.0471 - accuracy: 0.98 - ETA: 0s - loss: 0.0467 - accuracy: 0.98 - 1s 234us/sample - loss: 0.0469 - accuracy: 0.9815\n",
      "Epoch 17/20\n",
      "3680/3680 [==============================] - ETA: 0s - loss: 0.0468 - accuracy: 0.96 - ETA: 0s - loss: 0.0334 - accuracy: 0.98 - ETA: 0s - loss: 0.0325 - accuracy: 0.98 - ETA: 0s - loss: 0.0320 - accuracy: 0.98 - ETA: 0s - loss: 0.0475 - accuracy: 0.98 - ETA: 0s - loss: 0.0506 - accuracy: 0.98 - ETA: 0s - loss: 0.0541 - accuracy: 0.98 - ETA: 0s - loss: 0.0554 - accuracy: 0.98 - ETA: 0s - loss: 0.0547 - accuracy: 0.98 - ETA: 0s - loss: 0.0525 - accuracy: 0.98 - ETA: 0s - loss: 0.0507 - accuracy: 0.98 - ETA: 0s - loss: 0.0489 - accuracy: 0.98 - ETA: 0s - loss: 0.0501 - accuracy: 0.98 - ETA: 0s - loss: 0.0524 - accuracy: 0.98 - ETA: 0s - loss: 0.0570 - accuracy: 0.98 - ETA: 0s - loss: 0.0570 - accuracy: 0.98 - ETA: 0s - loss: 0.0547 - accuracy: 0.98 - ETA: 0s - loss: 0.0548 - accuracy: 0.98 - 1s 259us/sample - loss: 0.0566 - accuracy: 0.9826\n",
      "Epoch 18/20\n",
      "3680/3680 [==============================] - ETA: 1s - loss: 0.0188 - accuracy: 1.00 - ETA: 0s - loss: 0.0420 - accuracy: 0.98 - ETA: 0s - loss: 0.0449 - accuracy: 0.98 - ETA: 0s - loss: 0.0781 - accuracy: 0.97 - ETA: 0s - loss: 0.0721 - accuracy: 0.98 - ETA: 0s - loss: 0.0708 - accuracy: 0.98 - ETA: 0s - loss: 0.0670 - accuracy: 0.98 - ETA: 0s - loss: 0.0614 - accuracy: 0.98 - ETA: 0s - loss: 0.0581 - accuracy: 0.98 - ETA: 0s - loss: 0.0613 - accuracy: 0.98 - ETA: 0s - loss: 0.0694 - accuracy: 0.98 - ETA: 0s - loss: 0.0732 - accuracy: 0.98 - ETA: 0s - loss: 0.0734 - accuracy: 0.97 - ETA: 0s - loss: 0.0750 - accuracy: 0.97 - ETA: 0s - loss: 0.0738 - accuracy: 0.97 - ETA: 0s - loss: 0.0705 - accuracy: 0.97 - ETA: 0s - loss: 0.0734 - accuracy: 0.97 - 1s 241us/sample - loss: 0.0740 - accuracy: 0.9761\n",
      "Epoch 19/20\n",
      "3680/3680 [==============================] - ETA: 0s - loss: 0.1047 - accuracy: 0.93 - ETA: 0s - loss: 0.1049 - accuracy: 0.94 - ETA: 0s - loss: 0.0893 - accuracy: 0.96 - ETA: 0s - loss: 0.0925 - accuracy: 0.96 - ETA: 0s - loss: 0.0847 - accuracy: 0.96 - ETA: 0s - loss: 0.0911 - accuracy: 0.96 - ETA: 0s - loss: 0.0881 - accuracy: 0.97 - ETA: 0s - loss: 0.0814 - accuracy: 0.97 - ETA: 0s - loss: 0.0767 - accuracy: 0.97 - ETA: 0s - loss: 0.0745 - accuracy: 0.97 - ETA: 0s - loss: 0.0798 - accuracy: 0.97 - ETA: 0s - loss: 0.0774 - accuracy: 0.97 - ETA: 0s - loss: 0.0783 - accuracy: 0.97 - ETA: 0s - loss: 0.0789 - accuracy: 0.97 - ETA: 0s - loss: 0.0831 - accuracy: 0.97 - ETA: 0s - loss: 0.0826 - accuracy: 0.97 - 1s 233us/sample - loss: 0.0803 - accuracy: 0.9734\n",
      "Epoch 20/20\n",
      "3680/3680 [==============================] - ETA: 0s - loss: 0.0555 - accuracy: 0.96 - ETA: 0s - loss: 0.0462 - accuracy: 0.98 - ETA: 0s - loss: 0.0434 - accuracy: 0.98 - ETA: 0s - loss: 0.0428 - accuracy: 0.98 - ETA: 0s - loss: 0.0413 - accuracy: 0.98 - ETA: 0s - loss: 0.0422 - accuracy: 0.98 - ETA: 0s - loss: 0.0400 - accuracy: 0.98 - ETA: 0s - loss: 0.0413 - accuracy: 0.98 - ETA: 0s - loss: 0.0443 - accuracy: 0.98 - ETA: 0s - loss: 0.0476 - accuracy: 0.98 - ETA: 0s - loss: 0.0454 - accuracy: 0.98 - ETA: 0s - loss: 0.0476 - accuracy: 0.98 - ETA: 0s - loss: 0.0485 - accuracy: 0.98 - ETA: 0s - loss: 0.0465 - accuracy: 0.98 - ETA: 0s - loss: 0.0488 - accuracy: 0.98 - ETA: 0s - loss: 0.0485 - accuracy: 0.98 - 1s 235us/sample - loss: 0.0491 - accuracy: 0.9818\n"
     ]
    },
    {
     "data": {
      "text/plain": [
       "0.9424538545059717"
      ]
     },
     "execution_count": 50,
     "metadata": {},
     "output_type": "execute_result"
    }
   ],
   "source": [
    "best_model.fit(full_X_train_nn, full_y_train_nn, epochs=20, batch_size=32)\n",
    "y_pred_nn = best_model.predict_classes(X_test_nn)\n",
    "accuracy_score(y_test_nn, y_pred_nn)"
   ]
  },
  {
   "cell_type": "markdown",
   "metadata": {},
   "source": [
    "### Evaluate XGBOOST Performance"
   ]
  },
  {
   "cell_type": "code",
   "execution_count": 51,
   "metadata": {},
   "outputs": [
    {
     "name": "stdout",
     "output_type": "stream",
     "text": [
      "[[537  21]\n",
      " [ 18 345]]\n"
     ]
    }
   ],
   "source": [
    "print(confusion_matrix(y_test, y_pred))"
   ]
  },
  {
   "cell_type": "code",
   "execution_count": 52,
   "metadata": {},
   "outputs": [
    {
     "name": "stdout",
     "output_type": "stream",
     "text": [
      "              precision    recall  f1-score   support\n",
      "\n",
      "           0       0.97      0.96      0.96       558\n",
      "           1       0.94      0.95      0.95       363\n",
      "\n",
      "    accuracy                           0.96       921\n",
      "   macro avg       0.96      0.96      0.96       921\n",
      "weighted avg       0.96      0.96      0.96       921\n",
      "\n"
     ]
    }
   ],
   "source": [
    "print(classification_report(y_test, y_pred))"
   ]
  },
  {
   "cell_type": "code",
   "execution_count": 53,
   "metadata": {},
   "outputs": [
    {
     "data": {
      "text/plain": [
       "<matplotlib.axes._subplots.AxesSubplot at 0x15075cb00>"
      ]
     },
     "execution_count": 53,
     "metadata": {},
     "output_type": "execute_result"
    },
    {
     "data": {
      "image/png": "[encoded data removed]",
      "text/plain": [
       "<Figure size 432x288 with 1 Axes>"
      ]
     },
     "metadata": {
      "needs_background": "light"
     },
     "output_type": "display_data"
    }
   ],
   "source": [
    "y_probas = y_pred = xgb.predict_proba(X_test_lasso)\n",
    "skplt.metrics.plot_roc(y_test, y_probas)"
   ]
  },
  {
   "cell_type": "code",
   "execution_count": 54,
   "metadata": {},
   "outputs": [
    {
     "data": {
      "text/plain": [
       "Text(0.5, 1.0, 'Lift Curve of XGBoost')"
      ]
     },
     "execution_count": 54,
     "metadata": {},
     "output_type": "execute_result"
    },
    {
     "data": {
      "image/png": "[encoded data removed]",
      "text/plain": [
       "<Figure size 432x288 with 1 Axes>"
      ]
     },
     "metadata": {
      "needs_background": "light"
     },
     "output_type": "display_data"
    }
   ],
   "source": [
    "skplt.metrics.plot_lift_curve(y_test, y_probas)\n",
    "plt.title('Lift Curve of XGBoost')"
   ]
  },
  {
   "cell_type": "markdown",
   "metadata": {},
   "source": [
    "### Cost-Accuracy Combined Evaluation"
   ]
  },
  {
   "cell_type": "code",
   "execution_count": 57,
   "metadata": {},
   "outputs": [],
   "source": [
    "def misclassification_cost(y_test, y_pred):\n",
    "    tn, fp, fn, tp = confusion_matrix(y_test, y_pred).ravel()\n",
    "    cost = -10*fp + -1*fn\n",
    "    return cost\n",
    "\n",
    "cost_score = make_scorer(misclassification_cost, greater_is_better=False)"
   ]
  },
  {
   "cell_type": "code",
   "execution_count": 60,
   "metadata": {},
   "outputs": [
    {
     "data": {
      "text/plain": [
       "275"
      ]
     },
     "execution_count": 60,
     "metadata": {},
     "output_type": "execute_result"
    }
   ],
   "source": [
    "# Logistic Regression \n",
    "log_clf = LogisticRegression()\n",
    "grid = GridSearchCV(log_clf, p_grid_log, cv = 10, scoring = cost_score)\n",
    "grid.fit(X_train_lasso, y_train)\n",
    "log_best_clf = LogisticRegression(C=10, class_weight=None, dual=False, fit_intercept=True,\n",
    "                   intercept_scaling=1, l1_ratio=None, max_iter=100,\n",
    "                   multi_class='warn', n_jobs=None, penalty='l1',\n",
    "                   random_state=None, solver='warn', tol=0.0001, verbose=0,\n",
    "                   warm_start=False)\n",
    "\n",
    "log_best_clf.fit(X_train_lasso, y_train)\n",
    "cost_score(log_best_clf, X_test_lasso, y_test)"
   ]
  },
  {
   "cell_type": "code",
   "execution_count": 61,
   "metadata": {},
   "outputs": [
    {
     "data": {
      "text/plain": [
       "202"
      ]
     },
     "execution_count": 61,
     "metadata": {},
     "output_type": "execute_result"
    }
   ],
   "source": [
    "# Random Forest\n",
    "rf_clf = RandomForestClassifier()\n",
    "grid = RandomizedSearchCV(rf_clf, p_grid_rf, cv = 10, scoring = cost_score)\n",
    "grid.fit(X_train_lasso, y_train)\n",
    "rf_best_clf = RandomForestClassifier(bootstrap=True, class_weight=None, criterion='gini',\n",
    "                       max_depth=20, max_features='sqrt', max_leaf_nodes=None,\n",
    "                       min_impurity_decrease=0.0, min_impurity_split=None,\n",
    "                       min_samples_leaf=1, min_samples_split=2,\n",
    "                       min_weight_fraction_leaf=0.0, n_estimators=200,\n",
    "                       n_jobs=None, oob_score=False, random_state=None,\n",
    "                       verbose=0, warm_start=False)\n",
    "rf_best_clf.fit(X_train_lasso, y_train)\n",
    "cost_score(rf_best_clf, X_test_lasso, y_test)"
   ]
  },
  {
   "cell_type": "code",
   "execution_count": 63,
   "metadata": {},
   "outputs": [
    {
     "data": {
      "text/plain": [
       "254"
      ]
     },
     "execution_count": 63,
     "metadata": {},
     "output_type": "execute_result"
    }
   ],
   "source": [
    "# XGBoost\n",
    "xgb_clf = XGBClassifier()\n",
    "grid = RandomizedSearchCV(xgb_clf, p_grid_xgb, cv = 10, scoring = cost_score)\n",
    "grid.fit(X_train_lasso, y_train)\n",
    "xgb_best_clf = XGBClassifier(base_score=0.5, booster='gbtree', colsample_bylevel=1,\n",
    "              colsample_bynode=1, colsample_bytree=1, gamma=0.3,\n",
    "              learning_rate=0.1, max_delta_step=0, max_depth=9,\n",
    "              min_child_weight=1, missing=None, n_estimators=50, n_jobs=1,\n",
    "              nthread=None, objective='binary:logistic', random_state=0,\n",
    "              reg_alpha=0, reg_lambda=1, scale_pos_weight=1, seed=None,\n",
    "              silent=None, subsample=1, verbosity=1)\n",
    "xgb_best_clf.fit(X_train_lasso, y_train)\n",
    "cost_score(xgb_best_clf, X_test_lasso, y_test)"
   ]
  },
  {
   "cell_type": "code",
   "execution_count": 64,
   "metadata": {},
   "outputs": [
    {
     "data": {
      "text/plain": [
       "240"
      ]
     },
     "execution_count": 64,
     "metadata": {},
     "output_type": "execute_result"
    }
   ],
   "source": [
    "# LightGBM\n",
    "lgb_clf = lightgbm.LGBMClassifier()\n",
    "grid = RandomizedSearchCV(lgb_clf, p_grid_lgb, cv = 10, scoring = cost_score)\n",
    "grid.fit(X_train_lasso, y_train)\n",
    "lgb_best_clf = lightgbm.LGBMClassifier(boosting_type='gbdt', class_weight=None, colsample_bytree=1.0,\n",
    "               importance_type='split', learning_rate=0.01, max_depth=-1,\n",
    "               min_child_samples=20, min_child_weight=0.001, min_split_gain=0.0,\n",
    "               n_estimators=20, n_jobs=-1, num_leaves=64, objective=None,\n",
    "               random_state=None, reg_alpha=0.0, reg_lambda=0.0, silent=True,\n",
    "               subsample=1.0, subsample_for_bin=200000, subsample_freq=0)\n",
    "lgb_best_clf.fit(X_train_lasso, y_train)\n",
    "cost_score(lgb_best_clf, X_test_lasso, y_test)"
   ]
  },
  {
   "cell_type": "code",
   "execution_count": 67,
   "metadata": {},
   "outputs": [
    {
     "data": {
      "text/plain": [
       "0.9565689467969598"
      ]
     },
     "execution_count": 67,
     "metadata": {},
     "output_type": "execute_result"
    }
   ],
   "source": [
    "y_pred = rf_best_clf.predict(X_test_lasso)\n",
    "accuracy_score(y_test, y_pred)"
   ]
  },
  {
   "cell_type": "code",
   "execution_count": 68,
   "metadata": {},
   "outputs": [
    {
     "name": "stdout",
     "output_type": "stream",
     "text": [
      "[[540  18]\n",
      " [ 22 341]]\n"
     ]
    }
   ],
   "source": [
    "print(confusion_matrix(y_test, y_pred))"
   ]
  },
  {
   "cell_type": "code",
   "execution_count": 69,
   "metadata": {},
   "outputs": [
    {
     "name": "stdout",
     "output_type": "stream",
     "text": [
      "              precision    recall  f1-score   support\n",
      "\n",
      "           0       0.96      0.97      0.96       558\n",
      "           1       0.95      0.94      0.94       363\n",
      "\n",
      "    accuracy                           0.96       921\n",
      "   macro avg       0.96      0.95      0.95       921\n",
      "weighted avg       0.96      0.96      0.96       921\n",
      "\n"
     ]
    }
   ],
   "source": [
    "print(classification_report(y_test, y_pred))"
   ]
  },
  {
   "cell_type": "code",
   "execution_count": 70,
   "metadata": {},
   "outputs": [
    {
     "data": {
      "text/plain": [
       "<matplotlib.axes._subplots.AxesSubplot at 0x13591f780>"
      ]
     },
     "execution_count": 70,
     "metadata": {},
     "output_type": "execute_result"
    },
    {
     "data": {
      "image/png": "[encoded data removed]",
      "text/plain": [
       "<Figure size 432x288 with 1 Axes>"
      ]
     },
     "metadata": {
      "needs_background": "light"
     },
     "output_type": "display_data"
    }
   ],
   "source": [
    "y_probas = y_pred = xgb.predict_proba(X_test_lasso)\n",
    "skplt.metrics.plot_roc(y_test, y_probas)"
   ]
  },
  {
   "cell_type": "code",
   "execution_count": 71,
   "metadata": {},
   "outputs": [
    {
     "data": {
      "text/plain": [
       "Text(0.5, 1.0, 'Lift Curve of RandomForest')"
      ]
     },
     "execution_count": 71,
     "metadata": {},
     "output_type": "execute_result"
    },
    {
     "data": {
      "image/png": "[encoded data removed]",
      "text/plain": [
       "<Figure size 432x288 with 1 Axes>"
      ]
     },
     "metadata": {
      "needs_background": "light"
     },
     "output_type": "display_data"
    }
   ],
   "source": [
    "skplt.metrics.plot_lift_curve(y_test, y_probas)\n",
    "plt.title('Lift Curve of RandomForest')"
   ]
  },
  {
   "cell_type": "code",
   "execution_count": null,
   "metadata": {},
   "outputs": [],
   "source": []
  }
 ],
 "metadata": {
  "kernelspec": {
   "display_name": "Python 3",
   "language": "python",
   "name": "python3"
  },
  "language_info": {
   "codemirror_mode": {
    "name": "ipython",
    "version": 3
   },
   "file_extension": ".py",
   "mimetype": "text/x-python",
   "name": "python",
   "nbconvert_exporter": "python",
   "pygments_lexer": "ipython3",
   "version": "3.7.3"
  }
 },
 "nbformat": 4,
 "nbformat_minor": 4
}
