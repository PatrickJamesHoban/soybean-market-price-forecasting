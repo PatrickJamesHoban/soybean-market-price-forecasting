{
 "cells": [
  {
   "cell_type": "markdown",
   "metadata": {},
   "source": [
    "### This code illustrates the working of the VAR model to forecast soybean price based on the US Conversion prices "
   ]
  },
  {
   "cell_type": "code",
   "execution_count": 49,
   "metadata": {},
   "outputs": [],
   "source": [
    "# Loading the required packages\n",
    "import pandas as pd\n",
    "import matplotlib.pyplot as plt\n",
    "from math import sqrt\n",
    "import numpy as np\n",
    "from sklearn.metrics import mean_squared_error\n",
    "%matplotlib inline"
   ]
  },
  {
   "cell_type": "code",
   "execution_count": 3,
   "metadata": {},
   "outputs": [],
   "source": [
    "# Read the US Conversion file\n",
    "df = pd.read_csv(\"rate_conversion.csv\")"
   ]
  },
  {
   "cell_type": "code",
   "execution_count": 4,
   "metadata": {},
   "outputs": [
    {
     "data": {
      "text/html": [
       "<div>\n",
       "<style scoped>\n",
       "    .dataframe tbody tr th:only-of-type {\n",
       "        vertical-align: middle;\n",
       "    }\n",
       "\n",
       "    .dataframe tbody tr th {\n",
       "        vertical-align: top;\n",
       "    }\n",
       "\n",
       "    .dataframe thead th {\n",
       "        text-align: right;\n",
       "    }\n",
       "</style>\n",
       "<table border=\"1\" class=\"dataframe\">\n",
       "  <thead>\n",
       "    <tr style=\"text-align: right;\">\n",
       "      <th></th>\n",
       "      <th>Date</th>\n",
       "      <th>Close</th>\n",
       "      <th>Price_cny</th>\n",
       "      <th>Price_eur</th>\n",
       "      <th>Price_inr</th>\n",
       "      <th>Price_brl</th>\n",
       "      <th>Price_mxn</th>\n",
       "    </tr>\n",
       "  </thead>\n",
       "  <tbody>\n",
       "    <tr>\n",
       "      <th>0</th>\n",
       "      <td>2017-11-14</td>\n",
       "      <td>978.5</td>\n",
       "      <td>6.6363</td>\n",
       "      <td>0.8476</td>\n",
       "      <td>65.410</td>\n",
       "      <td>3.3131</td>\n",
       "      <td>19.1675</td>\n",
       "    </tr>\n",
       "    <tr>\n",
       "      <th>1</th>\n",
       "      <td>2017-11-15</td>\n",
       "      <td>985.0</td>\n",
       "      <td>6.6235</td>\n",
       "      <td>0.8481</td>\n",
       "      <td>65.270</td>\n",
       "      <td>3.3133</td>\n",
       "      <td>19.2510</td>\n",
       "    </tr>\n",
       "    <tr>\n",
       "      <th>2</th>\n",
       "      <td>2017-11-16</td>\n",
       "      <td>991.0</td>\n",
       "      <td>6.6307</td>\n",
       "      <td>0.8496</td>\n",
       "      <td>65.295</td>\n",
       "      <td>3.2740</td>\n",
       "      <td>19.0590</td>\n",
       "    </tr>\n",
       "    <tr>\n",
       "      <th>3</th>\n",
       "      <td>2017-11-17</td>\n",
       "      <td>1004.5</td>\n",
       "      <td>6.6268</td>\n",
       "      <td>0.8478</td>\n",
       "      <td>65.015</td>\n",
       "      <td>3.2574</td>\n",
       "      <td>18.9140</td>\n",
       "    </tr>\n",
       "    <tr>\n",
       "      <th>4</th>\n",
       "      <td>2017-11-20</td>\n",
       "      <td>1006.5</td>\n",
       "      <td>6.6350</td>\n",
       "      <td>0.8524</td>\n",
       "      <td>65.100</td>\n",
       "      <td>3.2574</td>\n",
       "      <td>18.9937</td>\n",
       "    </tr>\n",
       "  </tbody>\n",
       "</table>\n",
       "</div>"
      ],
      "text/plain": [
       "         Date   Close  Price_cny  Price_eur  Price_inr  Price_brl  Price_mxn\n",
       "0  2017-11-14   978.5     6.6363     0.8476     65.410     3.3131    19.1675\n",
       "1  2017-11-15   985.0     6.6235     0.8481     65.270     3.3133    19.2510\n",
       "2  2017-11-16   991.0     6.6307     0.8496     65.295     3.2740    19.0590\n",
       "3  2017-11-17  1004.5     6.6268     0.8478     65.015     3.2574    18.9140\n",
       "4  2017-11-20  1006.5     6.6350     0.8524     65.100     3.2574    18.9937"
      ]
     },
     "execution_count": 4,
     "metadata": {},
     "output_type": "execute_result"
    }
   ],
   "source": [
    "df.head()"
   ]
  },
  {
   "cell_type": "code",
   "execution_count": 5,
   "metadata": {},
   "outputs": [
    {
     "data": {
      "text/html": [
       "<div>\n",
       "<style scoped>\n",
       "    .dataframe tbody tr th:only-of-type {\n",
       "        vertical-align: middle;\n",
       "    }\n",
       "\n",
       "    .dataframe tbody tr th {\n",
       "        vertical-align: top;\n",
       "    }\n",
       "\n",
       "    .dataframe thead th {\n",
       "        text-align: right;\n",
       "    }\n",
       "</style>\n",
       "<table border=\"1\" class=\"dataframe\">\n",
       "  <thead>\n",
       "    <tr style=\"text-align: right;\">\n",
       "      <th></th>\n",
       "      <th>Close</th>\n",
       "      <th>Price_cny</th>\n",
       "      <th>Price_eur</th>\n",
       "      <th>Price_inr</th>\n",
       "      <th>Price_brl</th>\n",
       "      <th>Price_mxn</th>\n",
       "    </tr>\n",
       "  </thead>\n",
       "  <tbody>\n",
       "    <tr>\n",
       "      <th>count</th>\n",
       "      <td>452.000000</td>\n",
       "      <td>452.000000</td>\n",
       "      <td>452.000000</td>\n",
       "      <td>452.000000</td>\n",
       "      <td>452.000000</td>\n",
       "      <td>452.000000</td>\n",
       "    </tr>\n",
       "    <tr>\n",
       "      <th>mean</th>\n",
       "      <td>960.044248</td>\n",
       "      <td>6.697219</td>\n",
       "      <td>0.862563</td>\n",
       "      <td>68.738018</td>\n",
       "      <td>3.705080</td>\n",
       "      <td>19.211799</td>\n",
       "    </tr>\n",
       "    <tr>\n",
       "      <th>std</th>\n",
       "      <td>36.184460</td>\n",
       "      <td>0.232216</td>\n",
       "      <td>0.028151</td>\n",
       "      <td>2.821988</td>\n",
       "      <td>0.273822</td>\n",
       "      <td>0.553724</td>\n",
       "    </tr>\n",
       "    <tr>\n",
       "      <th>min</th>\n",
       "      <td>865.000000</td>\n",
       "      <td>6.269000</td>\n",
       "      <td>0.799400</td>\n",
       "      <td>63.340000</td>\n",
       "      <td>3.146500</td>\n",
       "      <td>18.012000</td>\n",
       "    </tr>\n",
       "    <tr>\n",
       "      <th>25%</th>\n",
       "      <td>934.437500</td>\n",
       "      <td>6.493400</td>\n",
       "      <td>0.847600</td>\n",
       "      <td>66.685000</td>\n",
       "      <td>3.501650</td>\n",
       "      <td>18.841950</td>\n",
       "    </tr>\n",
       "    <tr>\n",
       "      <th>50%</th>\n",
       "      <td>959.875000</td>\n",
       "      <td>6.744800</td>\n",
       "      <td>0.869850</td>\n",
       "      <td>69.167500</td>\n",
       "      <td>3.768400</td>\n",
       "      <td>19.105000</td>\n",
       "    </tr>\n",
       "    <tr>\n",
       "      <th>75%</th>\n",
       "      <td>992.250000</td>\n",
       "      <td>6.880200</td>\n",
       "      <td>0.884550</td>\n",
       "      <td>70.852500</td>\n",
       "      <td>3.882650</td>\n",
       "      <td>19.542900</td>\n",
       "    </tr>\n",
       "    <tr>\n",
       "      <th>max</th>\n",
       "      <td>1021.750000</td>\n",
       "      <td>7.165300</td>\n",
       "      <td>0.909900</td>\n",
       "      <td>74.340000</td>\n",
       "      <td>4.207700</td>\n",
       "      <td>20.890500</td>\n",
       "    </tr>\n",
       "  </tbody>\n",
       "</table>\n",
       "</div>"
      ],
      "text/plain": [
       "             Close   Price_cny   Price_eur   Price_inr   Price_brl   Price_mxn\n",
       "count   452.000000  452.000000  452.000000  452.000000  452.000000  452.000000\n",
       "mean    960.044248    6.697219    0.862563   68.738018    3.705080   19.211799\n",
       "std      36.184460    0.232216    0.028151    2.821988    0.273822    0.553724\n",
       "min     865.000000    6.269000    0.799400   63.340000    3.146500   18.012000\n",
       "25%     934.437500    6.493400    0.847600   66.685000    3.501650   18.841950\n",
       "50%     959.875000    6.744800    0.869850   69.167500    3.768400   19.105000\n",
       "75%     992.250000    6.880200    0.884550   70.852500    3.882650   19.542900\n",
       "max    1021.750000    7.165300    0.909900   74.340000    4.207700   20.890500"
      ]
     },
     "execution_count": 5,
     "metadata": {},
     "output_type": "execute_result"
    }
   ],
   "source": [
    "df.describe()"
   ]
  },
  {
   "cell_type": "code",
   "execution_count": 6,
   "metadata": {},
   "outputs": [
    {
     "data": {
      "text/plain": [
       "Date          object\n",
       "Close        float64\n",
       "Price_cny    float64\n",
       "Price_eur    float64\n",
       "Price_inr    float64\n",
       "Price_brl    float64\n",
       "Price_mxn    float64\n",
       "dtype: object"
      ]
     },
     "execution_count": 6,
     "metadata": {},
     "output_type": "execute_result"
    }
   ],
   "source": [
    "df.dtypes"
   ]
  },
  {
   "cell_type": "code",
   "execution_count": 7,
   "metadata": {},
   "outputs": [],
   "source": [
    "# change the datatype of the date column\n",
    "df['Date'] = pd.to_datetime(df.Date , format = '%Y-%m-%d')"
   ]
  },
  {
   "cell_type": "code",
   "execution_count": 14,
   "metadata": {},
   "outputs": [],
   "source": [
    "# make date column the index\n",
    "data = df.drop(['Date'], axis=1)\n",
    "data.index = df.Date"
   ]
  },
  {
   "cell_type": "code",
   "execution_count": 10,
   "metadata": {},
   "outputs": [],
   "source": [
    "from statsmodels.tsa.vector_ar.vecm import coint_johansen"
   ]
  },
  {
   "cell_type": "code",
   "execution_count": 17,
   "metadata": {},
   "outputs": [
    {
     "data": {
      "text/plain": [
       "array([0.06485838, 0.03564439, 0.02673119, 0.02463259, 0.00934524,\n",
       "       0.00468068])"
      ]
     },
     "execution_count": 17,
     "metadata": {},
     "output_type": "execute_result"
    }
   ],
   "source": [
    "# The Johansen Test can be used to check for cointegration between a maximum of 12-time series.\n",
    "coint_johansen(data,-1,1).eig"
   ]
  },
  {
   "cell_type": "code",
   "execution_count": 18,
   "metadata": {},
   "outputs": [],
   "source": [
    "# Splitting the first 80% of the data into train and the rest into test\n",
    "train = data[:int(0.8*(len(data)))]\n",
    "valid = data[int(0.8*(len(data))):]"
   ]
  },
  {
   "cell_type": "code",
   "execution_count": 19,
   "metadata": {},
   "outputs": [],
   "source": [
    "#Loading the VAR Model\n",
    "from statsmodels.tsa.vector_ar.var_model import VAR"
   ]
  },
  {
   "cell_type": "code",
   "execution_count": 20,
   "metadata": {},
   "outputs": [
    {
     "name": "stderr",
     "output_type": "stream",
     "text": [
      "C:\\Users\\vnike\\Anaconda3\\lib\\site-packages\\statsmodels\\tsa\\base\\tsa_model.py:219: ValueWarning: A date index has been provided, but it has no associated frequency information and so will be ignored when e.g. forecasting.\n",
      "  ' ignored when e.g. forecasting.', ValueWarning)\n"
     ]
    }
   ],
   "source": [
    "# Fit the model\n",
    "model = VAR(endog=train)\n",
    "model_fit = model.fit()"
   ]
  },
  {
   "cell_type": "code",
   "execution_count": null,
   "metadata": {},
   "outputs": [],
   "source": [
    "# Forecast using the fitted model for the next valid samples available\n",
    "prediction = model_fit.forecast(model_fit.y, steps=len(valid))"
   ]
  },
  {
   "cell_type": "code",
   "execution_count": 22,
   "metadata": {},
   "outputs": [
    {
     "data": {
      "text/plain": [
       "array([[9.23055952e+02, 6.73436155e+00, 8.90240612e-01, 6.97979065e+01,\n",
       "        3.92904028e+00, 1.89012929e+01],\n",
       "       [9.23099935e+02, 6.74246585e+00, 8.89885555e-01, 6.98289352e+01,\n",
       "        3.93643644e+00, 1.88974011e+01],\n",
       "       [9.23135035e+02, 6.75023671e+00, 8.89536347e-01, 6.98628376e+01,\n",
       "        3.94332154e+00, 1.88931191e+01],\n",
       "       [9.23163979e+02, 6.75769604e+00, 8.89194345e-01, 6.98993770e+01,\n",
       "        3.94972661e+00, 1.88885345e+01],\n",
       "       [9.23189171e+02, 6.76486395e+00, 8.88860763e-01, 6.99383278e+01,\n",
       "        3.95568085e+00, 1.88837280e+01],\n",
       "       [9.23212716e+02, 6.77175893e+00, 8.88536672e-01, 6.99794750e+01,\n",
       "        3.96121167e+00, 1.88787739e+01],\n",
       "       [9.23236449e+02, 6.77839798e+00, 8.88223014e-01, 7.00226141e+01,\n",
       "        3.96634488e+00, 1.88737403e+01],\n",
       "       [9.23261956e+02, 6.78479672e+00, 8.87920612e-01, 7.00675501e+01,\n",
       "        3.97110473e+00, 1.88686897e+01],\n",
       "       [9.23290600e+02, 6.79096949e+00, 8.87630175e-01, 7.01140975e+01,\n",
       "        3.97551405e+00, 1.88636788e+01],\n",
       "       [9.23323542e+02, 6.79692951e+00, 8.87352308e-01, 7.01620796e+01,\n",
       "        3.97959432e+00, 1.88587595e+01],\n",
       "       [9.23361755e+02, 6.80268889e+00, 8.87087518e-01, 7.02113285e+01,\n",
       "        3.98336575e+00, 1.88539784e+01],\n",
       "       [9.23406050e+02, 6.80825879e+00, 8.86836220e-01, 7.02616845e+01,\n",
       "        3.98684735e+00, 1.88493778e+01],\n",
       "       [9.23457082e+02, 6.81364947e+00, 8.86598748e-01, 7.03129957e+01,\n",
       "        3.99005705e+00, 1.88449954e+01],\n",
       "       [9.23515376e+02, 6.81887036e+00, 8.86375354e-01, 7.03651179e+01,\n",
       "        3.99301170e+00, 1.88408648e+01],\n",
       "       [9.23581332e+02, 6.82393015e+00, 8.86166222e-01, 7.04179144e+01,\n",
       "        3.99572719e+00, 1.88370160e+01],\n",
       "       [9.23655241e+02, 6.82883681e+00, 8.85971465e-01, 7.04712552e+01,\n",
       "        3.99821844e+00, 1.88334748e+01],\n",
       "       [9.23737298e+02, 6.83359770e+00, 8.85791138e-01, 7.05250174e+01,\n",
       "        4.00049956e+00, 1.88302641e+01],\n",
       "       [9.23827611e+02, 6.83821960e+00, 8.85625239e-01, 7.05790846e+01,\n",
       "        4.00258379e+00, 1.88274033e+01],\n",
       "       [9.23926210e+02, 6.84270875e+00, 8.85473711e-01, 7.06333465e+01,\n",
       "        4.00448361e+00, 1.88249087e+01],\n",
       "       [9.24033059e+02, 6.84707091e+00, 8.85336453e-01, 7.06876990e+01,\n",
       "        4.00621077e+00, 1.88227941e+01],\n",
       "       [9.24148061e+02, 6.85131138e+00, 8.85213318e-01, 7.07420439e+01,\n",
       "        4.00777635e+00, 1.88210703e+01],\n",
       "       [9.24271069e+02, 6.85543506e+00, 8.85104122e-01, 7.07962885e+01,\n",
       "        4.00919077e+00, 1.88197459e+01],\n",
       "       [9.24401888e+02, 6.85944650e+00, 8.85008643e-01, 7.08503457e+01,\n",
       "        4.01046382e+00, 1.88188271e+01],\n",
       "       [9.24540286e+02, 6.86334986e+00, 8.84926626e-01, 7.09041334e+01,\n",
       "        4.01160474e+00, 1.88183179e+01],\n",
       "       [9.24685998e+02, 6.86714904e+00, 8.84857790e-01, 7.09575747e+01,\n",
       "        4.01262222e+00, 1.88182204e+01],\n",
       "       [9.24838732e+02, 6.87084763e+00, 8.84801825e-01, 7.10105974e+01,\n",
       "        4.01352442e+00, 1.88185349e+01],\n",
       "       [9.24998171e+02, 6.87444895e+00, 8.84758399e-01, 7.10631343e+01,\n",
       "        4.01431903e+00, 1.88192600e+01],\n",
       "       [9.25163980e+02, 6.87795611e+00, 8.84727159e-01, 7.11151223e+01,\n",
       "        4.01501328e+00, 1.88203927e+01],\n",
       "       [9.25335811e+02, 6.88137199e+00, 8.84707734e-01, 7.11665029e+01,\n",
       "        4.01561396e+00, 1.88219287e+01],\n",
       "       [9.25513303e+02, 6.88469927e+00, 8.84699739e-01, 7.12172217e+01,\n",
       "        4.01612745e+00, 1.88238622e+01],\n",
       "       [9.25696086e+02, 6.88794045e+00, 8.84702775e-01, 7.12672282e+01,\n",
       "        4.01655975e+00, 1.88261863e+01],\n",
       "       [9.25883788e+02, 6.89109787e+00, 8.84716430e-01, 7.13164760e+01,\n",
       "        4.01691649e+00, 1.88288932e+01],\n",
       "       [9.26076032e+02, 6.89417373e+00, 8.84740285e-01, 7.13649221e+01,\n",
       "        4.01720295e+00, 1.88319738e+01],\n",
       "       [9.26272441e+02, 6.89717008e+00, 8.84773912e-01, 7.14125273e+01,\n",
       "        4.01742409e+00, 1.88354185e+01],\n",
       "       [9.26472641e+02, 6.90008884e+00, 8.84816881e-01, 7.14592558e+01,\n",
       "        4.01758455e+00, 1.88392167e+01],\n",
       "       [9.26676261e+02, 6.90293185e+00, 8.84868753e-01, 7.15050750e+01,\n",
       "        4.01768869e+00, 1.88433570e+01],\n",
       "       [9.26882934e+02, 6.90570081e+00, 8.84929091e-01, 7.15499554e+01,\n",
       "        4.01774058e+00, 1.88478278e+01],\n",
       "       [9.27092301e+02, 6.90839734e+00, 8.84997453e-01, 7.15938706e+01,\n",
       "        4.01774405e+00, 1.88526166e+01],\n",
       "       [9.27304010e+02, 6.91102300e+00, 8.85073400e-01, 7.16367972e+01,\n",
       "        4.01770265e+00, 1.88577105e+01],\n",
       "       [9.27517719e+02, 6.91357923e+00, 8.85156494e-01, 7.16787143e+01,\n",
       "        4.01761973e+00, 1.88630965e+01],\n",
       "       [9.27733096e+02, 6.91606744e+00, 8.85246298e-01, 7.17196039e+01,\n",
       "        4.01749840e+00, 1.88687611e+01],\n",
       "       [9.27949817e+02, 6.91848895e+00, 8.85342381e-01, 7.17594503e+01,\n",
       "        4.01734156e+00, 1.88746904e+01],\n",
       "       [9.28167571e+02, 6.92084503e+00, 8.85444313e-01, 7.17982403e+01,\n",
       "        4.01715193e+00, 1.88808706e+01],\n",
       "       [9.28386060e+02, 6.92313691e+00, 8.85551674e-01, 7.18359630e+01,\n",
       "        4.01693203e+00, 1.88872876e+01],\n",
       "       [9.28604996e+02, 6.92536575e+00, 8.85664045e-01, 7.18726098e+01,\n",
       "        4.01668420e+00, 1.88939273e+01],\n",
       "       [9.28824105e+02, 6.92753269e+00, 8.85781019e-01, 7.19081740e+01,\n",
       "        4.01641063e+00, 1.89007756e+01],\n",
       "       [9.29043124e+02, 6.92963882e+00, 8.85902191e-01, 7.19426509e+01,\n",
       "        4.01611335e+00, 1.89078181e+01],\n",
       "       [9.29261804e+02, 6.93168519e+00, 8.86027169e-01, 7.19760378e+01,\n",
       "        4.01579423e+00, 1.89150410e+01],\n",
       "       [9.29479910e+02, 6.93367282e+00, 8.86155567e-01, 7.20083336e+01,\n",
       "        4.01545502e+00, 1.89224301e+01],\n",
       "       [9.29697218e+02, 6.93560271e+00, 8.86287008e-01, 7.20395389e+01,\n",
       "        4.01509732e+00, 1.89299715e+01],\n",
       "       [9.29913518e+02, 6.93747582e+00, 8.86421125e-01, 7.20696562e+01,\n",
       "        4.01472264e+00, 1.89376516e+01],\n",
       "       [9.30128612e+02, 6.93929310e+00, 8.86557562e-01, 7.20986890e+01,\n",
       "        4.01433233e+00, 1.89454568e+01],\n",
       "       [9.30342316e+02, 6.94105547e+00, 8.86695971e-01, 7.21266426e+01,\n",
       "        4.01392766e+00, 1.89533737e+01],\n",
       "       [9.30554458e+02, 6.94276383e+00, 8.86836015e-01, 7.21535235e+01,\n",
       "        4.01350980e+00, 1.89613893e+01],\n",
       "       [9.30764878e+02, 6.94441905e+00, 8.86977370e-01, 7.21793394e+01,\n",
       "        4.01307981e+00, 1.89694908e+01],\n",
       "       [9.30973429e+02, 6.94602201e+00, 8.87119718e-01, 7.22040991e+01,\n",
       "        4.01263867e+00, 1.89776656e+01],\n",
       "       [9.31179973e+02, 6.94757355e+00, 8.87262757e-01, 7.22278127e+01,\n",
       "        4.01218728e+00, 1.89859014e+01],\n",
       "       [9.31384388e+02, 6.94907451e+00, 8.87406194e-01, 7.22504912e+01,\n",
       "        4.01172645e+00, 1.89941864e+01],\n",
       "       [9.31586559e+02, 6.95052571e+00, 8.87549745e-01, 7.22721465e+01,\n",
       "        4.01125692e+00, 1.90025090e+01],\n",
       "       [9.31786385e+02, 6.95192795e+00, 8.87693141e-01, 7.22927914e+01,\n",
       "        4.01077936e+00, 1.90108579e+01],\n",
       "       [9.31983772e+02, 6.95328205e+00, 8.87836121e-01, 7.23124395e+01,\n",
       "        4.01029440e+00, 1.90192222e+01],\n",
       "       [9.32178641e+02, 6.95458877e+00, 8.87978438e-01, 7.23311052e+01,\n",
       "        4.00980257e+00, 1.90275914e+01],\n",
       "       [9.32370918e+02, 6.95584891e+00, 8.88119854e-01, 7.23488035e+01,\n",
       "        4.00930438e+00, 1.90359554e+01],\n",
       "       [9.32560540e+02, 6.95706322e+00, 8.88260142e-01, 7.23655501e+01,\n",
       "        4.00880026e+00, 1.90443042e+01],\n",
       "       [9.32747455e+02, 6.95823247e+00, 8.88399089e-01, 7.23813611e+01,\n",
       "        4.00829063e+00, 1.90526286e+01],\n",
       "       [9.32931617e+02, 6.95935741e+00, 8.88536489e-01, 7.23962534e+01,\n",
       "        4.00777582e+00, 1.90609195e+01],\n",
       "       [9.33112988e+02, 6.96043878e+00, 8.88672149e-01, 7.24102440e+01,\n",
       "        4.00725616e+00, 1.90691682e+01],\n",
       "       [9.33291541e+02, 6.96147731e+00, 8.88805887e-01, 7.24233505e+01,\n",
       "        4.00673191e+00, 1.90773666e+01],\n",
       "       [9.33467253e+02, 6.96247374e+00, 8.88937529e-01, 7.24355910e+01,\n",
       "        4.00620333e+00, 1.90855067e+01],\n",
       "       [9.33640110e+02, 6.96342878e+00, 8.89066914e-01, 7.24469835e+01,\n",
       "        4.00567063e+00, 1.90935811e+01],\n",
       "       [9.33810103e+02, 6.96434314e+00, 8.89193890e-01, 7.24575466e+01,\n",
       "        4.00513397e+00, 1.91015826e+01],\n",
       "       [9.33977231e+02, 6.96521753e+00, 8.89318315e-01, 7.24672990e+01,\n",
       "        4.00459353e+00, 1.91095046e+01],\n",
       "       [9.34141499e+02, 6.96605265e+00, 8.89440057e-01, 7.24762596e+01,\n",
       "        4.00404943e+00, 1.91173408e+01],\n",
       "       [9.34302915e+02, 6.96684920e+00, 8.89558993e-01, 7.24844475e+01,\n",
       "        4.00350178e+00, 1.91250850e+01],\n",
       "       [9.34461496e+02, 6.96760786e+00, 8.89675010e-01, 7.24918818e+01,\n",
       "        4.00295068e+00, 1.91327319e+01],\n",
       "       [9.34617260e+02, 6.96832931e+00, 8.89788003e-01, 7.24985816e+01,\n",
       "        4.00239619e+00, 1.91402760e+01],\n",
       "       [9.34770232e+02, 6.96901422e+00, 8.89897877e-01, 7.25045663e+01,\n",
       "        4.00183838e+00, 1.91477126e+01],\n",
       "       [9.34920440e+02, 6.96966326e+00, 8.90004545e-01, 7.25098552e+01,\n",
       "        4.00127729e+00, 1.91550371e+01],\n",
       "       [9.35067917e+02, 6.97027710e+00, 8.90107928e-01, 7.25144673e+01,\n",
       "        4.00071295e+00, 1.91622453e+01],\n",
       "       [9.35212698e+02, 6.97085639e+00, 8.90207956e-01, 7.25184220e+01,\n",
       "        4.00014539e+00, 1.91693334e+01],\n",
       "       [9.35354823e+02, 6.97140177e+00, 8.90304566e-01, 7.25217382e+01,\n",
       "        3.99957462e+00, 1.91762978e+01],\n",
       "       [9.35494333e+02, 6.97191389e+00, 8.90397704e-01, 7.25244351e+01,\n",
       "        3.99900065e+00, 1.91831353e+01],\n",
       "       [9.35631273e+02, 6.97239339e+00, 8.90487320e-01, 7.25265315e+01,\n",
       "        3.99842347e+00, 1.91898431e+01],\n",
       "       [9.35765690e+02, 6.97284090e+00, 8.90573375e-01, 7.25280461e+01,\n",
       "        3.99784307e+00, 1.91964186e+01],\n",
       "       [9.35897633e+02, 6.97325704e+00, 8.90655835e-01, 7.25289974e+01,\n",
       "        3.99725946e+00, 1.92028593e+01],\n",
       "       [9.36027153e+02, 6.97364242e+00, 8.90734672e-01, 7.25294039e+01,\n",
       "        3.99667261e+00, 1.92091634e+01],\n",
       "       [9.36154303e+02, 6.97399767e+00, 8.90809866e-01, 7.25292837e+01,\n",
       "        3.99608250e+00, 1.92153291e+01],\n",
       "       [9.36279136e+02, 6.97432338e+00, 8.90881401e-01, 7.25286548e+01,\n",
       "        3.99548913e+00, 1.92213549e+01],\n",
       "       [9.36401709e+02, 6.97462015e+00, 8.90949267e-01, 7.25275349e+01,\n",
       "        3.99489247e+00, 1.92272395e+01],\n",
       "       [9.36522077e+02, 6.97488858e+00, 8.91013462e-01, 7.25259414e+01,\n",
       "        3.99429251e+00, 1.92329820e+01],\n",
       "       [9.36640297e+02, 6.97512925e+00, 8.91073987e-01, 7.25238915e+01,\n",
       "        3.99368922e+00, 1.92385817e+01]])"
      ]
     },
     "execution_count": 22,
     "metadata": {},
     "output_type": "execute_result"
    }
   ],
   "source": [
    "prediction"
   ]
  },
  {
   "cell_type": "code",
   "execution_count": 28,
   "metadata": {},
   "outputs": [],
   "source": [
    "cols = data.columns"
   ]
  },
  {
   "cell_type": "code",
   "execution_count": 56,
   "metadata": {},
   "outputs": [],
   "source": [
    "# Converting thr numpy array into a dataframe \n",
    "pred = pd.DataFrame(index=range(0,len(prediction)),columns=[cols])\n",
    "for j in range(0,6):\n",
    "    for i in range(0, len(prediction)):\n",
    "       pred.iloc[i][j] = prediction[i][j]"
   ]
  },
  {
   "cell_type": "code",
   "execution_count": 57,
   "metadata": {},
   "outputs": [
    {
     "data": {
      "text/html": [
       "<div>\n",
       "<style scoped>\n",
       "    .dataframe tbody tr th:only-of-type {\n",
       "        vertical-align: middle;\n",
       "    }\n",
       "\n",
       "    .dataframe tbody tr th {\n",
       "        vertical-align: top;\n",
       "    }\n",
       "\n",
       "    .dataframe thead tr th {\n",
       "        text-align: left;\n",
       "    }\n",
       "</style>\n",
       "<table border=\"1\" class=\"dataframe\">\n",
       "  <thead>\n",
       "    <tr>\n",
       "      <th></th>\n",
       "      <th>Close</th>\n",
       "      <th>Price_cny</th>\n",
       "      <th>Price_eur</th>\n",
       "      <th>Price_inr</th>\n",
       "      <th>Price_brl</th>\n",
       "      <th>Price_mxn</th>\n",
       "    </tr>\n",
       "  </thead>\n",
       "  <tbody>\n",
       "    <tr>\n",
       "      <th>0</th>\n",
       "      <td>923.056</td>\n",
       "      <td>6.73436</td>\n",
       "      <td>0.890241</td>\n",
       "      <td>69.7979</td>\n",
       "      <td>3.92904</td>\n",
       "      <td>18.9013</td>\n",
       "    </tr>\n",
       "    <tr>\n",
       "      <th>1</th>\n",
       "      <td>923.1</td>\n",
       "      <td>6.74247</td>\n",
       "      <td>0.889886</td>\n",
       "      <td>69.8289</td>\n",
       "      <td>3.93644</td>\n",
       "      <td>18.8974</td>\n",
       "    </tr>\n",
       "    <tr>\n",
       "      <th>2</th>\n",
       "      <td>923.135</td>\n",
       "      <td>6.75024</td>\n",
       "      <td>0.889536</td>\n",
       "      <td>69.8628</td>\n",
       "      <td>3.94332</td>\n",
       "      <td>18.8931</td>\n",
       "    </tr>\n",
       "    <tr>\n",
       "      <th>3</th>\n",
       "      <td>923.164</td>\n",
       "      <td>6.7577</td>\n",
       "      <td>0.889194</td>\n",
       "      <td>69.8994</td>\n",
       "      <td>3.94973</td>\n",
       "      <td>18.8885</td>\n",
       "    </tr>\n",
       "    <tr>\n",
       "      <th>4</th>\n",
       "      <td>923.189</td>\n",
       "      <td>6.76486</td>\n",
       "      <td>0.888861</td>\n",
       "      <td>69.9383</td>\n",
       "      <td>3.95568</td>\n",
       "      <td>18.8837</td>\n",
       "    </tr>\n",
       "  </tbody>\n",
       "</table>\n",
       "</div>"
      ],
      "text/plain": [
       "     Close Price_cny Price_eur Price_inr Price_brl Price_mxn\n",
       "0  923.056   6.73436  0.890241   69.7979   3.92904   18.9013\n",
       "1    923.1   6.74247  0.889886   69.8289   3.93644   18.8974\n",
       "2  923.135   6.75024  0.889536   69.8628   3.94332   18.8931\n",
       "3  923.164    6.7577  0.889194   69.8994   3.94973   18.8885\n",
       "4  923.189   6.76486  0.888861   69.9383   3.95568   18.8837"
      ]
     },
     "execution_count": 57,
     "metadata": {},
     "output_type": "execute_result"
    }
   ],
   "source": [
    "pred.head()"
   ]
  },
  {
   "cell_type": "code",
   "execution_count": 53,
   "metadata": {},
   "outputs": [
    {
     "data": {
      "text/plain": [
       "Close        object\n",
       "Price_cny    object\n",
       "Price_eur    object\n",
       "Price_inr    object\n",
       "Price_brl    object\n",
       "Price_mxn    object\n",
       "dtype: object"
      ]
     },
     "execution_count": 53,
     "metadata": {},
     "output_type": "execute_result"
    }
   ],
   "source": [
    "pred.dtypes"
   ]
  },
  {
   "cell_type": "code",
   "execution_count": 40,
   "metadata": {},
   "outputs": [
    {
     "data": {
      "text/plain": [
       "Close        float64\n",
       "Price_cny    float64\n",
       "Price_eur    float64\n",
       "Price_inr    float64\n",
       "Price_brl    float64\n",
       "Price_mxn    float64\n",
       "dtype: object"
      ]
     },
     "execution_count": 40,
     "metadata": {},
     "output_type": "execute_result"
    }
   ],
   "source": [
    "valid.dtypes"
   ]
  },
  {
   "cell_type": "code",
   "execution_count": 60,
   "metadata": {},
   "outputs": [
    {
     "data": {
      "text/html": [
       "<div>\n",
       "<style scoped>\n",
       "    .dataframe tbody tr th:only-of-type {\n",
       "        vertical-align: middle;\n",
       "    }\n",
       "\n",
       "    .dataframe tbody tr th {\n",
       "        vertical-align: top;\n",
       "    }\n",
       "\n",
       "    .dataframe thead tr th {\n",
       "        text-align: left;\n",
       "    }\n",
       "</style>\n",
       "<table border=\"1\" class=\"dataframe\">\n",
       "  <thead>\n",
       "    <tr>\n",
       "      <th></th>\n",
       "      <th>Close</th>\n",
       "      <th>Price_cny</th>\n",
       "      <th>Price_eur</th>\n",
       "      <th>Price_inr</th>\n",
       "      <th>Price_brl</th>\n",
       "      <th>Price_mxn</th>\n",
       "    </tr>\n",
       "  </thead>\n",
       "  <tbody>\n",
       "    <tr>\n",
       "      <th>86</th>\n",
       "      <td>936.154</td>\n",
       "      <td>6.974</td>\n",
       "      <td>0.89081</td>\n",
       "      <td>72.5293</td>\n",
       "      <td>3.99608</td>\n",
       "      <td>19.2153</td>\n",
       "    </tr>\n",
       "    <tr>\n",
       "      <th>87</th>\n",
       "      <td>936.279</td>\n",
       "      <td>6.97432</td>\n",
       "      <td>0.890881</td>\n",
       "      <td>72.5287</td>\n",
       "      <td>3.99549</td>\n",
       "      <td>19.2214</td>\n",
       "    </tr>\n",
       "    <tr>\n",
       "      <th>88</th>\n",
       "      <td>936.402</td>\n",
       "      <td>6.97462</td>\n",
       "      <td>0.890949</td>\n",
       "      <td>72.5275</td>\n",
       "      <td>3.99489</td>\n",
       "      <td>19.2272</td>\n",
       "    </tr>\n",
       "    <tr>\n",
       "      <th>89</th>\n",
       "      <td>936.522</td>\n",
       "      <td>6.97489</td>\n",
       "      <td>0.891013</td>\n",
       "      <td>72.5259</td>\n",
       "      <td>3.99429</td>\n",
       "      <td>19.233</td>\n",
       "    </tr>\n",
       "    <tr>\n",
       "      <th>90</th>\n",
       "      <td>936.64</td>\n",
       "      <td>6.97513</td>\n",
       "      <td>0.891074</td>\n",
       "      <td>72.5239</td>\n",
       "      <td>3.99369</td>\n",
       "      <td>19.2386</td>\n",
       "    </tr>\n",
       "  </tbody>\n",
       "</table>\n",
       "</div>"
      ],
      "text/plain": [
       "      Close Price_cny Price_eur Price_inr Price_brl Price_mxn\n",
       "86  936.154     6.974   0.89081   72.5293   3.99608   19.2153\n",
       "87  936.279   6.97432  0.890881   72.5287   3.99549   19.2214\n",
       "88  936.402   6.97462  0.890949   72.5275   3.99489   19.2272\n",
       "89  936.522   6.97489  0.891013   72.5259   3.99429    19.233\n",
       "90   936.64   6.97513  0.891074   72.5239   3.99369   19.2386"
      ]
     },
     "execution_count": 60,
     "metadata": {},
     "output_type": "execute_result"
    }
   ],
   "source": [
    "pred.tail()"
   ]
  },
  {
   "cell_type": "code",
   "execution_count": 61,
   "metadata": {},
   "outputs": [
    {
     "name": "stdout",
     "output_type": "stream",
     "text": [
      "[[905.22386269   7.15679563   0.90940293  71.46518599   4.1396434\n",
      "   20.02973205]]\n"
     ]
    },
    {
     "name": "stderr",
     "output_type": "stream",
     "text": [
      "C:\\Users\\vnike\\Anaconda3\\lib\\site-packages\\statsmodels\\tsa\\base\\tsa_model.py:219: ValueWarning: A date index has been provided, but it has no associated frequency information and so will be ignored when e.g. forecasting.\n",
      "  ' ignored when e.g. forecasting.', ValueWarning)\n",
      "C:\\Users\\vnike\\Anaconda3\\lib\\site-packages\\statsmodels\\base\\wrapper.py:35: FutureWarning: y is a deprecated alias for endog, will be removed in version 0.11.0\n",
      "  obj = getattr(results, attr)\n"
     ]
    }
   ],
   "source": [
    "# Forecasting for the next one time period \n",
    "model = VAR(endog=data)\n",
    "model_fit = model.fit()\n",
    "yhat = model_fit.forecast(model_fit.y, steps=1)\n",
    "print(yhat)"
   ]
  }
 ],
 "metadata": {
  "kernelspec": {
   "display_name": "Python 3",
   "language": "python",
   "name": "python3"
  },
  "language_info": {
   "codemirror_mode": {
    "name": "ipython",
    "version": 3
   },
   "file_extension": ".py",
   "mimetype": "text/x-python",
   "name": "python",
   "nbconvert_exporter": "python",
   "pygments_lexer": "ipython3",
   "version": "3.7.3"
  }
 },
 "nbformat": 4,
 "nbformat_minor": 2
}
