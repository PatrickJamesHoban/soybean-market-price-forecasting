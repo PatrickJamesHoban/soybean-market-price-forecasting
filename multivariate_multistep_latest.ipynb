{
 "cells": [
  {
   "cell_type": "markdown",
   "metadata": {},
   "source": [
    "## multivariate multi-step encoder-decoder lstm"
   ]
  },
  {
   "cell_type": "code",
   "execution_count": 1,
   "metadata": {},
   "outputs": [
    {
     "name": "stderr",
     "output_type": "stream",
     "text": [
      "Using TensorFlow backend.\n"
     ]
    }
   ],
   "source": [
    "# multivariate multi-step encoder-decoder lstm\n",
    "import pandas as pd\n",
    "import numpy as np\n",
    "from math import sqrt\n",
    "from numpy import split\n",
    "from numpy import array\n",
    "from pandas import read_csv\n",
    "from sklearn.metrics import mean_squared_error\n",
    "from sklearn.metrics import mean_absolute_error\n",
    "from matplotlib import pyplot\n",
    "from keras.models import Sequential\n",
    "from keras.layers import Dense\n",
    "from keras.layers import Flatten\n",
    "from keras.layers import LSTM\n",
    "from keras.layers import RepeatVector\n",
    "from keras.layers import TimeDistributed\n",
    "from keras.callbacks import EarlyStopping\n",
    "from keras.layers import Dropout\n",
    "from sklearn.preprocessing import MinMaxScaler"
   ]
  },
  {
   "cell_type": "code",
   "execution_count": 107,
   "metadata": {},
   "outputs": [],
   "source": [
    "# split a univariate dataset into train/test sets\n",
    "def split_dataset(data):\n",
    "\t# split into standard weeks\n",
    "\tscaler = MinMaxScaler(feature_range=(0, 1))\n",
    "\tdata = scaler.fit_transform(data)\n",
    "\ttrain, test = data[0:-50], data[-50:] # 10 days test data,  train data, 5 days per week, in total 495 rows (99 weeks)\n",
    "\t# restructure into windows of weekly data\n",
    "\ttrain = array(split(train, len(train)/5))\n",
    "\ttest = array(split(test, len(test)/5))\n",
    "\treturn train, test, scaler"
   ]
  },
  {
   "cell_type": "code",
   "execution_count": 4,
   "metadata": {},
   "outputs": [],
   "source": [
    "def normalize_data(data):\n",
    "\t# split into standard weeks\n",
    "\tscaler = MinMaxScaler(feature_range=(0, 1))\n",
    "\tdata = scaler.fit_transform(data)\n",
    "\ttrain = data # in total 495 rows (99 weeks)\n",
    "\t# restructure into windows of weekly data\n",
    "\ttrain = array(split(train, len(train)/5))\n",
    "\treturn train, scaler"
   ]
  },
  {
   "cell_type": "code",
   "execution_count": 5,
   "metadata": {},
   "outputs": [],
   "source": [
    "# evaluate one or more weekly forecasts against expected values\n",
    "def evaluate_forecasts(actual, predicted):\n",
    "\tscores = list()\n",
    "\t# calculate an RMSE score for each day\n",
    "\tfor i in range(actual.shape[1]):\n",
    "\t\t# calculate mse\n",
    "\t\tmse = mean_squared_error(actual[:, i], predicted[:, i])\n",
    "\t\t# calculate rmse\n",
    "\t\trmse = sqrt(mse)\n",
    "\t\t# store\n",
    "\t\tscores.append(rmse)\n",
    "\t# calculate overall RMSE\n",
    "\ts = 0\n",
    "\tfor row in range(actual.shape[0]):\n",
    "\t\tfor col in range(actual.shape[1]):\n",
    "\t\t\ts += (actual[row, col] - predicted[row, col])**2\n",
    "\tscore = sqrt(s / (actual.shape[0] * actual.shape[1]))\n",
    "\treturn score, scores"
   ]
  },
  {
   "cell_type": "code",
   "execution_count": 6,
   "metadata": {},
   "outputs": [],
   "source": [
    "# summarize scores\n",
    "def summarize_scores(name, score, scores):\n",
    "\ts_scores = ', '.join(['%.1f' % s for s in scores])\n",
    "\tprint('%s: [%.3f] %s' % (name, score, s_scores))"
   ]
  },
  {
   "cell_type": "code",
   "execution_count": 7,
   "metadata": {},
   "outputs": [],
   "source": [
    "# convert history into inputs and outputs\n",
    "def to_supervised(train, n_input, n_out=5):\n",
    "\t# flatten data\n",
    "\tdata = train.reshape((train.shape[0]*train.shape[1], train.shape[2])) # data here is training data\n",
    "\tX, y = list(), list()\n",
    "\tin_start = 0\n",
    "\t# step over the entire history one time step at a time\n",
    "\tfor _ in range(len(data)): # 97 when test = 2 weeks\n",
    "\t\t# define the end of the input sequence\n",
    "\t\tin_end = in_start + n_input\n",
    "\t\tout_end = in_end + n_out\n",
    "\t\t# ensure we have enough data for this instance\n",
    "\t\tif out_end <= len(data):\n",
    "\t\t\tX.append(data[in_start:in_end, :]) # 用 前n_input 周的X和Y variables\n",
    "\t\t\ty.append(data[in_end:out_end, 0]) # 来预测 后n_out 周的 Y\n",
    "\t\t# move along one time step\n",
    "\t\tin_start += 1\n",
    "\treturn array(X), array(y)"
   ]
  },
  {
   "cell_type": "code",
   "execution_count": 8,
   "metadata": {},
   "outputs": [],
   "source": [
    "# train the model\n",
    "def build_model(train, n_input):\n",
    "\t# prepare data\n",
    "\ttrain_x, train_y = to_supervised(train, n_input)\n",
    "\t# define parameters\n",
    "\tverbose, epochs, batch_size = 1, 200, 30\n",
    "\tn_timesteps, n_features, n_outputs = train_x.shape[1], train_x.shape[2], train_y.shape[1]\n",
    "\t# reshape output into [samples, timesteps, features]\n",
    "\ttrain_y = train_y.reshape((train_y.shape[0], train_y.shape[1], 1))\n",
    "\t# define model\n",
    "\tmodel = Sequential()\n",
    "\tmodel.add(LSTM(300, activation='relu', input_shape=(n_timesteps, n_features)))\n",
    "\tmodel.add(RepeatVector(n_outputs))\n",
    "\tmodel.add(LSTM(300, activation='relu', return_sequences=True))\n",
    "\tmodel.add(TimeDistributed(Dense(100, activation='relu')))\n",
    "\tmodel.add(TimeDistributed(Dense(1)))\n",
    "\tmodel.compile(loss='mae', optimizer='adam')\n",
    "\t###### another model\n",
    "\t#model = Sequential()\n",
    "\t#model.add(LSTM(100, activation='relu', input_shape=(n_timesteps, n_features)))\n",
    "\t#model.add(RepeatVector(n_outputs))\n",
    "\t#model.add(LSTM(100, activation='relu', return_sequences=True))\n",
    "\t#model.add(TimeDistributed(Dense(1)))\n",
    "\t#model.compile(optimizer='adam', loss='mse')\n",
    "\t# fit network\n",
    "\tmodel.fit(train_x, train_y, epochs=epochs, batch_size=batch_size, callbacks=[EarlyStopping(monitor='val_loss', patience=10)], verbose=verbose)\n",
    "\treturn model, train_x, train_y"
   ]
  },
  {
   "cell_type": "code",
   "execution_count": 9,
   "metadata": {},
   "outputs": [],
   "source": [
    "# make a forecast\n",
    "def forecast(model, history, n_input):\n",
    "\t# flatten data\n",
    "\tdata = array(history)\n",
    "\tdata = data.reshape((data.shape[0]*data.shape[1], data.shape[2]))\n",
    "\t# retrieve last observations for input data\n",
    "\tinput_x = data[-n_input:, :]\n",
    "\t# reshape into [1, n_input, n]\n",
    "\tinput_x = input_x.reshape((1, input_x.shape[0], input_x.shape[1]))\n",
    "\t# forecast the next week\n",
    "\tyhat = model.predict(input_x, verbose=0)\n",
    "\t# we only want the vector forecast\n",
    "\t# invert predictions\n",
    "\ttemp_a, temp_b, scaler = split_dataset(dataset.values)\n",
    "\tyhat_df = pd.DataFrame(yhat[0])\n",
    "\tinput_df = pd.DataFrame(input_x[0])\n",
    "\ttransformed = pd.concat([yhat_df, input_df.iloc[:,1:]],axis = 1)\n",
    "\ttransformed_all = scaler.inverse_transform(transformed)\n",
    "\tyhat_inversed = transformed_all[:,0]\n",
    "\treturn yhat_inversed, input_x"
   ]
  },
  {
   "cell_type": "code",
   "execution_count": 10,
   "metadata": {},
   "outputs": [],
   "source": [
    "# evaluate a single model\n",
    "def evaluate_model(train, test, n_input):\n",
    "\t# fit model\n",
    "\tmodel, train_x, train_y = build_model(train, n_input)\n",
    "\t# history is a list of weekly data\n",
    "\thistory = [x for x in train]\n",
    "\t# walk-forward validation over each week\n",
    "\tpredictions = list()\n",
    "\tfor i in range(len(test)):\n",
    "\t\t# predict the week\n",
    "\t\tyhat_sequence, input_x = forecast(model, history, n_input)\n",
    "\t\t# store the predictions\n",
    "\t\tpredictions.append(yhat_sequence)\n",
    "\t\t# get real observation and add to history for predicting the next week\n",
    "\t\thistory.append(test[i, :])\n",
    "\t# evaluate predictions days for each week\n",
    "\tpredictions = array(predictions)\n",
    "\tscore, scores = evaluate_forecasts(test[:, :, 0], predictions)\n",
    "\treturn score, scores, predictions, history, train_x, train_y, input_x"
   ]
  },
  {
   "cell_type": "code",
   "execution_count": 35,
   "metadata": {},
   "outputs": [],
   "source": [
    "# load the new file\n",
    "dataset = read_csv('/Users/kexinliang/Desktop/Competition/new_weather/final/3contrat.csv', infer_datetime_format=True, index_col=['Time'])"
   ]
  },
  {
   "cell_type": "code",
   "execution_count": 108,
   "metadata": {},
   "outputs": [],
   "source": [
    "# split into train and test\n",
    "train, test, useless = split_dataset(dataset.values)"
   ]
  },
  {
   "cell_type": "code",
   "execution_count": 109,
   "metadata": {},
   "outputs": [
    {
     "data": {
      "text/plain": [
       "(495, 11)"
      ]
     },
     "execution_count": 109,
     "metadata": {},
     "output_type": "execute_result"
    }
   ],
   "source": [
    "dataset.shape"
   ]
  },
  {
   "cell_type": "code",
   "execution_count": 110,
   "metadata": {},
   "outputs": [
    {
     "data": {
      "text/plain": [
       "(89, 5, 11)"
      ]
     },
     "execution_count": 110,
     "metadata": {},
     "output_type": "execute_result"
    }
   ],
   "source": [
    "train.shape # 97 weeks, 97*5 days"
   ]
  },
  {
   "cell_type": "code",
   "execution_count": 111,
   "metadata": {},
   "outputs": [
    {
     "data": {
      "text/plain": [
       "(10, 5, 11)"
      ]
     },
     "execution_count": 111,
     "metadata": {},
     "output_type": "execute_result"
    }
   ],
   "source": [
    "test.shape # 2 weeks, 10 days"
   ]
  },
  {
   "cell_type": "code",
   "execution_count": 112,
   "metadata": {},
   "outputs": [
    {
     "name": "stdout",
     "output_type": "stream",
     "text": [
      "Epoch 1/200\n",
      "431/431 [==============================] - 1s 3ms/step - loss: 0.3275\n",
      "Epoch 2/200\n",
      " 90/431 [=====>........................] - ETA: 0s - loss: 0.1596"
     ]
    },
    {
     "name": "stderr",
     "output_type": "stream",
     "text": [
      "/Users/kexinliang/anaconda3/lib/python3.7/site-packages/keras/callbacks/callbacks.py:846: RuntimeWarning: Early stopping conditioned on metric `val_loss` which is not available. Available metrics are: loss\n",
      "  (self.monitor, ','.join(list(logs.keys()))), RuntimeWarning\n"
     ]
    },
    {
     "name": "stdout",
     "output_type": "stream",
     "text": [
      "431/431 [==============================] - 1s 2ms/step - loss: 0.1342\n",
      "Epoch 3/200\n",
      "431/431 [==============================] - 1s 2ms/step - loss: 0.0886\n",
      "Epoch 4/200\n",
      "431/431 [==============================] - 1s 2ms/step - loss: 0.0745\n",
      "Epoch 5/200\n",
      "431/431 [==============================] - 1s 2ms/step - loss: 0.0747\n",
      "Epoch 6/200\n",
      "431/431 [==============================] - 1s 2ms/step - loss: 0.0719\n",
      "Epoch 7/200\n",
      "431/431 [==============================] - 1s 2ms/step - loss: 0.0688\n",
      "Epoch 8/200\n",
      "431/431 [==============================] - 1s 2ms/step - loss: 0.0691\n",
      "Epoch 9/200\n",
      "431/431 [==============================] - 1s 2ms/step - loss: 0.0603\n",
      "Epoch 10/200\n",
      "431/431 [==============================] - 1s 2ms/step - loss: 0.0612\n",
      "Epoch 11/200\n",
      "431/431 [==============================] - 1s 2ms/step - loss: 0.0599\n",
      "Epoch 12/200\n",
      "431/431 [==============================] - 1s 2ms/step - loss: 0.0551\n",
      "Epoch 13/200\n",
      "431/431 [==============================] - 1s 2ms/step - loss: 0.0520\n",
      "Epoch 14/200\n",
      "431/431 [==============================] - 1s 2ms/step - loss: 0.0568\n",
      "Epoch 15/200\n",
      "431/431 [==============================] - 1s 2ms/step - loss: 0.0580\n",
      "Epoch 16/200\n",
      "431/431 [==============================] - 1s 2ms/step - loss: 0.0591\n",
      "Epoch 17/200\n",
      "431/431 [==============================] - 1s 2ms/step - loss: 0.0609\n",
      "Epoch 18/200\n",
      "431/431 [==============================] - 1s 2ms/step - loss: 0.0505\n",
      "Epoch 19/200\n",
      "431/431 [==============================] - 1s 2ms/step - loss: 0.0485\n",
      "Epoch 20/200\n",
      "431/431 [==============================] - 1s 2ms/step - loss: 0.0465\n",
      "Epoch 21/200\n",
      "431/431 [==============================] - 1s 2ms/step - loss: 0.0472\n",
      "Epoch 22/200\n",
      "431/431 [==============================] - 1s 2ms/step - loss: 0.0494\n",
      "Epoch 23/200\n",
      "431/431 [==============================] - 1s 2ms/step - loss: 0.0510\n",
      "Epoch 24/200\n",
      "431/431 [==============================] - 1s 2ms/step - loss: 0.0492\n",
      "Epoch 25/200\n",
      "431/431 [==============================] - 1s 2ms/step - loss: 0.0470\n",
      "Epoch 26/200\n",
      "431/431 [==============================] - 1s 2ms/step - loss: 0.0432\n",
      "Epoch 27/200\n",
      "431/431 [==============================] - 1s 2ms/step - loss: 0.0425\n",
      "Epoch 28/200\n",
      "431/431 [==============================] - 1s 2ms/step - loss: 0.0450\n",
      "Epoch 29/200\n",
      "431/431 [==============================] - 1s 2ms/step - loss: 0.0472\n",
      "Epoch 30/200\n",
      "431/431 [==============================] - 1s 2ms/step - loss: 0.0447\n",
      "Epoch 31/200\n",
      "431/431 [==============================] - 1s 2ms/step - loss: 0.0413\n",
      "Epoch 32/200\n",
      "431/431 [==============================] - 1s 2ms/step - loss: 0.0406\n",
      "Epoch 33/200\n",
      "431/431 [==============================] - 1s 2ms/step - loss: 0.0414\n",
      "Epoch 34/200\n",
      "431/431 [==============================] - 1s 2ms/step - loss: 0.0403\n",
      "Epoch 35/200\n",
      "431/431 [==============================] - 1s 2ms/step - loss: 0.0409\n",
      "Epoch 36/200\n",
      "431/431 [==============================] - 1s 2ms/step - loss: 0.0435\n",
      "Epoch 37/200\n",
      "431/431 [==============================] - 1s 2ms/step - loss: 0.0403\n",
      "Epoch 38/200\n",
      "431/431 [==============================] - 1s 2ms/step - loss: 0.0420\n",
      "Epoch 39/200\n",
      "431/431 [==============================] - 1s 2ms/step - loss: 0.0422\n",
      "Epoch 40/200\n",
      "431/431 [==============================] - 1s 2ms/step - loss: 0.0414\n",
      "Epoch 41/200\n",
      "431/431 [==============================] - 1s 2ms/step - loss: 0.0406\n",
      "Epoch 42/200\n",
      "431/431 [==============================] - 1s 2ms/step - loss: 0.0391\n",
      "Epoch 43/200\n",
      "431/431 [==============================] - 1s 2ms/step - loss: 0.0394\n",
      "Epoch 44/200\n",
      "431/431 [==============================] - 1s 2ms/step - loss: 0.0375\n",
      "Epoch 45/200\n",
      "431/431 [==============================] - 1s 2ms/step - loss: 0.0355\n",
      "Epoch 46/200\n",
      "431/431 [==============================] - 1s 2ms/step - loss: 0.0355\n",
      "Epoch 47/200\n",
      "431/431 [==============================] - 1s 2ms/step - loss: 0.0367\n",
      "Epoch 48/200\n",
      "431/431 [==============================] - 1s 2ms/step - loss: 0.0399\n",
      "Epoch 49/200\n",
      "431/431 [==============================] - 1s 2ms/step - loss: 0.0379\n",
      "Epoch 50/200\n",
      "431/431 [==============================] - 1s 2ms/step - loss: 0.0361\n",
      "Epoch 51/200\n",
      "431/431 [==============================] - 1s 2ms/step - loss: 0.0369\n",
      "Epoch 52/200\n",
      "431/431 [==============================] - 1s 2ms/step - loss: 0.0368\n",
      "Epoch 53/200\n",
      "431/431 [==============================] - 1s 2ms/step - loss: 0.0416\n",
      "Epoch 54/200\n",
      "431/431 [==============================] - 1s 2ms/step - loss: 0.0393\n",
      "Epoch 55/200\n",
      "431/431 [==============================] - 1s 2ms/step - loss: 0.0361\n",
      "Epoch 56/200\n",
      "431/431 [==============================] - 1s 2ms/step - loss: 0.0361\n",
      "Epoch 57/200\n",
      "431/431 [==============================] - 1s 2ms/step - loss: 0.0363\n",
      "Epoch 58/200\n",
      "431/431 [==============================] - 1s 2ms/step - loss: 0.0368\n",
      "Epoch 59/200\n",
      "431/431 [==============================] - 1s 2ms/step - loss: 0.0361\n",
      "Epoch 60/200\n",
      "431/431 [==============================] - 1s 2ms/step - loss: 0.0334\n",
      "Epoch 61/200\n",
      "431/431 [==============================] - 1s 2ms/step - loss: 0.0338\n",
      "Epoch 62/200\n",
      "431/431 [==============================] - 1s 2ms/step - loss: 0.0359\n",
      "Epoch 63/200\n",
      "431/431 [==============================] - 1s 2ms/step - loss: 0.0381\n",
      "Epoch 64/200\n",
      "431/431 [==============================] - 1s 2ms/step - loss: 0.0356\n",
      "Epoch 65/200\n",
      "431/431 [==============================] - 1s 2ms/step - loss: 0.0332\n",
      "Epoch 66/200\n",
      "431/431 [==============================] - 1s 2ms/step - loss: 0.0313\n",
      "Epoch 67/200\n",
      "431/431 [==============================] - 1s 2ms/step - loss: 0.0315\n",
      "Epoch 68/200\n",
      "431/431 [==============================] - 1s 2ms/step - loss: 0.0317\n",
      "Epoch 69/200\n",
      "431/431 [==============================] - 1s 2ms/step - loss: 0.0317\n",
      "Epoch 70/200\n",
      "431/431 [==============================] - 1s 2ms/step - loss: 0.0326\n",
      "Epoch 71/200\n",
      "431/431 [==============================] - 1s 2ms/step - loss: 0.0327\n",
      "Epoch 72/200\n",
      "431/431 [==============================] - 1s 2ms/step - loss: 0.0313\n",
      "Epoch 73/200\n",
      "431/431 [==============================] - 1s 2ms/step - loss: 0.0306\n",
      "Epoch 74/200\n",
      "431/431 [==============================] - 1s 2ms/step - loss: 0.0318\n",
      "Epoch 75/200\n",
      "431/431 [==============================] - 1s 2ms/step - loss: 0.0312\n",
      "Epoch 76/200\n",
      "431/431 [==============================] - 1s 2ms/step - loss: 0.0333\n",
      "Epoch 77/200\n",
      "431/431 [==============================] - 1s 2ms/step - loss: 0.0339\n",
      "Epoch 78/200\n",
      "431/431 [==============================] - 1s 2ms/step - loss: 0.0313\n",
      "Epoch 79/200\n",
      "431/431 [==============================] - 1s 2ms/step - loss: 0.0298\n",
      "Epoch 80/200\n",
      "431/431 [==============================] - 1s 2ms/step - loss: 0.0308\n",
      "Epoch 81/200\n",
      "431/431 [==============================] - 1s 2ms/step - loss: 0.0325\n",
      "Epoch 82/200\n",
      "431/431 [==============================] - 1s 2ms/step - loss: 0.0319\n",
      "Epoch 83/200\n",
      "431/431 [==============================] - 1s 2ms/step - loss: 0.0356\n",
      "Epoch 84/200\n",
      "431/431 [==============================] - 1s 2ms/step - loss: 0.0318\n",
      "Epoch 85/200\n",
      "431/431 [==============================] - 1s 2ms/step - loss: 0.0312\n",
      "Epoch 86/200\n",
      "431/431 [==============================] - 1s 2ms/step - loss: 0.0328\n",
      "Epoch 87/200\n",
      "431/431 [==============================] - 1s 2ms/step - loss: 0.0312\n",
      "Epoch 88/200\n",
      "431/431 [==============================] - 1s 2ms/step - loss: 0.0303\n",
      "Epoch 89/200\n",
      "431/431 [==============================] - 1s 2ms/step - loss: 0.0322\n",
      "Epoch 90/200\n",
      "431/431 [==============================] - 1s 2ms/step - loss: 0.0331\n",
      "Epoch 91/200\n",
      "431/431 [==============================] - 1s 2ms/step - loss: 0.0300\n",
      "Epoch 92/200\n",
      "431/431 [==============================] - 1s 2ms/step - loss: 0.0286\n",
      "Epoch 93/200\n",
      "431/431 [==============================] - 1s 2ms/step - loss: 0.0291\n",
      "Epoch 94/200\n",
      "431/431 [==============================] - 1s 2ms/step - loss: 0.0291\n",
      "Epoch 95/200\n",
      "431/431 [==============================] - 1s 2ms/step - loss: 0.0296\n",
      "Epoch 96/200\n",
      "431/431 [==============================] - 1s 2ms/step - loss: 0.0292\n",
      "Epoch 97/200\n",
      "431/431 [==============================] - 1s 2ms/step - loss: 0.0275\n",
      "Epoch 98/200\n",
      "431/431 [==============================] - 1s 2ms/step - loss: 0.0291\n",
      "Epoch 99/200\n",
      "431/431 [==============================] - 1s 2ms/step - loss: 0.0284\n",
      "Epoch 100/200\n",
      "431/431 [==============================] - 1s 2ms/step - loss: 0.0275\n",
      "Epoch 101/200\n",
      "431/431 [==============================] - 1s 2ms/step - loss: 0.0283\n",
      "Epoch 102/200\n",
      "431/431 [==============================] - 1s 2ms/step - loss: 0.0268\n",
      "Epoch 103/200\n",
      "431/431 [==============================] - 1s 2ms/step - loss: 0.0285\n",
      "Epoch 104/200\n",
      "431/431 [==============================] - 1s 2ms/step - loss: 0.0291\n",
      "Epoch 105/200\n",
      "431/431 [==============================] - 1s 2ms/step - loss: 0.0300\n",
      "Epoch 106/200\n",
      "431/431 [==============================] - 1s 2ms/step - loss: 0.0285\n",
      "Epoch 107/200\n",
      "431/431 [==============================] - 1s 2ms/step - loss: 0.0285\n",
      "Epoch 108/200\n",
      "431/431 [==============================] - 1s 2ms/step - loss: 0.0280\n",
      "Epoch 109/200\n",
      "431/431 [==============================] - 1s 2ms/step - loss: 0.0276\n",
      "Epoch 110/200\n",
      "431/431 [==============================] - 1s 2ms/step - loss: 0.0267\n",
      "Epoch 111/200\n",
      "431/431 [==============================] - 1s 2ms/step - loss: 0.0261\n",
      "Epoch 112/200\n",
      "431/431 [==============================] - 1s 2ms/step - loss: 0.0265\n",
      "Epoch 113/200\n",
      "431/431 [==============================] - 1s 2ms/step - loss: 0.0252\n",
      "Epoch 114/200\n",
      "431/431 [==============================] - 1s 2ms/step - loss: 0.0257A: 0s - loss: 0.\n",
      "Epoch 115/200\n",
      "431/431 [==============================] - 1s 2ms/step - loss: 0.0267\n",
      "Epoch 116/200\n",
      "431/431 [==============================] - 1s 2ms/step - loss: 0.0263\n",
      "Epoch 117/200\n",
      "431/431 [==============================] - 1s 2ms/step - loss: 0.0262\n",
      "Epoch 118/200\n",
      "431/431 [==============================] - 1s 2ms/step - loss: 0.0256\n",
      "Epoch 119/200\n",
      "431/431 [==============================] - 1s 2ms/step - loss: 0.0253\n",
      "Epoch 120/200\n",
      "431/431 [==============================] - 1s 2ms/step - loss: 0.0249\n",
      "Epoch 121/200\n",
      "431/431 [==============================] - 1s 2ms/step - loss: 0.0254\n",
      "Epoch 122/200\n",
      "431/431 [==============================] - 1s 2ms/step - loss: 0.0244\n",
      "Epoch 123/200\n",
      "431/431 [==============================] - 1s 2ms/step - loss: 0.0266\n",
      "Epoch 124/200\n",
      "431/431 [==============================] - 1s 2ms/step - loss: 0.0253\n",
      "Epoch 125/200\n",
      "431/431 [==============================] - 1s 2ms/step - loss: 0.0251\n",
      "Epoch 126/200\n",
      "431/431 [==============================] - 1s 2ms/step - loss: 0.0260\n",
      "Epoch 127/200\n",
      "431/431 [==============================] - 1s 2ms/step - loss: 0.0247\n",
      "Epoch 128/200\n",
      "431/431 [==============================] - 1s 2ms/step - loss: 0.0247\n",
      "Epoch 129/200\n",
      "431/431 [==============================] - 1s 2ms/step - loss: 0.0247\n",
      "Epoch 130/200\n",
      "431/431 [==============================] - 1s 2ms/step - loss: 0.0239\n",
      "Epoch 131/200\n",
      "431/431 [==============================] - 1s 2ms/step - loss: 0.0240\n",
      "Epoch 132/200\n",
      "431/431 [==============================] - 1s 2ms/step - loss: 0.0247\n",
      "Epoch 133/200\n",
      "431/431 [==============================] - 1s 2ms/step - loss: 0.0241\n",
      "Epoch 134/200\n",
      "431/431 [==============================] - 1s 2ms/step - loss: 0.0244\n",
      "Epoch 135/200\n",
      "431/431 [==============================] - 1s 2ms/step - loss: 0.0241\n",
      "Epoch 136/200\n",
      "431/431 [==============================] - 1s 2ms/step - loss: 0.0261\n",
      "Epoch 137/200\n",
      "431/431 [==============================] - 1s 2ms/step - loss: 0.0242\n",
      "Epoch 138/200\n",
      "431/431 [==============================] - 1s 2ms/step - loss: 0.0236\n",
      "Epoch 139/200\n",
      "431/431 [==============================] - 1s 2ms/step - loss: 0.0247\n",
      "Epoch 140/200\n",
      "431/431 [==============================] - 1s 2ms/step - loss: 0.0250\n",
      "Epoch 141/200\n",
      "431/431 [==============================] - 1s 2ms/step - loss: 0.0242\n",
      "Epoch 142/200\n",
      "431/431 [==============================] - 1s 2ms/step - loss: 0.0241\n",
      "Epoch 143/200\n",
      "431/431 [==============================] - 1s 2ms/step - loss: 0.0259\n",
      "Epoch 144/200\n",
      "431/431 [==============================] - 1s 2ms/step - loss: 0.0263\n",
      "Epoch 145/200\n",
      "431/431 [==============================] - 1s 2ms/step - loss: 0.0255\n",
      "Epoch 146/200\n",
      "431/431 [==============================] - 1s 2ms/step - loss: 0.0238\n",
      "Epoch 147/200\n",
      "431/431 [==============================] - 1s 2ms/step - loss: 0.0240\n",
      "Epoch 148/200\n",
      "431/431 [==============================] - 1s 2ms/step - loss: 0.0245\n",
      "Epoch 149/200\n",
      "431/431 [==============================] - 1s 2ms/step - loss: 0.0254\n",
      "Epoch 150/200\n",
      "431/431 [==============================] - 1s 2ms/step - loss: 0.0240\n",
      "Epoch 151/200\n",
      "431/431 [==============================] - 1s 2ms/step - loss: 0.0244\n",
      "Epoch 152/200\n",
      "431/431 [==============================] - 1s 2ms/step - loss: 0.0244\n",
      "Epoch 153/200\n",
      "431/431 [==============================] - 1s 2ms/step - loss: 0.0250\n",
      "Epoch 154/200\n",
      "431/431 [==============================] - 1s 2ms/step - loss: 0.0248\n",
      "Epoch 155/200\n",
      "431/431 [==============================] - 1s 2ms/step - loss: 0.0249\n",
      "Epoch 156/200\n",
      "431/431 [==============================] - 1s 2ms/step - loss: 0.0227\n",
      "Epoch 157/200\n",
      "431/431 [==============================] - 1s 2ms/step - loss: 0.0243\n",
      "Epoch 158/200\n",
      "431/431 [==============================] - 1s 2ms/step - loss: 0.0240\n",
      "Epoch 159/200\n",
      "431/431 [==============================] - 1s 2ms/step - loss: 0.0229\n",
      "Epoch 160/200\n",
      "431/431 [==============================] - 1s 2ms/step - loss: 0.0237\n",
      "Epoch 161/200\n",
      "431/431 [==============================] - 1s 2ms/step - loss: 0.0226\n",
      "Epoch 162/200\n",
      "431/431 [==============================] - 1s 2ms/step - loss: 0.0224\n",
      "Epoch 163/200\n",
      "431/431 [==============================] - 1s 2ms/step - loss: 0.0224\n",
      "Epoch 164/200\n",
      "431/431 [==============================] - 1s 2ms/step - loss: 0.0217\n",
      "Epoch 165/200\n",
      "431/431 [==============================] - 1s 2ms/step - loss: 0.0216\n",
      "Epoch 166/200\n",
      "431/431 [==============================] - 1s 2ms/step - loss: 0.0220\n",
      "Epoch 167/200\n",
      "431/431 [==============================] - 1s 2ms/step - loss: 0.0235\n",
      "Epoch 168/200\n",
      "431/431 [==============================] - 1s 2ms/step - loss: 0.0252\n",
      "Epoch 169/200\n",
      "431/431 [==============================] - 1s 2ms/step - loss: 0.0231\n",
      "Epoch 170/200\n",
      "431/431 [==============================] - 1s 2ms/step - loss: 0.0259\n",
      "Epoch 171/200\n",
      "431/431 [==============================] - 1s 2ms/step - loss: 0.0244\n",
      "Epoch 172/200\n",
      "431/431 [==============================] - 1s 2ms/step - loss: 0.0231\n",
      "Epoch 173/200\n",
      "431/431 [==============================] - 1s 2ms/step - loss: 0.0222\n",
      "Epoch 174/200\n",
      "431/431 [==============================] - 1s 2ms/step - loss: 0.0228\n",
      "Epoch 175/200\n",
      "431/431 [==============================] - 1s 2ms/step - loss: 0.0227\n",
      "Epoch 176/200\n",
      "431/431 [==============================] - 1s 2ms/step - loss: 0.0232\n",
      "Epoch 177/200\n",
      "431/431 [==============================] - 1s 2ms/step - loss: 0.0227\n",
      "Epoch 178/200\n",
      "431/431 [==============================] - 1s 2ms/step - loss: 0.0221\n",
      "Epoch 179/200\n",
      "431/431 [==============================] - 1s 2ms/step - loss: 0.0218\n",
      "Epoch 180/200\n",
      "431/431 [==============================] - 1s 2ms/step - loss: 0.0212\n",
      "Epoch 181/200\n",
      "431/431 [==============================] - 1s 2ms/step - loss: 0.0220\n",
      "Epoch 182/200\n",
      "431/431 [==============================] - 1s 2ms/step - loss: 0.0230\n",
      "Epoch 183/200\n",
      "431/431 [==============================] - 1s 2ms/step - loss: 0.0225\n",
      "Epoch 184/200\n",
      "431/431 [==============================] - 1s 2ms/step - loss: 0.0220\n",
      "Epoch 185/200\n",
      "431/431 [==============================] - 1s 2ms/step - loss: 0.0229\n",
      "Epoch 186/200\n",
      "431/431 [==============================] - 1s 2ms/step - loss: 0.0243\n",
      "Epoch 187/200\n",
      "431/431 [==============================] - 1s 2ms/step - loss: 0.0239\n",
      "Epoch 188/200\n",
      "431/431 [==============================] - 1s 2ms/step - loss: 0.0218\n",
      "Epoch 189/200\n",
      "431/431 [==============================] - 1s 2ms/step - loss: 0.0227\n",
      "Epoch 190/200\n",
      "431/431 [==============================] - 1s 2ms/step - loss: 0.0220\n",
      "Epoch 191/200\n",
      "431/431 [==============================] - 1s 2ms/step - loss: 0.0215\n",
      "Epoch 192/200\n",
      "431/431 [==============================] - 1s 2ms/step - loss: 0.0222\n",
      "Epoch 193/200\n",
      "431/431 [==============================] - 1s 2ms/step - loss: 0.0221\n",
      "Epoch 194/200\n",
      "431/431 [==============================] - 1s 2ms/step - loss: 0.0213\n",
      "Epoch 195/200\n",
      "431/431 [==============================] - 1s 2ms/step - loss: 0.0209\n",
      "Epoch 196/200\n",
      "431/431 [==============================] - 1s 2ms/step - loss: 0.0205\n",
      "Epoch 197/200\n",
      "431/431 [==============================] - 1s 2ms/step - loss: 0.0216\n",
      "Epoch 198/200\n",
      "431/431 [==============================] - 1s 2ms/step - loss: 0.0228\n",
      "Epoch 199/200\n",
      "431/431 [==============================] - 1s 2ms/step - loss: 0.0231\n",
      "Epoch 200/200\n",
      "431/431 [==============================] - 1s 2ms/step - loss: 0.0223\n"
     ]
    }
   ],
   "source": [
    "# evaluate model and get scores\n",
    "n_input = 10\n",
    "score, scores, predictions, history, train_x, train_y, input_x = evaluate_model(train, test, n_input)"
   ]
  },
  {
   "cell_type": "code",
   "execution_count": 41,
   "metadata": {},
   "outputs": [
    {
     "name": "stdout",
     "output_type": "stream",
     "text": [
      "Epoch 1/10\n",
      "481/481 [==============================] - 1s 3ms/step - loss: 0.2893\n",
      "Epoch 2/10\n",
      " 90/481 [====>.........................] - ETA: 0s - loss: 0.1491"
     ]
    },
    {
     "name": "stderr",
     "output_type": "stream",
     "text": [
      "/Users/kexinliang/anaconda3/lib/python3.7/site-packages/keras/callbacks/callbacks.py:846: RuntimeWarning: Early stopping conditioned on metric `val_loss` which is not available. Available metrics are: loss\n",
      "  (self.monitor, ','.join(list(logs.keys()))), RuntimeWarning\n"
     ]
    },
    {
     "name": "stdout",
     "output_type": "stream",
     "text": [
      "481/481 [==============================] - 1s 2ms/step - loss: 0.1167\n",
      "Epoch 3/10\n",
      "481/481 [==============================] - 1s 2ms/step - loss: 0.1346\n",
      "Epoch 4/10\n",
      "481/481 [==============================] - 1s 2ms/step - loss: 0.0904\n",
      "Epoch 5/10\n",
      "481/481 [==============================] - 1s 2ms/step - loss: 0.0737\n",
      "Epoch 6/10\n",
      "481/481 [==============================] - 1s 2ms/step - loss: 0.0740\n",
      "Epoch 7/10\n",
      "481/481 [==============================] - 1s 2ms/step - loss: 0.0725\n",
      "Epoch 8/10\n",
      "481/481 [==============================] - 1s 2ms/step - loss: 0.0751\n",
      "Epoch 9/10\n",
      "481/481 [==============================] - 1s 2ms/step - loss: 0.0705\n",
      "Epoch 10/10\n",
      "481/481 [==============================] - 1s 2ms/step - loss: 0.0648\n"
     ]
    }
   ],
   "source": [
    "##### forecast\n",
    "n_input = 10\n",
    "train, scaler = normalize_data(dataset)\n",
    "model, train_x, train_y = build_model(train, n_input)"
   ]
  },
  {
   "cell_type": "code",
   "execution_count": 613,
   "metadata": {},
   "outputs": [],
   "source": [
    "###### forecast\n",
    "history = [x for x in train]\n",
    "temp_yhat = forecast(model, history, n_input)"
   ]
  },
  {
   "cell_type": "code",
   "execution_count": 614,
   "metadata": {},
   "outputs": [
    {
     "data": {
      "text/plain": [
       "array([969.2165333 , 969.6918093 , 969.73878059, 969.77543044,\n",
       "       970.05525513,          nan,          nan,          nan,\n",
       "                nan,          nan])"
      ]
     },
     "execution_count": 614,
     "metadata": {},
     "output_type": "execute_result"
    }
   ],
   "source": [
    "temp_yhat"
   ]
  },
  {
   "cell_type": "code",
   "execution_count": 310,
   "metadata": {},
   "outputs": [],
   "source": [
    "#temp_yhat = pd.DataFrame(temp_yhat[0])\n",
    "#temp_yhat\n",
    "956.66081563, 962.33585468, 961.76664117,  959.72347155, 957.34300163"
   ]
  },
  {
   "cell_type": "code",
   "execution_count": 311,
   "metadata": {},
   "outputs": [],
   "source": [
    "#temp_input[0]"
   ]
  },
  {
   "cell_type": "code",
   "execution_count": 312,
   "metadata": {},
   "outputs": [],
   "source": [
    "#temp_input_df = pd.DataFrame(temp_input[0])\n",
    "#temp_input_df.iloc[:,1:]\n",
    "#transformed = pd.concat([temp_yhat, temp_input_df],axis = 1)\n",
    "#transformed.values"
   ]
  },
  {
   "cell_type": "code",
   "execution_count": 52,
   "metadata": {},
   "outputs": [
    {
     "name": "stdout",
     "output_type": "stream",
     "text": [
      "99\n",
      "5\n"
     ]
    }
   ],
   "source": [
    "print(len(history))\n",
    "print(len(history[0]))"
   ]
  },
  {
   "cell_type": "code",
   "execution_count": 57,
   "metadata": {},
   "outputs": [
    {
     "data": {
      "text/plain": [
       "(1, 5, 12)"
      ]
     },
     "execution_count": 57,
     "metadata": {},
     "output_type": "execute_result"
    }
   ],
   "source": [
    "input_x.shape"
   ]
  },
  {
   "cell_type": "code",
   "execution_count": 53,
   "metadata": {},
   "outputs": [
    {
     "data": {
      "text/plain": [
       "(476, 5, 12)"
      ]
     },
     "execution_count": 53,
     "metadata": {},
     "output_type": "execute_result"
    }
   ],
   "source": [
    "train_x.shape"
   ]
  },
  {
   "cell_type": "code",
   "execution_count": 54,
   "metadata": {},
   "outputs": [
    {
     "data": {
      "text/plain": [
       "(476, 5, 1)"
      ]
     },
     "execution_count": 54,
     "metadata": {},
     "output_type": "execute_result"
    }
   ],
   "source": [
    "train_y.shape"
   ]
  },
  {
   "cell_type": "code",
   "execution_count": 55,
   "metadata": {},
   "outputs": [
    {
     "data": {
      "text/plain": [
       "array([[964.22325762, 966.87172119, 965.9349632 , 965.5289458 ,\n",
       "        965.31258047],\n",
       "       [965.39182812, 968.02710125, 967.09783067, 966.66671818,\n",
       "        966.48333772]])"
      ]
     },
     "execution_count": 55,
     "metadata": {},
     "output_type": "execute_result"
    }
   ],
   "source": [
    "predictions"
   ]
  },
  {
   "cell_type": "code",
   "execution_count": 70,
   "metadata": {},
   "outputs": [
    {
     "name": "stdout",
     "output_type": "stream",
     "text": [
      "lstm: [923.606] 923.5, 924.3, 923.9, 923.4, 922.9\n"
     ]
    }
   ],
   "source": [
    "# summarize scores\n",
    "summarize_scores('lstm', score, scores) # last time 913, 961-"
   ]
  },
  {
   "cell_type": "code",
   "execution_count": 71,
   "metadata": {},
   "outputs": [
    {
     "data": {
      "image/png": "[encoded data removed]",
      "text/plain": [
       "<Figure size 432x288 with 1 Axes>"
      ]
     },
     "metadata": {
      "needs_background": "light"
     },
     "output_type": "display_data"
    }
   ],
   "source": [
    "# plot scores\n",
    "days = ['day1', 'day2', 'day3', 'day4', 'day5']\n",
    "pyplot.plot(days, scores, marker='o', label='lstm')\n",
    "pyplot.show()"
   ]
  },
  {
   "cell_type": "code",
   "execution_count": 72,
   "metadata": {},
   "outputs": [
    {
     "name": "stdout",
     "output_type": "stream",
     "text": [
      "[[900.46378434 904.53773953 906.50206135 907.68463871 908.50058007\n",
      "           nan          nan          nan          nan          nan]\n",
      " [896.83529368 898.63213493 898.7296382  898.4456764  898.07227322\n",
      "           nan          nan          nan          nan          nan]\n",
      " [907.86877733 907.36625379 905.93087929 904.524956   903.38124904\n",
      "           nan          nan          nan          nan          nan]\n",
      " [938.36304441 938.45387676 937.73531353 937.14123568 936.83528775\n",
      "           nan          nan          nan          nan          nan]\n",
      " [952.87042275 952.43566731 950.83497331 949.2986975  948.18032175\n",
      "           nan          nan          nan          nan          nan]\n",
      " [946.26212844 946.54506025 945.83468887 945.04666334 944.49866587\n",
      "           nan          nan          nan          nan          nan]]\n"
     ]
    }
   ],
   "source": [
    "print(predictions)"
   ]
  },
  {
   "cell_type": "code",
   "execution_count": 62,
   "metadata": {},
   "outputs": [],
   "source": [
    "import matplotlib.pyplot as plt\n",
    "import seaborn as sns"
   ]
  },
  {
   "cell_type": "code",
   "execution_count": 89,
   "metadata": {},
   "outputs": [
    {
     "data": {
      "text/plain": [
       "array([900.46378434, 904.53773953, 906.50206135, 907.68463871,\n",
       "       908.50058007])"
      ]
     },
     "execution_count": 89,
     "metadata": {},
     "output_type": "execute_result"
    }
   ],
   "source": [
    "predictions.reshape(1,60)[0][0:5]"
   ]
  },
  {
   "cell_type": "code",
   "execution_count": 93,
   "metadata": {},
   "outputs": [
    {
     "data": {
      "text/plain": [
       "array([[900.46378434],\n",
       "       [904.53773953],\n",
       "       [906.50206135],\n",
       "       [907.68463871],\n",
       "       [908.50058007]])"
      ]
     },
     "execution_count": 93,
     "metadata": {},
     "output_type": "execute_result"
    }
   ],
   "source": [
    "predictions.reshape(-1,1)[0:5]"
   ]
  },
  {
   "cell_type": "code",
   "execution_count": 105,
   "metadata": {},
   "outputs": [
    {
     "data": {
      "text/plain": [
       "array([946.26212844, 946.54506025, 945.83468887, 945.04666334,\n",
       "       944.49866587])"
      ]
     },
     "execution_count": 105,
     "metadata": {},
     "output_type": "execute_result"
    }
   ],
   "source": [
    "predictions.reshape(1,60)[0][50:55]"
   ]
  },
  {
   "cell_type": "code",
   "execution_count": 102,
   "metadata": {},
   "outputs": [
    {
     "data": {
      "text/plain": [
       "896.8352936804295"
      ]
     },
     "execution_count": 102,
     "metadata": {},
     "output_type": "execute_result"
    }
   ],
   "source": [
    "predictions.reshape(-1,1)[10:15]"
   ]
  },
  {
   "cell_type": "code",
   "execution_count": 100,
   "metadata": {},
   "outputs": [
    {
     "ename": "ValueError",
     "evalue": "cannot reshape array of size 60 into shape (0,1)",
     "output_type": "error",
     "traceback": [
      "\u001b[0;31m---------------------------------------------------------------------------\u001b[0m",
      "\u001b[0;31mValueError\u001b[0m                                Traceback (most recent call last)",
      "\u001b[0;32m<ipython-input-100-b943ad34a34d>\u001b[0m in \u001b[0;36m<module>\u001b[0;34m\u001b[0m\n\u001b[1;32m      2\u001b[0m \u001b[0mplt\u001b[0m\u001b[0;34m.\u001b[0m\u001b[0mfigure\u001b[0m\u001b[0;34m(\u001b[0m\u001b[0mfigsize\u001b[0m\u001b[0;34m=\u001b[0m\u001b[0;34m(\u001b[0m\u001b[0;36m8\u001b[0m\u001b[0;34m,\u001b[0m\u001b[0;36m4\u001b[0m\u001b[0;34m)\u001b[0m\u001b[0;34m)\u001b[0m\u001b[0;34m\u001b[0m\u001b[0;34m\u001b[0m\u001b[0m\n\u001b[1;32m      3\u001b[0m \u001b[0mplt\u001b[0m\u001b[0;34m.\u001b[0m\u001b[0mplot\u001b[0m\u001b[0;34m(\u001b[0m\u001b[0maa\u001b[0m\u001b[0;34m,\u001b[0m \u001b[0mdataset\u001b[0m\u001b[0;34m[\u001b[0m\u001b[0;34m'Close'\u001b[0m\u001b[0;34m]\u001b[0m\u001b[0;34m.\u001b[0m\u001b[0mtail\u001b[0m\u001b[0;34m(\u001b[0m\u001b[0;36m20\u001b[0m\u001b[0;34m)\u001b[0m\u001b[0;34m.\u001b[0m\u001b[0mvalues\u001b[0m\u001b[0;34m,\u001b[0m \u001b[0mmarker\u001b[0m\u001b[0;34m=\u001b[0m\u001b[0;34m'.'\u001b[0m\u001b[0;34m,\u001b[0m \u001b[0mlabel\u001b[0m\u001b[0;34m=\u001b[0m\u001b[0;34m\"actual\"\u001b[0m\u001b[0;34m)\u001b[0m\u001b[0;34m\u001b[0m\u001b[0;34m\u001b[0m\u001b[0m\n\u001b[0;32m----> 4\u001b[0;31m \u001b[0mplt\u001b[0m\u001b[0;34m.\u001b[0m\u001b[0mplot\u001b[0m\u001b[0;34m(\u001b[0m\u001b[0maa\u001b[0m\u001b[0;34m,\u001b[0m \u001b[0marray\u001b[0m\u001b[0;34m(\u001b[0m\u001b[0mpredictions\u001b[0m\u001b[0;34m)\u001b[0m\u001b[0;34m.\u001b[0m\u001b[0mreshape\u001b[0m\u001b[0;34m(\u001b[0m\u001b[0;36m0\u001b[0m\u001b[0;34m,\u001b[0m\u001b[0;36m1\u001b[0m\u001b[0;34m)\u001b[0m\u001b[0;34m,\u001b[0m \u001b[0;34m'r'\u001b[0m\u001b[0;34m,\u001b[0m \u001b[0mlabel\u001b[0m\u001b[0;34m=\u001b[0m\u001b[0;34m\"prediction\"\u001b[0m\u001b[0;34m)\u001b[0m\u001b[0;34m\u001b[0m\u001b[0;34m\u001b[0m\u001b[0m\n\u001b[0m\u001b[1;32m      5\u001b[0m \u001b[0;31m# plt.tick_params(left=False, labelleft=True) #remove ticks\u001b[0m\u001b[0;34m\u001b[0m\u001b[0;34m\u001b[0m\u001b[0;34m\u001b[0m\u001b[0m\n\u001b[1;32m      6\u001b[0m \u001b[0mplt\u001b[0m\u001b[0;34m.\u001b[0m\u001b[0mtight_layout\u001b[0m\u001b[0;34m(\u001b[0m\u001b[0;34m)\u001b[0m\u001b[0;34m\u001b[0m\u001b[0;34m\u001b[0m\u001b[0m\n",
      "\u001b[0;31mValueError\u001b[0m: cannot reshape array of size 60 into shape (0,1)"
     ]
    },
    {
     "data": {
      "image/png": "[encoded data removed]",
      "text/plain": [
       "<Figure size 576x288 with 1 Axes>"
      ]
     },
     "metadata": {
      "needs_background": "light"
     },
     "output_type": "display_data"
    }
   ],
   "source": [
    "aa=[x for x in range(20)]\n",
    "plt.figure(figsize=(8,4))\n",
    "plt.plot(aa, dataset['Close'].tail(20).values, marker='.', label=\"actual\")\n",
    "plt.plot(aa, array(predictions).reshape(0,1), 'r', label=\"prediction\")\n",
    "# plt.tick_params(left=False, labelleft=True) #remove ticks\n",
    "plt.tight_layout()\n",
    "sns.despine(top=True)\n",
    "plt.subplots_adjust(left=0.07)\n",
    "plt.ylabel('Close Price', size=15)\n",
    "plt.xlabel('Time step', size=15)\n",
    "plt.legend(fontsize=15)\n",
    "plt.show();"
   ]
  },
  {
   "cell_type": "code",
   "execution_count": 72,
   "metadata": {},
   "outputs": [
    {
     "data": {
      "image/png": "[encoded data removed]",
      "text/plain": [
       "<Figure size 576x288 with 1 Axes>"
      ]
     },
     "metadata": {
      "needs_background": "light"
     },
     "output_type": "display_data"
    }
   ],
   "source": [
    "aa=[x for x in range(100)]\n",
    "plt.figure(figsize=(8,4))\n",
    "plt.plot(aa, dataset['Close'].tail(100).values, marker='.', label=\"actual\")\n",
    "plt.plot(aa, array(predictions).reshape(1,-1)[0], 'r', label=\"prediction\")\n",
    "# plt.tick_params(left=False, labelleft=True) #remove ticks\n",
    "plt.tight_layout()\n",
    "sns.despine(top=True)\n",
    "plt.subplots_adjust(left=0.07)\n",
    "plt.ylabel('Close Price', size=15)\n",
    "plt.xlabel('Time step', size=15)\n",
    "plt.legend(fontsize=15)\n",
    "plt.show();"
   ]
  },
  {
   "cell_type": "code",
   "execution_count": 462,
   "metadata": {},
   "outputs": [
    {
     "data": {
      "text/plain": [
       "(476, 5, 21)"
      ]
     },
     "execution_count": 462,
     "metadata": {},
     "output_type": "execute_result"
    }
   ],
   "source": [
    "train_x.shape"
   ]
  },
  {
   "cell_type": "code",
   "execution_count": 627,
   "metadata": {},
   "outputs": [
    {
     "data": {
      "text/plain": [
       "array([975.37830077, 972.51556239, 969.4270644 , 966.54663087,\n",
       "       964.20010436, 968.2076477 , 968.24049261, 968.04997461,\n",
       "       968.29251966, 969.39762206])"
      ]
     },
     "execution_count": 627,
     "metadata": {},
     "output_type": "execute_result"
    }
   ],
   "source": [
    "array(predictions).reshape(1,-1)[0]"
   ]
  },
  {
   "cell_type": "code",
   "execution_count": 464,
   "metadata": {},
   "outputs": [
    {
     "data": {
      "text/plain": [
       "(476, 5, 1)"
      ]
     },
     "execution_count": 464,
     "metadata": {},
     "output_type": "execute_result"
    }
   ],
   "source": [
    "train_y.shape"
   ]
  },
  {
   "cell_type": "code",
   "execution_count": 44,
   "metadata": {},
   "outputs": [],
   "source": [
    "l = []\n",
    "for i in predictions:\n",
    "    for j in i:\n",
    "        l.append(j)"
   ]
  },
  {
   "cell_type": "code",
   "execution_count": 46,
   "metadata": {},
   "outputs": [
    {
     "data": {
      "text/plain": [
       "array([940.5 , 947.  , 949.75, 949.5 , 961.  , 965.  , 959.25, 954.5 ,\n",
       "       957.  , 959.25, 959.  , 959.75, 959.5 , 958.5 , 946.75, 947.75,\n",
       "       946.25, 943.5 , 945.25, 949.25])"
      ]
     },
     "execution_count": 46,
     "metadata": {},
     "output_type": "execute_result"
    }
   ],
   "source": [
    "actual = dataset['Close'].tail(20).values\n",
    "actual"
   ]
  },
  {
   "cell_type": "code",
   "execution_count": 47,
   "metadata": {},
   "outputs": [
    {
     "data": {
      "text/plain": [
       "array([ 5.9657504 ,  6.39910054,  9.48317322, 13.67906693,  5.82292092,\n",
       "       -7.37821543,  3.87020302, 14.9960258 , 17.97796428, 19.0816091 ,\n",
       "       -5.43170062, -1.68184122,  4.05360118, 10.2904675 , 25.62102956,\n",
       "        5.92947179, 13.36700633, 22.51599926, 25.91693294, 25.22096458])"
      ]
     },
     "execution_count": 47,
     "metadata": {},
     "output_type": "execute_result"
    }
   ],
   "source": [
    "l-actual"
   ]
  },
  {
   "cell_type": "code",
   "execution_count": 48,
   "metadata": {},
   "outputs": [
    {
     "data": {
      "text/plain": [
       "12.234152230620385"
      ]
     },
     "execution_count": 48,
     "metadata": {},
     "output_type": "execute_result"
    }
   ],
   "source": [
    "mean_absolute_error(l,actual) # last time 16.136207627505065"
   ]
  },
  {
   "cell_type": "code",
   "execution_count": null,
   "metadata": {},
   "outputs": [],
   "source": []
  }
 ],
 "metadata": {
  "kernelspec": {
   "display_name": "Python 3",
   "language": "python",
   "name": "python3"
  },
  "language_info": {
   "codemirror_mode": {
    "name": "ipython",
    "version": 3
   },
   "file_extension": ".py",
   "mimetype": "text/x-python",
   "name": "python",
   "nbconvert_exporter": "python",
   "pygments_lexer": "ipython3",
   "version": "3.7.4"
  }
 },
 "nbformat": 4,
 "nbformat_minor": 4
}
